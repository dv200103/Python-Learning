{
 "cells": [
  {
   "cell_type": "markdown",
   "id": "7985a1ff",
   "metadata": {},
   "source": [
    "# Write a program to create a function show_employee() using the following conditions.\n",
    "\n",
    "# It should accept the employee’s name, age and salary and display both.\n",
    "\n",
    "# If the salary is missing in the function call, then assign default value 9000 to salary."
   ]
  },
  {
   "cell_type": "code",
   "execution_count": null,
   "id": "a60a5567",
   "metadata": {},
   "outputs": [],
   "source": [
    "def show_employee(n,a,s):\n",
    "    return n,a,s\n",
    "\n",
    "Name = input(\"Enter your name: \")\n",
    "Age = input(\"Enter your age: \")\n",
    "\n",
    "try:\n",
    "    Salary = int(input(\"Enter your salary: \"))\n",
    "except ValueError:\n",
    "    Salary = 9000\n",
    "\n",
    "emp_details = show_employee(Name,Age,Salary)\n",
    "emp_details"
   ]
  }
 ],
 "metadata": {
  "kernelspec": {
   "display_name": "Python 3 (ipykernel)",
   "language": "python",
   "name": "python3"
  },
  "language_info": {
   "codemirror_mode": {
    "name": "ipython",
    "version": 3
   },
   "file_extension": ".py",
   "mimetype": "text/x-python",
   "name": "python",
   "nbconvert_exporter": "python",
   "pygments_lexer": "ipython3",
   "version": "3.11.4"
  }
 },
 "nbformat": 4,
 "nbformat_minor": 5
}
