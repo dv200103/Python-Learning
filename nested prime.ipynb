{
 "cells": [
  {
   "cell_type": "code",
   "execution_count": null,
   "id": "c580ba78",
   "metadata": {},
   "outputs": [],
   "source": [
    "n = int(input(\"Ënter the number:\"))\n",
    "if n==0:\n",
    "    print(\"Please enter a positive number only\")\n",
    "elif n==1:\n",
    "    print(\"1 is neither a composite nor a prime number\")\n",
    "elif n==2:\n",
    "    print(\"1 is neither a composite nor a prime number\")\n",
    "    print(\"2 is prime number\")  \n",
    "elif n==3:\n",
    "    print(\"1 is neither a composite nor a prime number\")\n",
    "    print(\"2 is prime number\")\n",
    "    print(\"3 is prime number\")\n",
    "else:\n",
    "    print(\"1 is neither a composite nor a prime number\")\n",
    "    print(\"2 is prime number\")\n",
    "    print(\"3 is prime number\")\n",
    "    \n",
    "for i in range(4,n+1):\n",
    "    \n",
    "    for j in range(2,i):\n",
    "        #print(i,\"divides by\", j)\n",
    "        if i%j!=0:\n",
    "            if j==i-1:\n",
    "                print(f\"{i} is Prime Number\")\n",
    "            #continue\n",
    "        elif i%j==0:\n",
    "            print(f\"{i} is NOT a prime Number\")\n",
    "            break\n",
    "        #elif j==1:\n",
    "            #print(f\"{i} is a prime Number\")\n",
    "        \n",
    "   \n",
    "    "
   ]
  },
  {
   "cell_type": "code",
   "execution_count": null,
   "id": "c9dbdc6a",
   "metadata": {},
   "outputs": [],
   "source": [
    "n = int(input(\"Ënter the number:\"))\n",
    "if n==0:\n",
    "    print(\"Please enter a positive number only\")\n",
    "elif n==1:\n",
    "    print(\"1 is neither a composite nor a prime number\")\n",
    "elif n==2:\n",
    "    print(\"1 is neither a composite nor a prime number\")\n",
    "    print(\"2 is prime number\")  \n",
    "elif n==3:\n",
    "    print(\"1 is neither a composite nor a prime number\")\n",
    "    print(\"2 is prime number\")\n",
    "    print(\"3 is prime number\")\n",
    "else:\n",
    "    print(\"1 is neither a composite nor a prime number\")\n",
    "    print(\"2 is prime number\")\n",
    "    print(\"3 is prime number\")\n",
    "    \n",
    "for i in range(4,n+1):\n",
    "    \n",
    "    for j in range(2,i):\n",
    "        if i%j==0:\n",
    "            print(f\"{i} is NOT a prime Number\")\n",
    "            break\n",
    "        elif i%j!=0:\n",
    "            if j==i-1:\n",
    "                print(f\"{i} is Prime Number\")"
   ]
  }
 ],
 "metadata": {
  "kernelspec": {
   "display_name": "Python 3 (ipykernel)",
   "language": "python",
   "name": "python3"
  },
  "language_info": {
   "codemirror_mode": {
    "name": "ipython",
    "version": 3
   },
   "file_extension": ".py",
   "mimetype": "text/x-python",
   "name": "python",
   "nbconvert_exporter": "python",
   "pygments_lexer": "ipython3",
   "version": "3.11.4"
  }
 },
 "nbformat": 4,
 "nbformat_minor": 5
}
