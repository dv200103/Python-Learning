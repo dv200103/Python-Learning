{
 "cells": [
  {
   "cell_type": "code",
   "execution_count": null,
   "id": "41c05841",
   "metadata": {},
   "outputs": [],
   "source": [
    "#Write a program (W.A.P) to check if the age of the person is eligible for voting or not.\n",
    "\n",
    "Age = int(input(\"Enter your age: \"))\n",
    "if Age>=18:\n",
    "    print(f\"{Age} is eligible age for voting\")\n",
    "else:\n",
    "    print(f\"{Age} is not eligible age for voting\")"
   ]
  },
  {
   "cell_type": "code",
   "execution_count": null,
   "id": "e9879102",
   "metadata": {},
   "outputs": [],
   "source": [
    "#W.A.P to print multiples of 3 and 7 from n to 1 for e.g if n=21 print 21,18,15,14.\n",
    "\n",
    "n = int(input(\"Enter the number: \"))\n",
    "for i in range(n,0,-1):\n",
    "    if i%3==0 and i%7==0:\n",
    "        print(f\"{i} is multiple of 3 as well as 7\")\n",
    "    elif i%3==0:\n",
    "        print(f\"{i} is multiple of 3\")\n",
    "    elif i%7==0:\n",
    "        print(f\"{i} is multiple of 7\")"
   ]
  },
  {
   "cell_type": "code",
   "execution_count": null,
   "id": "820224e3",
   "metadata": {},
   "outputs": [],
   "source": [
    "#W.A.P to print Arithmetic Progression as given.  THIS IS STATIC PROGRAM OF THE GIVEN QUESTION\n",
    "#1,4,7,10......upto 15th term.\n",
    "\n",
    "for i in range(1,45,+3):\n",
    "    print(f\"{i}\")"
   ]
  },
  {
   "cell_type": "code",
   "execution_count": null,
   "id": "f8fb9b9c",
   "metadata": {},
   "outputs": [],
   "source": [
    "#W.A.P to print Arithmetic Progression as given.  THIS IS DYNAMIC PROGRAM OF THE GIVEN QUESTION THROUGH WHILE LOOP\n",
    "#1,4,7,10......upto 15th term.\n",
    "\n",
    "n = int(input(\"Enter the number of terms you want to print: \"))\n",
    "i=1\n",
    "j=1\n",
    "while i<=n:\n",
    "    print(f\"{j}\")\n",
    "    i=i+1\n",
    "    j=j+3"
   ]
  },
  {
   "cell_type": "code",
   "execution_count": null,
   "id": "c61c114d",
   "metadata": {},
   "outputs": [],
   "source": [
    "#W.A.P to print Arithmetic Progression as given.  THIS IS DYNAMIC PROGRAM OF THE GIVEN QUESTION THROUGH FOR LOOP\n",
    "#1,4,7,10......upto 15th term.\n",
    "\n",
    "n = int(input(\"Enter the number of terms you want to print: \"))\n",
    "j=1\n",
    "for i in range(1,n+1):\n",
    "    print(f\"{i}th term is {j}.\")\n",
    "    j=j+3"
   ]
  }
 ],
 "metadata": {
  "kernelspec": {
   "display_name": "Python 3 (ipykernel)",
   "language": "python",
   "name": "python3"
  },
  "language_info": {
   "codemirror_mode": {
    "name": "ipython",
    "version": 3
   },
   "file_extension": ".py",
   "mimetype": "text/x-python",
   "name": "python",
   "nbconvert_exporter": "python",
   "pygments_lexer": "ipython3",
   "version": "3.11.4"
  }
 },
 "nbformat": 4,
 "nbformat_minor": 5
}
