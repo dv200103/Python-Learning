{
 "cells": [
  {
   "cell_type": "markdown",
   "id": "d02092b7",
   "metadata": {},
   "source": [
    "\n",
    "# Write a program to split a given string on hyphens and display each substring.\n",
    "\n",
    "# Given:   str1 = \"Emma-is-a-data-scientist”"
   ]
  },
  {
   "cell_type": "code",
   "execution_count": null,
   "id": "26fe46dd",
   "metadata": {},
   "outputs": [],
   "source": [
    "str1 = \"Emma-is-a-data-scientist\"\n",
    "str1.split(\"-\")"
   ]
  }
 ],
 "metadata": {
  "kernelspec": {
   "display_name": "Python 3 (ipykernel)",
   "language": "python",
   "name": "python3"
  },
  "language_info": {
   "codemirror_mode": {
    "name": "ipython",
    "version": 3
   },
   "file_extension": ".py",
   "mimetype": "text/x-python",
   "name": "python",
   "nbconvert_exporter": "python",
   "pygments_lexer": "ipython3",
   "version": "3.11.4"
  }
 },
 "nbformat": 4,
 "nbformat_minor": 5
}
