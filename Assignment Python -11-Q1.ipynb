{
 "cells": [
  {
   "cell_type": "markdown",
   "id": "5e27c5ee",
   "metadata": {},
   "source": [
    "# Write a regular expression to search digits inside a string."
   ]
  },
  {
   "cell_type": "code",
   "execution_count": 3,
   "id": "ef6233a3",
   "metadata": {},
   "outputs": [
    {
     "name": "stdout",
     "output_type": "stream",
     "text": [
      "['9', '5', '7', '4', '4', '4', '6', '7', '8', '5', '7', '6', '4', '5', '4', '5', '4', '3', '3']\n"
     ]
    }
   ],
   "source": [
    "import re\n",
    "string = \"uahiiiufdddsijh9sdvsdv5dvsd7v4vsd4vdlkn daobjsdisvsrc4ac  6   a785764545433hdiqdiwqdi\"\n",
    "x = re.findall(\"[0-9]\",string)\n",
    "print(x)"
   ]
  }
 ],
 "metadata": {
  "kernelspec": {
   "display_name": "Python 3 (ipykernel)",
   "language": "python",
   "name": "python3"
  },
  "language_info": {
   "codemirror_mode": {
    "name": "ipython",
    "version": 3
   },
   "file_extension": ".py",
   "mimetype": "text/x-python",
   "name": "python",
   "nbconvert_exporter": "python",
   "pygments_lexer": "ipython3",
   "version": "3.11.4"
  }
 },
 "nbformat": 4,
 "nbformat_minor": 5
}
