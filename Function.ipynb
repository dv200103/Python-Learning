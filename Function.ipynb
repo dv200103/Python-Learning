{
 "cells": [
  {
   "cell_type": "markdown",
   "id": "3210d393",
   "metadata": {},
   "source": [
    "# W.A.P to take two input three times and show which of them is greater and smaller."
   ]
  },
  {
   "cell_type": "code",
   "execution_count": null,
   "id": "47eaf7e3",
   "metadata": {},
   "outputs": [],
   "source": [
    "# we can't use loop for above question by using loop we can't use at any instant at program but bu using function we can use that program at any instsnt while programming that's why we are using function method for above question. \n",
    "def inp(a,b):\n",
    "    if a>b:\n",
    "        print(f\"{a} is greater than b\")\n",
    "    elif b>a:\n",
    "        print(f\"{b} is greater than a\")\n",
    "    else:\n",
    "        print(f\"{a} is equal to {b}\")\n",
    "for i in range(3):\n",
    "    a = int(input(\"Enter the first number:\"))\n",
    "    \n",
    "    b = int(input(\"Enter the second number:\"))\n",
    "    inp(a,b)"
   ]
  },
  {
   "cell_type": "code",
   "execution_count": null,
   "id": "63412ec1",
   "metadata": {},
   "outputs": [],
   "source": [
    "def inp(a,b):\n",
    "    if a>b:\n",
    "        return a\n",
    "         \n",
    "    else:\n",
    "        return b\n",
    "    \n",
    "inp(4,5)"
   ]
  },
  {
   "cell_type": "markdown",
   "id": "06974ada",
   "metadata": {},
   "source": [
    "# W.A.P to take four inputs n1, n2, n3, n4 and do multipication of n1 and n2 and division of n3 and n4 and then do addition of both multiplication and division."
   ]
  },
  {
   "cell_type": "code",
   "execution_count": null,
   "id": "0f977dd1",
   "metadata": {},
   "outputs": [],
   "source": [
    "def mul(n1,n2):\n",
    "    m = n1 * n2\n",
    "    return m\n",
    "\n",
    "def div(n3,n4):\n",
    "    d = n3 // n4\n",
    "    return d\n",
    "\n",
    "n1 = int(input(\"Enter the first number: \"))\n",
    "n2 = int(input(\"Enter the second number: \"))\n",
    "n3 = int(input(\"Enter the third number: \"))\n",
    "n4 = int(input(\"Enter the fourth number: \"))\n",
    "\n",
    "print(mul(n1,n2) + div(n3,n4))\n"
   ]
  },
  {
   "cell_type": "markdown",
   "id": "467e2009",
   "metadata": {},
   "source": [
    "# W.A.P to show even numbers list by using filter and list(Lambda Function)."
   ]
  },
  {
   "cell_type": "code",
   "execution_count": null,
   "id": "dbb7d55c",
   "metadata": {},
   "outputs": [],
   "source": [
    "numbers = [i for i in range(1,11)]\n",
    "even_numbers_list = list(filter(lambda x: x % 2 == 0, numbers))\n",
    "print(f\"Even number list {even_numbers_list}\")"
   ]
  },
  {
   "cell_type": "markdown",
   "id": "6f6f1ad0",
   "metadata": {},
   "source": [
    "# W.A.P to show even numbers list by using filter and list(Def Function)."
   ]
  },
  {
   "cell_type": "code",
   "execution_count": null,
   "id": "8c7f38b0",
   "metadata": {},
   "outputs": [],
   "source": [
    "def even(x):\n",
    "    if x%2==0:\n",
    "        return x\n",
    "\n",
    "numbers = [i for i in range(1,11)]\n",
    "even_numbers_list = list(filter(even, numbers))\n",
    "print(f\"Even number list {even_numbers_list}\")"
   ]
  },
  {
   "cell_type": "markdown",
   "id": "3ce88bc1",
   "metadata": {},
   "source": [
    "# Map Function"
   ]
  },
  {
   "cell_type": "code",
   "execution_count": null,
   "id": "727c672e",
   "metadata": {},
   "outputs": [],
   "source": [
    "numbers = [i for i in range(1,11)]\n",
    "Map_list = list(map(lambda x: x*2,numbers))\n",
    "print(f\"Multiplication with 2 list {Map_list}\")"
   ]
  },
  {
   "cell_type": "markdown",
   "id": "d1b800f3",
   "metadata": {},
   "source": [
    "# Map Function for square root of list values."
   ]
  },
  {
   "cell_type": "code",
   "execution_count": null,
   "id": "b2e4a8c8",
   "metadata": {},
   "outputs": [],
   "source": [
    "import math\n",
    "numbers = [i for i in range(1,11)]\n",
    "Map_list = list(map(lambda x: math.sqrt(x),numbers))\n",
    "print(f\"Square root list {Map_list}\")"
   ]
  },
  {
   "cell_type": "markdown",
   "id": "ea853518",
   "metadata": {},
   "source": [
    "# Reduce Function"
   ]
  },
  {
   "cell_type": "code",
   "execution_count": null,
   "id": "d473117e",
   "metadata": {},
   "outputs": [],
   "source": [
    "# we have to import Reduce function from functools library.\n",
    "# Used for add, sub, div, multiply\n",
    "from functools import reduce\n",
    "numbers = [i for i in range(1,11)]\n",
    "sum_of_list = reduce(lambda x,y : x+y,numbers)\n",
    "\n",
    "print(f\"Sum of list is {sum_of_list}\")\n"
   ]
  },
  {
   "cell_type": "markdown",
   "id": "cec7b6fc",
   "metadata": {},
   "source": [
    "# Recurssive Function"
   ]
  },
  {
   "cell_type": "code",
   "execution_count": null,
   "id": "f9231494",
   "metadata": {},
   "outputs": [],
   "source": [
    "def fact(n):\n",
    "    if n == 0:\n",
    "        return 1\n",
    "    else:\n",
    "        return n*fact(n-1)\n",
    "    \n",
    "number = 7\n",
    "print(f\"The Factorial of {number} is {fact(number)} \")"
   ]
  },
  {
   "cell_type": "markdown",
   "id": "dc929083",
   "metadata": {},
   "source": [
    "# Fibonacci Series"
   ]
  },
  {
   "cell_type": "code",
   "execution_count": null,
   "id": "61bbdfbb",
   "metadata": {},
   "outputs": [],
   "source": [
    "def fibo(n):\n",
    "    if n <= 1:\n",
    "        return 1\n",
    "    else:\n",
    "        return fibo(n-1) + fibo(n-2)\n",
    "    \n",
    "number = int(input(\"Enter the number here: \"))\n",
    "for i in range(number):\n",
    "    print(fibo(i))"
   ]
  }
 ],
 "metadata": {
  "kernelspec": {
   "display_name": "Python 3 (ipykernel)",
   "language": "python",
   "name": "python3"
  },
  "language_info": {
   "codemirror_mode": {
    "name": "ipython",
    "version": 3
   },
   "file_extension": ".py",
   "mimetype": "text/x-python",
   "name": "python",
   "nbconvert_exporter": "python",
   "pygments_lexer": "ipython3",
   "version": "3.11.4"
  }
 },
 "nbformat": 4,
 "nbformat_minor": 5
}
