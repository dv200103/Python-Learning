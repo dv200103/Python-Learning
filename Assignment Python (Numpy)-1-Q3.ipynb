{
 "cells": [
  {
   "cell_type": "markdown",
   "id": "43b4dc41",
   "metadata": {},
   "source": [
    "# Write a program to show how Numpy taking less memory compared to Python List?"
   ]
  },
  {
   "cell_type": "code",
   "execution_count": 6,
   "id": "49303164",
   "metadata": {},
   "outputs": [
    {
     "name": "stdout",
     "output_type": "stream",
     "text": [
      "20\n",
      "104\n"
     ]
    }
   ],
   "source": [
    "import numpy as np\n",
    "import sys\n",
    "arr = np.array([1,2,4,6,7])\n",
    "print(arr.itemsize*len(arr)) # Total memory size of a array = Memory allocated for one element in array * Number of elements in array\n",
    "list1 = [1,2,4,6,7]          # Total memory size of a array = 4 * 5 = 20 Bytes.\n",
    "print(sys.getsizeof(list1))  # Gives list memory size in bytes."
   ]
  }
 ],
 "metadata": {
  "kernelspec": {
   "display_name": "Python 3 (ipykernel)",
   "language": "python",
   "name": "python3"
  },
  "language_info": {
   "codemirror_mode": {
    "name": "ipython",
    "version": 3
   },
   "file_extension": ".py",
   "mimetype": "text/x-python",
   "name": "python",
   "nbconvert_exporter": "python",
   "pygments_lexer": "ipython3",
   "version": "3.11.4"
  }
 },
 "nbformat": 4,
 "nbformat_minor": 5
}
