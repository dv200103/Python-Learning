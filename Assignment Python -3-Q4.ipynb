{
 "cells": [
  {
   "cell_type": "markdown",
   "id": "338ecbc7",
   "metadata": {},
   "source": [
    "# WAP to Return a set of elements present in Set A or B, but not both.\n",
    "\n",
    "# Given:           set1 = {10, 20, 30, 40, 50,60,70}                 set2 = {40, 50, 60, 70,80,90}"
   ]
  },
  {
   "cell_type": "code",
   "execution_count": null,
   "id": "49779273",
   "metadata": {},
   "outputs": [],
   "source": [
    "set1 = {10, 20, 30, 40, 50,60,70} \n",
    "set2 = {40, 50, 60, 70,80,90}\n",
    "set1.symmetric_difference(set2)"
   ]
  }
 ],
 "metadata": {
  "kernelspec": {
   "display_name": "Python 3 (ipykernel)",
   "language": "python",
   "name": "python3"
  },
  "language_info": {
   "codemirror_mode": {
    "name": "ipython",
    "version": 3
   },
   "file_extension": ".py",
   "mimetype": "text/x-python",
   "name": "python",
   "nbconvert_exporter": "python",
   "pygments_lexer": "ipython3",
   "version": "3.11.4"
  }
 },
 "nbformat": 4,
 "nbformat_minor": 5
}
