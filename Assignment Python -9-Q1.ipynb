{
 "cells": [
  {
   "cell_type": "markdown",
   "id": "4da27aa1",
   "metadata": {},
   "source": [
    "\n",
    "\n",
    "# WAP to Define a class attribute”color” with a default value white. I.e., Every Vehicle should be white.\n",
    "\n",
    "# Expected Output:\n",
    "\n",
    "# Color: White, Vehicle name: School Volvo, Speed: 180, Mileage: 12\n",
    "\n",
    "# Color: White, Vehicle name: Audi Q5, Speed: 240, Mileage: 18\n",
    "\n"
   ]
  },
  {
   "cell_type": "code",
   "execution_count": null,
   "id": "2d761960",
   "metadata": {},
   "outputs": [],
   "source": [
    "class car:\n",
    "    Color = \"White\"\n",
    "    def __init__(self,Vehicle_Name,Speed,Mileage):\n",
    "        self.color = self.Color\n",
    "        self.vehicle_name= Vehicle_Name\n",
    "        self.speed = Speed\n",
    "        self.mileage = Mileage\n",
    "    \n",
    "    def car_details(self):\n",
    "        print(f\"Color:{self.color}, Vehicle Name:{self.vehicle_name}, Speed:{self.speed}, Mileage:{self.mileage}\") \n",
    "        \n",
    "Model = car(\"School Volvo\", 180, 12)\n",
    "Model.car_details()\n",
    "Model = car(\"Audi Q5\", 240, 18)\n",
    "Model.car_details()"
   ]
  }
 ],
 "metadata": {
  "kernelspec": {
   "display_name": "Python 3 (ipykernel)",
   "language": "python",
   "name": "python3"
  },
  "language_info": {
   "codemirror_mode": {
    "name": "ipython",
    "version": 3
   },
   "file_extension": ".py",
   "mimetype": "text/x-python",
   "name": "python",
   "nbconvert_exporter": "python",
   "pygments_lexer": "ipython3",
   "version": "3.11.4"
  }
 },
 "nbformat": 4,
 "nbformat_minor": 5
}
