{
 "cells": [
  {
   "cell_type": "markdown",
   "id": "283e01a8",
   "metadata": {},
   "source": [
    "# WAP to create an age list from the given DOB list using Lambda function.\n",
    "\n",
    "#               list1=[1991,1992,1994,1996,1998,2000,2001,2002,2004]"
   ]
  },
  {
   "cell_type": "code",
   "execution_count": null,
   "id": "6ba40971",
   "metadata": {},
   "outputs": [],
   "source": [
    "list1=[1991,1992,1994,1996,1998,2000,2001,2002,2004]\n",
    "Current_year = 2023\n",
    "Age = lambda x:Current_year-x\n",
    "Age_list = list(map(Age,list1))\n",
    "Age_list"
   ]
  }
 ],
 "metadata": {
  "kernelspec": {
   "display_name": "Python 3 (ipykernel)",
   "language": "python",
   "name": "python3"
  },
  "language_info": {
   "codemirror_mode": {
    "name": "ipython",
    "version": 3
   },
   "file_extension": ".py",
   "mimetype": "text/x-python",
   "name": "python",
   "nbconvert_exporter": "python",
   "pygments_lexer": "ipython3",
   "version": "3.11.4"
  }
 },
 "nbformat": 4,
 "nbformat_minor": 5
}
