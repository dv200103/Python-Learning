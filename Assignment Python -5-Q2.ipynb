{
 "cells": [
  {
   "cell_type": "markdown",
   "id": "8d136b1f",
   "metadata": {},
   "source": [
    "# Write a program to calculate the sum of series up to n term. For example, if n =5 the series will become \n",
    "\n",
    "# 2 + 22 + 222 + 2222 + 22222 = 24690"
   ]
  },
  {
   "cell_type": "code",
   "execution_count": null,
   "id": "96507b37",
   "metadata": {},
   "outputs": [],
   "source": [
    "n=5\n",
    "a=0\n",
    "b=2\n",
    "for i in range(n):\n",
    "    a=a+b\n",
    "    b=b*10+2\n",
    "    \n",
    "print(f\"The sum of the series up to {n} term is: {a}\")"
   ]
  }
 ],
 "metadata": {
  "kernelspec": {
   "display_name": "Python 3 (ipykernel)",
   "language": "python",
   "name": "python3"
  },
  "language_info": {
   "codemirror_mode": {
    "name": "ipython",
    "version": 3
   },
   "file_extension": ".py",
   "mimetype": "text/x-python",
   "name": "python",
   "nbconvert_exporter": "python",
   "pygments_lexer": "ipython3",
   "version": "3.11.4"
  }
 },
 "nbformat": 4,
 "nbformat_minor": 5
}
