{
 "cells": [
  {
   "cell_type": "markdown",
   "id": "5d96d8e1",
   "metadata": {},
   "source": [
    "\n",
    "\n",
    "# Write a Python program to change Brad’s salary to 85000 in the following dictionary.\n",
    "\n",
    "# Given:      sample_dict = {‘emp1': {'name': 'Jhon', 'salary': 75000},\n",
    "\n",
    "#  \t\t      'emp2': {'name': 'Emma', 'salary': 80000},\n",
    "\n",
    "# \t\t\t      'emp3': {'name': 'Brad', 'salary': 500}}\n",
    "\n"
   ]
  },
  {
   "cell_type": "code",
   "execution_count": null,
   "id": "6ebec52e",
   "metadata": {},
   "outputs": [],
   "source": [
    "sample_dict = {'emp1': {'name': 'Jhon', 'salary': 75000},\n",
    "'emp2': {'name': 'Emma', 'salary': 80000},\n",
    "'emp3': {'name': 'Brad', 'salary': 500}}\n",
    "\n",
    "sample_dict[\"emp3\"][\"salary\"] = 85000\n",
    "sample_dict"
   ]
  }
 ],
 "metadata": {
  "kernelspec": {
   "display_name": "Python 3 (ipykernel)",
   "language": "python",
   "name": "python3"
  },
  "language_info": {
   "codemirror_mode": {
    "name": "ipython",
    "version": 3
   },
   "file_extension": ".py",
   "mimetype": "text/x-python",
   "name": "python",
   "nbconvert_exporter": "python",
   "pygments_lexer": "ipython3",
   "version": "3.11.4"
  }
 },
 "nbformat": 4,
 "nbformat_minor": 5
}
