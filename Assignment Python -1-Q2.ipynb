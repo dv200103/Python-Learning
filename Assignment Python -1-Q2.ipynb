{
 "cells": [
  {
   "cell_type": "markdown",
   "id": "b8f1cea2",
   "metadata": {},
   "source": [
    "# Create a python script to print hello, world! four times."
   ]
  },
  {
   "cell_type": "code",
   "execution_count": null,
   "id": "a599ca15",
   "metadata": {},
   "outputs": [],
   "source": [
    "for i in range(4):\n",
    "    print(\"Hello World!\")"
   ]
  }
 ],
 "metadata": {
  "kernelspec": {
   "display_name": "Python 3 (ipykernel)",
   "language": "python",
   "name": "python3"
  },
  "language_info": {
   "codemirror_mode": {
    "name": "ipython",
    "version": 3
   },
   "file_extension": ".py",
   "mimetype": "text/x-python",
   "name": "python",
   "nbconvert_exporter": "python",
   "pygments_lexer": "ipython3",
   "version": "3.11.4"
  }
 },
 "nbformat": 4,
 "nbformat_minor": 5
}
