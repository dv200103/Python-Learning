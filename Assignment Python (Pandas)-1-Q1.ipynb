{
 "cells": [
  {
   "cell_type": "markdown",
   "id": "0c230661",
   "metadata": {},
   "source": [
    "# WAP to create number series and apply the function, f(x) = x/2 on each and every element of the pandas series."
   ]
  },
  {
   "cell_type": "code",
   "execution_count": 28,
   "id": "387fde26",
   "metadata": {},
   "outputs": [
    {
     "data": {
      "text/plain": [
       "0    1.0\n",
       "1    2.0\n",
       "2    4.5\n",
       "3    2.0\n",
       "4    8.5\n",
       "dtype: float64"
      ]
     },
     "execution_count": 28,
     "metadata": {},
     "output_type": "execute_result"
    }
   ],
   "source": [
    "import pandas as pd\n",
    "data = [2,4,9,4,17]\n",
    "x = pd.Series(data)\n",
    "f = lambda y:y/2\n",
    "f(x)"
   ]
  }
 ],
 "metadata": {
  "kernelspec": {
   "display_name": "Python 3 (ipykernel)",
   "language": "python",
   "name": "python3"
  },
  "language_info": {
   "codemirror_mode": {
    "name": "ipython",
    "version": 3
   },
   "file_extension": ".py",
   "mimetype": "text/x-python",
   "name": "python",
   "nbconvert_exporter": "python",
   "pygments_lexer": "ipython3",
   "version": "3.11.4"
  }
 },
 "nbformat": 4,
 "nbformat_minor": 5
}
