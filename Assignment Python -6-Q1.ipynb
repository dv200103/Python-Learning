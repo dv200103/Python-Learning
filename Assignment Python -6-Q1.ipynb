{
 "cells": [
  {
   "cell_type": "markdown",
   "id": "85326a4e",
   "metadata": {},
   "source": [
    "# WAP to Find the element in a given list is “Even” or “ODD” using List Comprehension.\n",
    "\n",
    "# List1= [12,23,34,45,56,67,78,89,90]"
   ]
  },
  {
   "cell_type": "code",
   "execution_count": null,
   "id": "4d8b5457",
   "metadata": {},
   "outputs": [],
   "source": [
    "List1= [12,23,34,45,56,67,78,89,90]\n",
    "comp = [f\"{i} even\" if i%2==0 else f\"{i} odd\" for i in List1]\n",
    "print(comp)"
   ]
  }
 ],
 "metadata": {
  "kernelspec": {
   "display_name": "Python 3 (ipykernel)",
   "language": "python",
   "name": "python3"
  },
  "language_info": {
   "codemirror_mode": {
    "name": "ipython",
    "version": 3
   },
   "file_extension": ".py",
   "mimetype": "text/x-python",
   "name": "python",
   "nbconvert_exporter": "python",
   "pygments_lexer": "ipython3",
   "version": "3.11.4"
  }
 },
 "nbformat": 4,
 "nbformat_minor": 5
}
