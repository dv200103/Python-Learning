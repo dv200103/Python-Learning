{
 "cells": [
  {
   "cell_type": "code",
   "execution_count": 2,
   "id": "51a095e9",
   "metadata": {
    "scrolled": true
   },
   "outputs": [
    {
     "name": "stdout",
     "output_type": "stream",
     "text": [
      "[3 4 5]\n"
     ]
    }
   ],
   "source": [
    "import numpy as np\n",
    "list1 = [1,2,3]\n",
    "arr1 = np.array(list1)\n",
    "\n",
    "\n",
    "print(arr1 + 2)\n"
   ]
  },
  {
   "cell_type": "code",
   "execution_count": null,
   "id": "244ba74e",
   "metadata": {},
   "outputs": [],
   "source": [
    "type1 = np.array([2,4.3,6.965,45.6,56.66,1,44], int) # same work with differnt method and syntax for np.array is np.array(argument,datatype)\n",
    "print(type1)\n",
    "print(type(type1))"
   ]
  },
  {
   "cell_type": "code",
   "execution_count": null,
   "id": "ed2e0432",
   "metadata": {},
   "outputs": [],
   "source": [
    "type1.dtype # To check datatype of the array."
   ]
  },
  {
   "cell_type": "code",
   "execution_count": null,
   "id": "2cbf3b0f",
   "metadata": {},
   "outputs": [],
   "source": [
    "type1.shape # To check shape(Rows,Column) of the array."
   ]
  },
  {
   "cell_type": "code",
   "execution_count": null,
   "id": "e27392d4",
   "metadata": {},
   "outputs": [],
   "source": [
    "type1.size"
   ]
  },
  {
   "cell_type": "code",
   "execution_count": null,
   "id": "0c249d72",
   "metadata": {},
   "outputs": [],
   "source": [
    "type1.itemsize # It tells you how much memory, in bytes, is occupied by one element of the array. "
   ]
  },
  {
   "cell_type": "code",
   "execution_count": null,
   "id": "3734b747",
   "metadata": {},
   "outputs": [],
   "source": [
    "2 in type1 # In statement checks whether the value is present in array or not , return True if present otherwise False."
   ]
  },
  {
   "cell_type": "code",
   "execution_count": null,
   "id": "0309c577",
   "metadata": {},
   "outputs": [],
   "source": [
    "7 in type1"
   ]
  },
  {
   "cell_type": "code",
   "execution_count": null,
   "id": "0d4f7395",
   "metadata": {},
   "outputs": [],
   "source": [
    "type1 = np.array([[2,4.3,6.965,45.6,56.66,1,44]], dtype = \"int\")  # same work with differnt method\n",
    "print(type1)  # output will come as a 2D that we can recognized by just looking 2 brackets means 2D or we can run type1.ndim\n",
    "print(type(type1))"
   ]
  },
  {
   "cell_type": "code",
   "execution_count": null,
   "id": "1b3ad687",
   "metadata": {},
   "outputs": [],
   "source": [
    "marv = np.array([1,2,3,'4.0',5]) # presence of string element in an array ,converts all the element in string too(Homogemous array)\n",
    "print(\"Array marv: \",marv)"
   ]
  },
  {
   "cell_type": "code",
   "execution_count": null,
   "id": "c9b200cc",
   "metadata": {},
   "outputs": [],
   "source": [
    "mb = np.array([1,2,3.98,4,5]) # presence of float element in an array ,converts all the element in float too(Homogemous array)\n",
    "print(\"Array mb: \",mb)"
   ]
  },
  {
   "cell_type": "code",
   "execution_count": null,
   "id": "c4f5723e",
   "metadata": {},
   "outputs": [],
   "source": [
    "mar = np.array([1,2.66,3,'4.0',5]) # presence of string and float element in an array ,converts all the element in string too(Homogemous array)\n",
    "print(\"Array mar: \",mar)   # gives priorty to string when string and float both are present in array."
   ]
  },
  {
   "cell_type": "code",
   "execution_count": null,
   "id": "3bdfac1b",
   "metadata": {
    "scrolled": true
   },
   "outputs": [],
   "source": [
    "arr2 = np.arange(11,1,-1)\n",
    "print(arr2)\n",
    "\n",
    "print(type(arr2))"
   ]
  },
  {
   "cell_type": "code",
   "execution_count": null,
   "id": "d7c5bae5",
   "metadata": {},
   "outputs": [],
   "source": [
    "import numpy as np\n",
    "arr3 = np.random.randn(3,4) # we can give shape or order(Rows,Columns) for array for e.g (3,4) = 3*4 = 12 so 12 random values will get produced.\n",
    "arr3   # By default datatype for random values is float."
   ]
  },
  {
   "cell_type": "code",
   "execution_count": null,
   "id": "7f9e5ead",
   "metadata": {},
   "outputs": [],
   "source": [
    "import numpy as np\n",
    "arr3 = np.array(np.random.randn(9),dtype = \"int\")  # we can put the number for the data we want in array for 9 it will give 9 elements randomly.\n",
    "arr3 # we can get the random values of the dataype we want by puting it explicitily. "
   ]
  },
  {
   "cell_type": "code",
   "execution_count": null,
   "id": "8c2a77c6",
   "metadata": {
    "scrolled": true
   },
   "outputs": [],
   "source": [
    "import numpy as np\n",
    "arr3 = np.random.randint(1,5, size=(3,4))\n",
    "arr3"
   ]
  },
  {
   "cell_type": "code",
   "execution_count": null,
   "id": "3cf234dc",
   "metadata": {},
   "outputs": [],
   "source": [
    "arr4 = np.zeros(8).reshape(4,2)\n",
    "arr4\n",
    "arr4.ndim # check dimension"
   ]
  },
  {
   "cell_type": "code",
   "execution_count": null,
   "id": "60a18c75",
   "metadata": {},
   "outputs": [],
   "source": [
    "arr4 = np.zeros(8,dtype = int).reshape(4,2)\n",
    "arr4"
   ]
  },
  {
   "cell_type": "code",
   "execution_count": null,
   "id": "1519d3a4",
   "metadata": {},
   "outputs": [],
   "source": [
    "arr4 = np.ones(8).reshape(4,2)\n",
    "arr4\n",
    "#arr4.ndim # check dimension"
   ]
  },
  {
   "cell_type": "markdown",
   "id": "64c1980f",
   "metadata": {},
   "source": [
    "# Eye Array or matrix"
   ]
  },
  {
   "cell_type": "code",
   "execution_count": null,
   "id": "56b673f1",
   "metadata": {},
   "outputs": [],
   "source": [
    "np.eye(4,5)"
   ]
  },
  {
   "cell_type": "code",
   "execution_count": null,
   "id": "89e5cdf6",
   "metadata": {},
   "outputs": [],
   "source": [
    "np.eye(3,4) # eye returns 1 in main diagonal as floating by default and the rest as 0 , rows are 3 and column are 4, by default k=0 means main diagonal"
   ]
  },
  {
   "cell_type": "code",
   "execution_count": null,
   "id": "5a76d2ad",
   "metadata": {},
   "outputs": [],
   "source": [
    "np.eye(5) # 5 rows and if i did not mention columns then by default it will take rows number as a column number."
   ]
  },
  {
   "cell_type": "code",
   "execution_count": null,
   "id": "3db88523",
   "metadata": {},
   "outputs": [],
   "source": [
    "print(np.eye(3,4,k=-1)) # Lower Diagonal  "
   ]
  },
  {
   "cell_type": "code",
   "execution_count": null,
   "id": "ba4f8db9",
   "metadata": {},
   "outputs": [],
   "source": [
    "print(np.eye(3,4,k=1))  # Upper Diagonal"
   ]
  },
  {
   "cell_type": "code",
   "execution_count": 3,
   "id": "cdbc924b",
   "metadata": {},
   "outputs": [
    {
     "name": "stdout",
     "output_type": "stream",
     "text": [
      "[[ 1.  0.  0.  0.  0.]\n",
      " [ 0.  7.  0.  0.  0.]\n",
      " [ 0.  0. 13.  0.  0.]\n",
      " [ 0.  0.  0. 19.  0.]]\n"
     ]
    }
   ],
   "source": [
    "eyes = np.eye(4,5)\n",
    "aar2 = np.arange(1,21).reshape(4,5)\n",
    "print(eyes * aar2)"
   ]
  },
  {
   "cell_type": "markdown",
   "id": "02765a4a",
   "metadata": {},
   "source": [
    "# Dot Product of two array or matrix"
   ]
  },
  {
   "cell_type": "code",
   "execution_count": null,
   "id": "94591d2b",
   "metadata": {},
   "outputs": [],
   "source": [
    "g,e =np.arange(3),np.arange(3,6)\n",
    "print(g)\n",
    "print(e)    # One way np.dot(agrument1,agrument2)\n",
    "np.dot(g,e) # One Dimensinal dot product in which Every elememts gets multiplied with other element of same index and then all the results ofmultiplicaton gets add."
   ]
  },
  {
   "cell_type": "code",
   "execution_count": 5,
   "id": "5ae8b0ac",
   "metadata": {},
   "outputs": [
    {
     "name": "stdout",
     "output_type": "stream",
     "text": [
      "[[ 0  1  2  3]\n",
      " [ 4  5  6  7]\n",
      " [ 8  9 10 11]]\n",
      "\n",
      "[[ 0  1  2]\n",
      " [ 3  4  5]\n",
      " [ 6  7  8]\n",
      " [ 9 10 11]]\n",
      "\n"
     ]
    },
    {
     "data": {
      "text/plain": [
       "array([[ 42,  48,  54],\n",
       "       [114, 136, 158],\n",
       "       [186, 224, 262]])"
      ]
     },
     "execution_count": 5,
     "metadata": {},
     "output_type": "execute_result"
    }
   ],
   "source": [
    "h,i = np.arange(12).reshape(3,4), np.arange(12).reshape(4,3)\n",
    "print(h)\n",
    "print()\n",
    "print(i)\n",
    "print()\n",
    "h@i  # Two Dimension dot product, Rule 1: The column of the first array or matrix should match with the row of the second array or matrix and the shape(row,column) of the result of the dot product of two matrix or array gonna be row of the first matrix and the column of the second matrix."
   ]
  },
  {
   "cell_type": "code",
   "execution_count": null,
   "id": "9e786ae5",
   "metadata": {},
   "outputs": [],
   "source": [
    "g,e =np.arange(3),np.arange(3,6)\n",
    "print(g)\n",
    "print(e)\n",
    "g@e # Another python new version way for dot product agrument1*agrument2"
   ]
  },
  {
   "cell_type": "markdown",
   "id": "c1185432",
   "metadata": {},
   "source": [
    "# Cross Product of Two Array or Matrix"
   ]
  },
  {
   "cell_type": "code",
   "execution_count": 6,
   "id": "fa2d5f3b",
   "metadata": {},
   "outputs": [
    {
     "name": "stdout",
     "output_type": "stream",
     "text": [
      "[0 1 2]\n",
      "[3 4 5]\n"
     ]
    },
    {
     "data": {
      "text/plain": [
       "array([-3,  6, -3])"
      ]
     },
     "execution_count": 6,
     "metadata": {},
     "output_type": "execute_result"
    }
   ],
   "source": [
    "g,e =np.arange(3),np.arange(3,6)\n",
    "print(g)\n",
    "print(e)\n",
    "np.cross(g,e) # One dimesion cross product , see both array as a combined matrix, take perpendicular of 0th row and 0th column and then skip that row and column(becuase of one dimension array or matrix skip only column but in two dimension array skip both perpendicular row and column) and then do the cross multiply and then minus the two values(i-j+k), second perpendicular gonna be minus due to -j, e.g -(4-2)=-2"
   ]
  },
  {
   "cell_type": "code",
   "execution_count": 10,
   "id": "68ce8040",
   "metadata": {},
   "outputs": [
    {
     "name": "stdout",
     "output_type": "stream",
     "text": [
      "[[0 1]\n",
      " [2 3]]\n",
      "\n",
      "[[4 5]\n",
      " [6 7]]\n",
      "\n",
      "[-4 -4]\n"
     ]
    }
   ],
   "source": [
    "h,i = np.arange(4).reshape(2,2), np.arange(4,8).reshape(2,2)\n",
    "print(h)\n",
    "print()\n",
    "print(i)\n",
    "print()\n",
    "print(np.cross(h,i))  # Cross product of the two dimension array."
   ]
  },
  {
   "cell_type": "markdown",
   "id": "b19e01a7",
   "metadata": {},
   "source": [
    "# Identity Array or matrix"
   ]
  },
  {
   "cell_type": "code",
   "execution_count": null,
   "id": "7379c944",
   "metadata": {},
   "outputs": [],
   "source": [
    "print(np.identity(3))  # An identity array is a square matrix with all the main diagonal elements as 1 and the rest as 0 .The default type of elements is float."
   ]
  },
  {
   "cell_type": "code",
   "execution_count": null,
   "id": "9d32ed2a",
   "metadata": {},
   "outputs": [],
   "source": [
    "print(np.identity(3, int)) "
   ]
  },
  {
   "cell_type": "code",
   "execution_count": null,
   "id": "d26c296e",
   "metadata": {},
   "outputs": [],
   "source": [
    "print(np.identity(3).ndim)"
   ]
  },
  {
   "cell_type": "code",
   "execution_count": null,
   "id": "86ed9cd6",
   "metadata": {},
   "outputs": [],
   "source": [
    "np.linspace(2.0, 3.0, num=5, retstep=True, endpoint=False) # Return evenly spaced numbers over a specified interval."
   ]
  },
  {
   "cell_type": "code",
   "execution_count": null,
   "id": "377f0ca9",
   "metadata": {},
   "outputs": [],
   "source": [
    "arr = np.array([[2,3],[6,9],[45,87]]) \n",
    "arr.size # gives no of data in array"
   ]
  },
  {
   "cell_type": "code",
   "execution_count": null,
   "id": "ad67819f",
   "metadata": {},
   "outputs": [],
   "source": [
    "arr = np.array([[2,3],[6,9],[45,87]]) \n",
    "len(arr) # gives length of array"
   ]
  },
  {
   "cell_type": "code",
   "execution_count": null,
   "id": "c292a668",
   "metadata": {},
   "outputs": [],
   "source": [
    "arr3_t = arr3.T # Transpose\n",
    "arr3_t"
   ]
  },
  {
   "cell_type": "code",
   "execution_count": null,
   "id": "716fc370",
   "metadata": {},
   "outputs": [],
   "source": [
    "arr1=np.arange(1,21).reshape(4,5)\n",
    "arr1"
   ]
  },
  {
   "cell_type": "code",
   "execution_count": null,
   "id": "283e5b3a",
   "metadata": {},
   "outputs": [],
   "source": [
    "b=arr1[2:3,3:4] # slicing in array\n",
    "print(b)"
   ]
  },
  {
   "cell_type": "code",
   "execution_count": null,
   "id": "7cc0dc6a",
   "metadata": {
    "scrolled": true
   },
   "outputs": [],
   "source": [
    "arr1 + 1 # Vectorization"
   ]
  },
  {
   "cell_type": "code",
   "execution_count": null,
   "id": "de956d7b",
   "metadata": {},
   "outputs": [],
   "source": [
    "import numpy as np\n",
    "ardv1=np.random.randint(1,11,size=(2,5))\n",
    "ardv2=np.random.randint(21,31,size=(2,5))\n",
    "print(ardv1)\n",
    "print()\n",
    "print(ardv2)"
   ]
  },
  {
   "cell_type": "code",
   "execution_count": null,
   "id": "c5f14525",
   "metadata": {},
   "outputs": [],
   "source": [
    "ardv1 + ardv2    # Vectorization or Broadcasitng"
   ]
  },
  {
   "cell_type": "markdown",
   "id": "008c370b",
   "metadata": {},
   "source": [
    "# Broadcasting"
   ]
  },
  {
   "cell_type": "code",
   "execution_count": null,
   "id": "0428d6f1",
   "metadata": {},
   "outputs": [],
   "source": [
    "ab = np.array([1,2,3,5,6]) \n",
    "ac = np.array([4,7,2,5,7])\n",
    "print(ab)\n",
    "print()\n",
    "print(ac)\n",
    "print()               # Rule 1 satisfied\n",
    "print(np.add(ab,ac))  # Rule 1: In arithmetic operations both the arrays must have same shape."
   ]
  },
  {
   "cell_type": "code",
   "execution_count": null,
   "id": "204a5a01",
   "metadata": {},
   "outputs": [],
   "source": [
    "ab = np.array([1,2,3,5,6])   # Rule 2 satisfied\n",
    "ad = np.array([6]) \n",
    "print(ab)\n",
    "print()\n",
    "print(ad)\n",
    "print()\n",
    "print(np.add(ab,ad))  # Rule 2: If both the shape are different, then anyone of them(rows and column) must be equal  to 1."
   ]
  },
  {
   "cell_type": "code",
   "execution_count": null,
   "id": "5cfd9ca4",
   "metadata": {},
   "outputs": [],
   "source": [
    "ab = np.array([[1,2,3,5,6],[3,4,6,8,8,],[2,46,7,4,3]])\n",
    "ad = np.array([[6,68,9,6,7],[7,2,4,6,7]])\n",
    "print(ab+ad) # Rule 3: If rule 1 and rule 2 is not satisfied then it throws broadcasting error."
   ]
  },
  {
   "cell_type": "code",
   "execution_count": null,
   "id": "7ebf24b9",
   "metadata": {},
   "outputs": [],
   "source": [
    "num1 = np.array([[3,5,6],[3,3,6],[2,5,2]])\n",
    "num2 = np.array([9,7,4])  # Rule 2: If the shape of the two arrays does not match in any dimension, the array with shape equal to 1 in that dimension is stretched to match the other shape.\n",
    "#np.add(num1,num2) # gives broadcast shape error(Same thing as above rule 2 with another example).\n",
    "print(num1)  # Rule 2 satisfied\n",
    "print()\n",
    "print(num2)\n",
    "print()\n",
    "print(num1 + num2) "
   ]
  },
  {
   "cell_type": "code",
   "execution_count": null,
   "id": "5d8932c4",
   "metadata": {},
   "outputs": [],
   "source": [
    "num3 = np.arange(4).reshape(4,1)  # Rule 2 satisfied.\n",
    "num4 = np.arange(4)\n",
    "print(num3)\n",
    "print()\n",
    "print(num4)\n",
    "print()\n",
    "print(num3 + num4)"
   ]
  },
  {
   "cell_type": "code",
   "execution_count": null,
   "id": "ddf63ac8",
   "metadata": {},
   "outputs": [],
   "source": [
    "ardvv = np.array([1,2,3,4,5,6,])\n",
    "arvind = ardvv.reshape(2,3) # Reshape, for converting one dimensional array into two dimensional array, when this happen in numpy original 1 dimension array gets deleted and new array gets created with 2 dimension and due to python name binding property name of the variable which store that array gonna be same for the new array as well.\n",
    "print(arvind)"
   ]
  },
  {
   "cell_type": "code",
   "execution_count": null,
   "id": "fd711245",
   "metadata": {},
   "outputs": [],
   "source": [
    "ardv1.reshape(10) # Reshape two dimensional array into one dimensional array."
   ]
  },
  {
   "cell_type": "code",
   "execution_count": null,
   "id": "eea3fcf2",
   "metadata": {},
   "outputs": [],
   "source": [
    "iron = np.random.randn(16) # Gives one dimensional array\n",
    "iron"
   ]
  },
  {
   "cell_type": "code",
   "execution_count": null,
   "id": "387402e6",
   "metadata": {},
   "outputs": [],
   "source": [
    "hulk = np.random.randn(16).reshape(2,4,2) # Reshaping one dimensional array into three dimensional array\n",
    "hulk"
   ]
  },
  {
   "cell_type": "code",
   "execution_count": null,
   "id": "2f2d61be",
   "metadata": {},
   "outputs": [],
   "source": [
    "np.random.randn(16).reshape(2,4,2).reshape(16) # Reshaping three dimensional array into one dimensional array\n",
    "# we can do this way"
   ]
  },
  {
   "cell_type": "code",
   "execution_count": null,
   "id": "74651f66",
   "metadata": {},
   "outputs": [],
   "source": [
    "hulk.reshape(16) # or we can do this way both gives same result, value gonna be different because of use of random.randn, which gives random values."
   ]
  },
  {
   "cell_type": "code",
   "execution_count": null,
   "id": "d1ae0aa3",
   "metadata": {},
   "outputs": [],
   "source": [
    "arvind.shape"
   ]
  },
  {
   "cell_type": "code",
   "execution_count": null,
   "id": "b79d901b",
   "metadata": {},
   "outputs": [],
   "source": [
    "arvind.sum() # total summation of the elemnts in array"
   ]
  },
  {
   "cell_type": "code",
   "execution_count": null,
   "id": "d1b08366",
   "metadata": {},
   "outputs": [],
   "source": [
    "arvind.sum(axis=1) # for horizontal summation"
   ]
  },
  {
   "cell_type": "code",
   "execution_count": null,
   "id": "29e27a78",
   "metadata": {},
   "outputs": [],
   "source": [
    "arvind.sum(axis = 0) # for vertical summation"
   ]
  },
  {
   "cell_type": "code",
   "execution_count": null,
   "id": "017b09b9",
   "metadata": {},
   "outputs": [],
   "source": [
    "c = np.concatenate((ardv1,ardv2),axis = 0) #Concatenation in array , By default axis = 0 vertical stacking or concatenation (column wise).\n",
    "print(c)"
   ]
  },
  {
   "cell_type": "code",
   "execution_count": null,
   "id": "4cef94ed",
   "metadata": {},
   "outputs": [],
   "source": [
    "c = np.concatenate((ardv1,ardv2),axis = 1) #Concatenation in array ,axis = 1 horizontal stacking or concatenation (row wise) makes two element.\n",
    "print(c)"
   ]
  },
  {
   "cell_type": "code",
   "execution_count": null,
   "id": "40d7f98e",
   "metadata": {},
   "outputs": [],
   "source": [
    "x = np.array([1,2,3], float)\n",
    "y = x\n",
    "x[0] = 100\n",
    "z = x.copy() # The copy function can be used to create a new, separate copy of an array in memory.\n",
    "x[0] = 1000 # Changes made in original array will not affect new array.\n",
    "print(x)\n",
    "print(y)\n",
    "print(z) # Changes made in original array will not affect new array."
   ]
  },
  {
   "cell_type": "code",
   "execution_count": null,
   "id": "4aa33415",
   "metadata": {},
   "outputs": [],
   "source": [
    "x.tolist()  # Lists can also be created from arrays.\n",
    "list(x)"
   ]
  },
  {
   "cell_type": "code",
   "execution_count": null,
   "id": "223d8ee1",
   "metadata": {},
   "outputs": [],
   "source": [
    "v = x.tostring() # Convert array to string in binary language(not readable for human).\n",
    "v"
   ]
  },
  {
   "cell_type": "code",
   "execution_count": null,
   "id": "b247db95",
   "metadata": {},
   "outputs": [],
   "source": [
    "np.fromstring(v) # Convert string to array(readable for human being)."
   ]
  },
  {
   "cell_type": "code",
   "execution_count": null,
   "id": "957eca84",
   "metadata": {},
   "outputs": [],
   "source": [
    "print(x)\n",
    "x.fill(0) # To fill an array with a single value.\n",
    "print(x)"
   ]
  },
  {
   "cell_type": "code",
   "execution_count": null,
   "id": "313c58cb",
   "metadata": {
    "scrolled": false
   },
   "outputs": [],
   "source": [
    "arvind.flatten() # One-dimensional versions of multi-dimensional arrays can be generated with flatten."
   ]
  },
  {
   "cell_type": "code",
   "execution_count": null,
   "id": "43aa380e",
   "metadata": {
    "scrolled": true
   },
   "outputs": [],
   "source": [
    "z=z[:,np.newaxis] # Convert 1 D array into column vector, add axis after original 1 D array (original_length, 1).\n",
    "print(z)\n",
    "z.shape"
   ]
  },
  {
   "cell_type": "code",
   "execution_count": null,
   "id": "155dcbc7",
   "metadata": {},
   "outputs": [],
   "source": [
    "x=x[np.newaxis,:] # Convert 1 D array into row vector, add axis before original 1 D array (1, original_length).\n",
    "print(x)\n",
    "x.shape"
   ]
  },
  {
   "cell_type": "code",
   "execution_count": null,
   "id": "6f455fbb",
   "metadata": {},
   "outputs": [],
   "source": [
    "ardv1.max() # Gives maximum number from array. (Aggreagate Function)"
   ]
  },
  {
   "cell_type": "code",
   "execution_count": null,
   "id": "c508b655",
   "metadata": {},
   "outputs": [],
   "source": [
    "ardv1.min() # Gives minimum number from array. (Aggreagate Function)"
   ]
  },
  {
   "cell_type": "code",
   "execution_count": null,
   "id": "42f9acf0",
   "metadata": {},
   "outputs": [],
   "source": [
    "ardv1.max(axis=0) # Gives maximum number from verticallly (column wise). (Aggreagate Function)"
   ]
  },
  {
   "cell_type": "code",
   "execution_count": null,
   "id": "728a7a8c",
   "metadata": {},
   "outputs": [],
   "source": [
    "ardv1.max(axis=1) # Gives maximum number from horizontally (row wise). (Aggreagate Function)"
   ]
  },
  {
   "cell_type": "code",
   "execution_count": null,
   "id": "526942c7",
   "metadata": {},
   "outputs": [],
   "source": [
    "ardv1.mean() # (Aggreagate Function)"
   ]
  },
  {
   "cell_type": "code",
   "execution_count": null,
   "id": "b6da7177",
   "metadata": {},
   "outputs": [],
   "source": [
    "ardv1.var() # (Aggreagate Function)"
   ]
  },
  {
   "cell_type": "code",
   "execution_count": null,
   "id": "7c7b4a2d",
   "metadata": {},
   "outputs": [],
   "source": [
    "ardv1.std() # (Aggreagate Function)"
   ]
  },
  {
   "cell_type": "markdown",
   "id": "82cb9814",
   "metadata": {},
   "source": [
    "# Numpy Function"
   ]
  },
  {
   "cell_type": "code",
   "execution_count": null,
   "id": "4677457c",
   "metadata": {},
   "outputs": [],
   "source": [
    "f = np.array([33,44,22,345,55,22,5,666,44,66,221,67,53])"
   ]
  },
  {
   "cell_type": "code",
   "execution_count": null,
   "id": "cf57227d",
   "metadata": {},
   "outputs": [],
   "source": [
    "np.mean(f)"
   ]
  },
  {
   "cell_type": "code",
   "execution_count": null,
   "id": "ea4e73a4",
   "metadata": {},
   "outputs": [],
   "source": [
    "np.median(f)"
   ]
  },
  {
   "cell_type": "code",
   "execution_count": null,
   "id": "939126c2",
   "metadata": {},
   "outputs": [],
   "source": [
    "q1 = np.quantile(f,0.25)\n",
    "q3 = np.quantile(f,0.75)\n",
    "iqr = q3 - q1\n",
    "print(q3)\n",
    "print(q1)\n",
    "print(iqr)"
   ]
  },
  {
   "cell_type": "code",
   "execution_count": null,
   "id": "3acf3759",
   "metadata": {},
   "outputs": [],
   "source": [
    "upper_range = q3 + 1.5*iqr\n",
    "lower_range = q1 - 1.5*iqr\n",
    "print(upper_range)\n",
    "print(lower_range)"
   ]
  },
  {
   "cell_type": "code",
   "execution_count": null,
   "id": "70ca27ea",
   "metadata": {},
   "outputs": [],
   "source": [
    "g = np.array([[2,6,2,5,7],[9,7,1,3,5]])"
   ]
  },
  {
   "cell_type": "code",
   "execution_count": null,
   "id": "15c5592a",
   "metadata": {},
   "outputs": [],
   "source": [
    "np.corrcoef(g) "
   ]
  },
  {
   "cell_type": "code",
   "execution_count": null,
   "id": "c9c241a8",
   "metadata": {},
   "outputs": [],
   "source": [
    "np.cov(g) "
   ]
  },
  {
   "cell_type": "markdown",
   "id": "f34d68ae",
   "metadata": {},
   "source": [
    "# Math Function"
   ]
  },
  {
   "cell_type": "code",
   "execution_count": null,
   "id": "5d060ca9",
   "metadata": {},
   "outputs": [],
   "source": [
    "np.sin(48)"
   ]
  },
  {
   "cell_type": "code",
   "execution_count": null,
   "id": "c849a714",
   "metadata": {},
   "outputs": [],
   "source": [
    "np.cos(34)"
   ]
  },
  {
   "cell_type": "code",
   "execution_count": null,
   "id": "083d1fbc",
   "metadata": {},
   "outputs": [],
   "source": [
    "np.tan(96)"
   ]
  },
  {
   "cell_type": "code",
   "execution_count": null,
   "id": "6703a0f1",
   "metadata": {},
   "outputs": [],
   "source": [
    "np.log(44)"
   ]
  },
  {
   "cell_type": "code",
   "execution_count": null,
   "id": "ce233b45",
   "metadata": {},
   "outputs": [],
   "source": [
    "np.log10(55)"
   ]
  },
  {
   "cell_type": "code",
   "execution_count": null,
   "id": "6347c622",
   "metadata": {},
   "outputs": [],
   "source": [
    "np.sqrt(9)"
   ]
  },
  {
   "cell_type": "markdown",
   "id": "46ce2736",
   "metadata": {},
   "source": [
    "# Boolean indexing"
   ]
  },
  {
   "cell_type": "code",
   "execution_count": 3,
   "id": "46427d7b",
   "metadata": {},
   "outputs": [
    {
     "data": {
      "text/plain": [
       "array([[False,  True,  True],\n",
       "       [False, False,  True],\n",
       "       [False,  True, False]])"
      ]
     },
     "execution_count": 3,
     "metadata": {},
     "output_type": "execute_result"
    }
   ],
   "source": [
    "num1 = np.array([[3,5,6],[3,3,6],[2,5,2]])\n",
    "num1 > 4"
   ]
  },
  {
   "cell_type": "code",
   "execution_count": 4,
   "id": "5691e0fb",
   "metadata": {},
   "outputs": [
    {
     "data": {
      "text/plain": [
       "array([5, 6, 6, 5])"
      ]
     },
     "execution_count": 4,
     "metadata": {},
     "output_type": "execute_result"
    }
   ],
   "source": [
    "num1[num1>4]"
   ]
  },
  {
   "cell_type": "code",
   "execution_count": 5,
   "id": "c1335417",
   "metadata": {},
   "outputs": [
    {
     "data": {
      "text/plain": [
       "array([6, 6, 2, 2])"
      ]
     },
     "execution_count": 5,
     "metadata": {},
     "output_type": "execute_result"
    }
   ],
   "source": [
    "num1[num1 % 2==0]"
   ]
  }
 ],
 "metadata": {
  "kernelspec": {
   "display_name": "Python 3 (ipykernel)",
   "language": "python",
   "name": "python3"
  },
  "language_info": {
   "codemirror_mode": {
    "name": "ipython",
    "version": 3
   },
   "file_extension": ".py",
   "mimetype": "text/x-python",
   "name": "python",
   "nbconvert_exporter": "python",
   "pygments_lexer": "ipython3",
   "version": "3.11.4"
  }
 },
 "nbformat": 4,
 "nbformat_minor": 5
}
