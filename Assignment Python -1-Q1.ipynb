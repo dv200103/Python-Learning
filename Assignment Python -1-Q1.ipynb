{
 "cells": [
  {
   "cell_type": "markdown",
   "id": "d1bc84f2",
   "metadata": {},
   "source": [
    "# \"\"\" \n",
    "\n",
    "# Explain in detail what will be  the output of the following program?.\n",
    "\n",
    "# x = 4\n",
    "\n",
    "# y = x + 1\n",
    "\n",
    "# x = 2\n",
    "\n",
    "# print x, y\n",
    "\n",
    "# \"\"\""
   ]
  },
  {
   "cell_type": "code",
   "execution_count": null,
   "id": "b173c50b",
   "metadata": {},
   "outputs": [],
   "source": [
    "x = 4"
   ]
  },
  {
   "cell_type": "code",
   "execution_count": null,
   "id": "667d1aa1",
   "metadata": {},
   "outputs": [],
   "source": [
    "y = x + 1"
   ]
  },
  {
   "cell_type": "code",
   "execution_count": null,
   "id": "c3f812fa",
   "metadata": {},
   "outputs": [],
   "source": [
    "x = 2"
   ]
  },
  {
   "cell_type": "code",
   "execution_count": null,
   "id": "f95f41d3",
   "metadata": {},
   "outputs": [],
   "source": [
    "print (x,y)"
   ]
  }
 ],
 "metadata": {
  "kernelspec": {
   "display_name": "Python 3 (ipykernel)",
   "language": "python",
   "name": "python3"
  },
  "language_info": {
   "codemirror_mode": {
    "name": "ipython",
    "version": 3
   },
   "file_extension": ".py",
   "mimetype": "text/x-python",
   "name": "python",
   "nbconvert_exporter": "python",
   "pygments_lexer": "ipython3",
   "version": "3.11.4"
  }
 },
 "nbformat": 4,
 "nbformat_minor": 5
}
