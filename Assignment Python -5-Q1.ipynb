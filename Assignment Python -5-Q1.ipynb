{
 "cells": [
  {
   "cell_type": "markdown",
   "id": "340b336b",
   "metadata": {},
   "source": [
    "# Write a program to print the following number pattern using a for loop.\n",
    "\n",
    "# 1\n",
    "\n",
    "# 1 2\n",
    "\n",
    "# 1 2 3\n",
    "\n",
    "# 1 2 3 4\n",
    "\n",
    "# 1 2 3 4 5"
   ]
  },
  {
   "cell_type": "code",
   "execution_count": null,
   "id": "11c65bed",
   "metadata": {
    "scrolled": false
   },
   "outputs": [],
   "source": [
    "for i in range(1,6):\n",
    "    for j in range(1,i+1):\n",
    "        print(j, end=\" \")\n",
    "    print()"
   ]
  }
 ],
 "metadata": {
  "kernelspec": {
   "display_name": "Python 3 (ipykernel)",
   "language": "python",
   "name": "python3"
  },
  "language_info": {
   "codemirror_mode": {
    "name": "ipython",
    "version": 3
   },
   "file_extension": ".py",
   "mimetype": "text/x-python",
   "name": "python",
   "nbconvert_exporter": "python",
   "pygments_lexer": "ipython3",
   "version": "3.11.4"
  }
 },
 "nbformat": 4,
 "nbformat_minor": 5
}
