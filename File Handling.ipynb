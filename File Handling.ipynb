{
 "cells": [
  {
   "cell_type": "markdown",
   "id": "3b57a3ed",
   "metadata": {},
   "source": [
    "## File Handling in Python"
   ]
  },
  {
   "cell_type": "markdown",
   "id": "0d24a6b5",
   "metadata": {},
   "source": [
    "> Python too supports file handling and allows users to handle files.i.e. to read and write files, along with many others file handling options to operate on files.\n",
    "\n",
    ">The concept of file handling stretched over various other languages, but the implementation is either complicated or lengthy, but alike other concepts of python, this concept here is also easy and short.\n",
    "\n",
    "> Python treates file differently as text or binary and this is important.\n",
    "\n",
    "> Each line of code includes a sequence of characters and they form text file. Each line of a file is terminated with a speacial character, called the EOL or End of line\n",
    "characters like comma(,) or newline character.\n",
    "\n",
    "> It ends the current line and tells the interpreter a new one has begun.\n",
    "\n",
    "> Since RAM is volatile, which loses its data when computer is turned off, we use files for future.\n",
    "\n",
    "> Files are persistent because they run for a long time, they keep atleast some of the data in permanent storage and if they shutdown and restart, they pick up\n",
    "where they left off."
   ]
  },
  {
   "cell_type": "markdown",
   "id": "d1b8f56e",
   "metadata": {},
   "source": [
    "### Working of open() function\n",
    "\n",
    "> We use open () function in Python to open a file in read or write mode. \n",
    "\n",
    "> As explained above, open ( ) will return a file object. \n",
    "\n",
    "> To return a file object we use open() function along with two arguments, that accepts file name and the mode, \n",
    "whether to read or write. So, the syntax being: open(filename, mode). \n",
    "\n",
    "> There are three kinds of mode, that Python provides and how files can be opened:"
   ]
  },
  {
   "cell_type": "raw",
   "id": "625dc5df",
   "metadata": {},
   "source": [
    "\"r\" = for reading\n",
    "\"w\" = for writing\n",
    "\"a\" = for appending\n",
    "\"r+\"= for both reading and writing"
   ]
  },
  {
   "cell_type": "code",
   "execution_count": 3,
   "id": "08d354e3",
   "metadata": {},
   "outputs": [
    {
     "data": {
      "text/plain": [
       "'C:\\\\Users\\\\ITVEDANT20\\\\Downloads'"
      ]
     },
     "execution_count": 3,
     "metadata": {},
     "output_type": "execute_result"
    }
   ],
   "source": [
    "import os\n",
    "os.getcwd()"
   ]
  },
  {
   "cell_type": "markdown",
   "id": "c0bdabaa",
   "metadata": {},
   "source": [
    "## Read"
   ]
  },
  {
   "cell_type": "code",
   "execution_count": 25,
   "id": "77dbef39",
   "metadata": {},
   "outputs": [
    {
     "data": {
      "text/plain": [
       "<_io.TextIOWrapper name='Task.txt' mode='r' encoding='cp1252'>"
      ]
     },
     "execution_count": 25,
     "metadata": {},
     "output_type": "execute_result"
    }
   ],
   "source": [
    "file = open(\"Task.txt\", 'r') # open file in current directory\n",
    "file"
   ]
  },
  {
   "cell_type": "code",
   "execution_count": 2,
   "id": "cb1f7a8a",
   "metadata": {},
   "outputs": [
    {
     "data": {
      "text/plain": [
       "<_io.TextIOWrapper name='sample.txt' mode='r' encoding='cp1252'>"
      ]
     },
     "execution_count": 2,
     "metadata": {},
     "output_type": "execute_result"
    }
   ],
   "source": []
  },
  {
   "cell_type": "code",
   "execution_count": 28,
   "id": "476916fc",
   "metadata": {},
   "outputs": [
    {
     "data": {
      "text/plain": [
       "'Class 9 to 11'"
      ]
     },
     "execution_count": 28,
     "metadata": {},
     "output_type": "execute_result"
    }
   ],
   "source": [
    "file.read()    # read the next 4 data"
   ]
  },
  {
   "cell_type": "code",
   "execution_count": 4,
   "id": "56be6d9d",
   "metadata": {},
   "outputs": [
    {
     "name": "stdout",
     "output_type": "stream",
     "text": [
      " is sample text file to demonstrate the file handling concept.\n",
      "Thank you.\n",
      "Done.\n"
     ]
    }
   ],
   "source": [
    "print(file.read())  # read the entire file"
   ]
  },
  {
   "cell_type": "code",
   "execution_count": 40,
   "id": "071bcede",
   "metadata": {},
   "outputs": [
    {
     "data": {
      "text/plain": [
       "''"
      ]
     },
     "execution_count": 40,
     "metadata": {},
     "output_type": "execute_result"
    }
   ],
   "source": [
    "file.readline()"
   ]
  },
  {
   "cell_type": "code",
   "execution_count": 42,
   "id": "ccd8d41f",
   "metadata": {},
   "outputs": [
    {
     "data": {
      "text/plain": [
       "['Class 9 to 11\\n',\n",
       " 'This is sample text file to demonstrate the file handling concept.\\n',\n",
       " 'Thank you.\\n',\n",
       " 'Done.']"
      ]
     },
     "execution_count": 42,
     "metadata": {},
     "output_type": "execute_result"
    }
   ],
   "source": [
    "file.readlines()"
   ]
  },
  {
   "cell_type": "code",
   "execution_count": 29,
   "id": "4b4adfd8",
   "metadata": {},
   "outputs": [
    {
     "data": {
      "text/plain": [
       "13"
      ]
     },
     "execution_count": 29,
     "metadata": {},
     "output_type": "execute_result"
    }
   ],
   "source": [
    "file.tell()   # get the current file position"
   ]
  },
  {
   "cell_type": "code",
   "execution_count": 41,
   "id": "17614a9d",
   "metadata": {},
   "outputs": [
    {
     "data": {
      "text/plain": [
       "0"
      ]
     },
     "execution_count": 41,
     "metadata": {},
     "output_type": "execute_result"
    }
   ],
   "source": [
    "file.seek(0)   # bring file cursor to initial position"
   ]
  },
  {
   "cell_type": "code",
   "execution_count": 9,
   "id": "275815e7",
   "metadata": {},
   "outputs": [
    {
     "data": {
      "text/plain": [
       "'C:\\\\Users\\\\hp\\\\Desktop\\\\ITVedant\\\\Python'"
      ]
     },
     "execution_count": 9,
     "metadata": {},
     "output_type": "execute_result"
    }
   ],
   "source": [
    "import os\n",
    "os.getcwd()"
   ]
  },
  {
   "cell_type": "code",
   "execution_count": 10,
   "id": "fff6a10c",
   "metadata": {
    "scrolled": true
   },
   "outputs": [
    {
     "name": "stdout",
     "output_type": "stream",
     "text": [
      "This is sample text file to demonstrate the file handling concept.\n",
      "Thank you.\n",
      "Done.\n"
     ]
    }
   ],
   "source": [
    "file = open(\"sample.txt\",\"r\")\n",
    "content = file.read()\n",
    "print(content)\n",
    "file.close()"
   ]
  },
  {
   "cell_type": "markdown",
   "id": "3cbc432b",
   "metadata": {},
   "source": [
    "##### Creating a function to store the read operation"
   ]
  },
  {
   "cell_type": "code",
   "execution_count": 11,
   "id": "359502dc",
   "metadata": {},
   "outputs": [],
   "source": [
    "def read(path):\n",
    "    file = open(f\"{path}\",\"r\")\n",
    "    content=file.read()\n",
    "    print(content)\n",
    "    file.close()"
   ]
  },
  {
   "cell_type": "code",
   "execution_count": 12,
   "id": "dea3d72b",
   "metadata": {},
   "outputs": [
    {
     "name": "stdout",
     "output_type": "stream",
     "text": [
      "This is sample text file to demonstrate the file handling concept.\n",
      "Thank you.\n",
      "Done.\n"
     ]
    }
   ],
   "source": [
    "read(\"sample.txt\")"
   ]
  },
  {
   "cell_type": "markdown",
   "id": "a5c1a55c",
   "metadata": {},
   "source": [
    "##### We can also read the file using this approach"
   ]
  },
  {
   "cell_type": "code",
   "execution_count": 13,
   "id": "5e945035",
   "metadata": {},
   "outputs": [
    {
     "name": "stdout",
     "output_type": "stream",
     "text": [
      "This is sample text file to demonstrate the file handling concept.\n",
      "Thank you.\n",
      "Done.\n"
     ]
    }
   ],
   "source": [
    "with open('sample.txt','r') as file:\n",
    "    content = file.read()\n",
    "    print(content)"
   ]
  },
  {
   "cell_type": "markdown",
   "id": "1b6cd511",
   "metadata": {},
   "source": [
    "creating a function using with"
   ]
  },
  {
   "cell_type": "code",
   "execution_count": 14,
   "id": "81d70d23",
   "metadata": {},
   "outputs": [],
   "source": [
    "def withread(path):\n",
    "    with open(f\"{path}\",'r') as file:\n",
    "        content=file.read()\n",
    "        print(content)"
   ]
  },
  {
   "cell_type": "code",
   "execution_count": 15,
   "id": "c1a8b323",
   "metadata": {},
   "outputs": [
    {
     "name": "stdout",
     "output_type": "stream",
     "text": [
      "This is sample text file to demonstrate the file handling concept.\n",
      "Thank you.\n",
      "Done.\n"
     ]
    }
   ],
   "source": [
    "withread(\"sample.txt\")"
   ]
  },
  {
   "cell_type": "markdown",
   "id": "5d875b96",
   "metadata": {},
   "source": [
    "## Write"
   ]
  },
  {
   "cell_type": "markdown",
   "id": "35f00ac5",
   "metadata": {},
   "source": [
    "It will overwrite the previous text which was present earlier in the existing file."
   ]
  },
  {
   "cell_type": "code",
   "execution_count": 16,
   "id": "74b32e62",
   "metadata": {},
   "outputs": [
    {
     "name": "stdout",
     "output_type": "stream",
     "text": [
      "16\n"
     ]
    }
   ],
   "source": [
    "file = open(\"sample.txt\",\"w\")\n",
    "content = file.write(\"test run check 2\")\n",
    "print(content)\n",
    "file.close()"
   ]
  },
  {
   "cell_type": "markdown",
   "id": "12edb01b",
   "metadata": {},
   "source": [
    "It will create a new file and write a text in it."
   ]
  },
  {
   "cell_type": "code",
   "execution_count": 17,
   "id": "70b4e543",
   "metadata": {},
   "outputs": [
    {
     "name": "stdout",
     "output_type": "stream",
     "text": [
      "16\n"
     ]
    }
   ],
   "source": [
    "file = open(\"newfile.txt\",\"w\")\n",
    "content = file.write(\"test run check 2\")\n",
    "print(content)\n",
    "file.close()"
   ]
  },
  {
   "cell_type": "code",
   "execution_count": 20,
   "id": "f70808a2",
   "metadata": {},
   "outputs": [],
   "source": [
    "def write(path,msg):\n",
    "    file = open(f\"{path}\",\"w\")\n",
    "    content=file.write(msg)\n",
    "    print(content)\n",
    "    file.close()"
   ]
  },
  {
   "cell_type": "code",
   "execution_count": 21,
   "id": "b7336692",
   "metadata": {},
   "outputs": [
    {
     "name": "stdout",
     "output_type": "stream",
     "text": [
      "54\n"
     ]
    }
   ],
   "source": [
    "write(\"newfile.txt\",\"I have used write method to overwrite the file content\")"
   ]
  },
  {
   "cell_type": "code",
   "execution_count": 22,
   "id": "a70bd2a5",
   "metadata": {},
   "outputs": [
    {
     "name": "stdout",
     "output_type": "stream",
     "text": [
      "16\n"
     ]
    }
   ],
   "source": [
    "with open('newfile.txt','w') as file:\n",
    "    content = file.write(\"test run check 2\")\n",
    "    print(content)"
   ]
  },
  {
   "cell_type": "code",
   "execution_count": 23,
   "id": "f6c5d122",
   "metadata": {},
   "outputs": [],
   "source": [
    "def withwrite(path,msg):\n",
    "    with open(f'{path}',\"w\") as file:\n",
    "        content = file.write(msg)\n",
    "        print(content)"
   ]
  },
  {
   "cell_type": "code",
   "execution_count": 24,
   "id": "e58a353b",
   "metadata": {},
   "outputs": [
    {
     "name": "stdout",
     "output_type": "stream",
     "text": [
      "29\n"
     ]
    }
   ],
   "source": [
    "withwrite('newfile.txt',\"File content with with method\")"
   ]
  },
  {
   "cell_type": "markdown",
   "id": "84dbf392",
   "metadata": {},
   "source": [
    "## Append"
   ]
  },
  {
   "cell_type": "code",
   "execution_count": 25,
   "id": "32570a08",
   "metadata": {},
   "outputs": [
    {
     "name": "stdout",
     "output_type": "stream",
     "text": [
      "67\n"
     ]
    }
   ],
   "source": [
    "file = open(\"newfile.txt\",\"a\")\n",
    "content = file.write(\"\\n\\nThis is due to append mode, we have added new content to the file\")\n",
    "print(content)\n",
    "file.close()"
   ]
  },
  {
   "cell_type": "code",
   "execution_count": 26,
   "id": "c7ac3122",
   "metadata": {},
   "outputs": [
    {
     "name": "stdout",
     "output_type": "stream",
     "text": [
      "24\n"
     ]
    }
   ],
   "source": [
    "file = open(\"newfile.txt\",\"a\")\n",
    "content = file.write(\"\\nnew content to the file\")\n",
    "print(content)\n",
    "file.close()"
   ]
  },
  {
   "cell_type": "code",
   "execution_count": 27,
   "id": "9436432b",
   "metadata": {},
   "outputs": [],
   "source": [
    "def append(path,msg):\n",
    "    file = open(f\"{path}\",\"a\")\n",
    "    content = file.write(msg)\n",
    "    print(content)\n",
    "    file.close()"
   ]
  },
  {
   "cell_type": "code",
   "execution_count": 28,
   "id": "fafbcc54",
   "metadata": {},
   "outputs": [
    {
     "name": "stdout",
     "output_type": "stream",
     "text": [
      "70\n"
     ]
    }
   ],
   "source": [
    "append(\"newfile.txt\",\"\\n\\n\\nI have used write method to write the file content with append mode\")"
   ]
  },
  {
   "cell_type": "code",
   "execution_count": 29,
   "id": "e7233da0",
   "metadata": {},
   "outputs": [
    {
     "name": "stdout",
     "output_type": "stream",
     "text": [
      "40\n"
     ]
    }
   ],
   "source": [
    "with open(\"newfile.txt\",\"a\") as file:\n",
    "    content=file.write(\"\\nnew content to the file withappend mode\")\n",
    "    print(content)"
   ]
  },
  {
   "cell_type": "code",
   "execution_count": 30,
   "id": "1819a578",
   "metadata": {},
   "outputs": [],
   "source": [
    "def withappend(path,msg):\n",
    "    with open(f\"{path}\",\"a\") as file:\n",
    "        content=file.write(msg)\n",
    "        print(content)"
   ]
  },
  {
   "cell_type": "code",
   "execution_count": 31,
   "id": "944dda1a",
   "metadata": {},
   "outputs": [
    {
     "name": "stdout",
     "output_type": "stream",
     "text": [
      "-38\n"
     ]
    }
   ],
   "source": [
    "withappend('newfile.txt',\"\\nnew content with def withappend mode.\")"
   ]
  },
  {
   "cell_type": "markdown",
   "id": "2f584f34",
   "metadata": {},
   "source": [
    "##### Take user input "
   ]
  },
  {
   "cell_type": "code",
   "execution_count": 32,
   "id": "57ee149f",
   "metadata": {},
   "outputs": [
    {
     "name": "stdout",
     "output_type": "stream",
     "text": [
      "Enter the first name : Jayesh\n",
      "Enter the last name : Patil\n",
      "Enter the location : Kalyan\n",
      "Enter the Age in years : 25\n",
      "Enter your salary : 25\n",
      "Enter your contact number : 123456\n",
      "104\n"
     ]
    }
   ],
   "source": [
    "firstname= input(\"Enter the first name : \")\n",
    "lastname= input(\"Enter the last name : \")\n",
    "location = input(\"Enter the location : \")\n",
    "age = eval(input(\"Enter the Age in years : \"))\n",
    "salary = eval(input(\"Enter your salary : \"))\n",
    "contact = eval(input(\"Enter your contact number : \"))\n",
    "\n",
    "\n",
    "details = f\"\"\"\n",
    "First name : {firstname}\n",
    "Last name : {lastname}\n",
    "Location : {location}\n",
    "Age : {age}\n",
    "Salary : {salary}\n",
    "Contact number : {contact}\\n\\n\\n\"\"\"\n",
    "\n",
    "with open(\"database.txt\",\"a\") as file:\n",
    "    content=file.write(details)\n",
    "    print(content)"
   ]
  },
  {
   "cell_type": "markdown",
   "id": "ef1d8116",
   "metadata": {},
   "source": [
    "### While Loop"
   ]
  },
  {
   "cell_type": "code",
   "execution_count": 33,
   "id": "f4cf143b",
   "metadata": {},
   "outputs": [
    {
     "name": "stdout",
     "output_type": "stream",
     "text": [
      "Welcome to Itvedant Education\n",
      "\n",
      "\n",
      "Select operation : \n",
      "\n",
      "1: Enter user details into database\n",
      "2: Read the data from the database\n",
      "3: Exit\n",
      "\n",
      "Enter your choice : 1\n",
      "\n",
      "Enter the first name : Jayesh\n",
      "Enter the last name : Patil\n",
      "Enter the location : kalyan\n",
      "Enter the Age in years : 25\n",
      "Enter your salary : 24\n",
      "Enter your contact number : 123456\n",
      "152\n",
      "Select operation : \n",
      "\n",
      "1: Enter user details into database\n",
      "2: Read the data from the database\n",
      "3: Exit\n",
      "\n",
      "Enter your choice : 3\n"
     ]
    }
   ],
   "source": [
    "print(\"Welcome to Itvedant Education\\n\\n\")\n",
    "\n",
    "while True:\n",
    "    print(\"Select operation : \\n\")\n",
    "    print(\"1: Enter user details into database\")\n",
    "    print(\"2: Read the data from the database\")\n",
    "    print(\"3: Exit\\n\")\n",
    "    \n",
    "    n=eval(input(\"Enter your choice : \"))\n",
    "    if n==1:\n",
    "        print()\n",
    "        firstname= input(\"Enter the first name : \")\n",
    "        lastname= input(\"Enter the last name : \")\n",
    "        location = input(\"Enter the location : \")\n",
    "        age = eval(input(\"Enter the Age in years : \"))\n",
    "        salary = eval(input(\"Enter your salary : \"))\n",
    "        contact = eval(input(\"Enter your contact number : \"))\n",
    "        \n",
    "        details = f\"\"\"\n",
    "        First name : {firstname.title()}\n",
    "        Last name : {lastname.title()}\n",
    "        Location : {location.title()}\n",
    "        Age : {age}\n",
    "        Salary : {salary}\n",
    "        Contact number : {contact}\\n\\n\\n\"\"\"\n",
    "\n",
    "        with open(\"database.txt\",\"a\") as file:\n",
    "            content=file.write(details)\n",
    "            print(content)\n",
    "            \n",
    "    elif n==2:\n",
    "        with open(\"database.txt\",'r') as file:\n",
    "            content=file.read()\n",
    "            print(content)\n",
    "        print()\n",
    "    elif n==3:\n",
    "        break\n",
    "    else:\n",
    "        print(\"Invalid selection\")\n",
    "        "
   ]
  },
  {
   "cell_type": "code",
   "execution_count": null,
   "id": "6e1c7064",
   "metadata": {},
   "outputs": [],
   "source": []
  }
 ],
 "metadata": {
  "kernelspec": {
   "display_name": "Python 3",
   "language": "python",
   "name": "python3"
  },
  "language_info": {
   "codemirror_mode": {
    "name": "ipython",
    "version": 3
   },
   "file_extension": ".py",
   "mimetype": "text/x-python",
   "name": "python",
   "nbconvert_exporter": "python",
   "pygments_lexer": "ipython3",
   "version": "3.8.8"
  }
 },
 "nbformat": 4,
 "nbformat_minor": 5
}
