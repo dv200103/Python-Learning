{
 "cells": [
  {
   "cell_type": "markdown",
   "id": "4e6f7b1d",
   "metadata": {},
   "source": [
    "# WAP to Create a 4X2 integer array and print the following Attributes: –\n",
    "\n",
    "# The shape of an array.\n",
    "\n",
    "# Array dimensions.\n",
    "\n",
    "# The length of each element of the array in bytes."
   ]
  },
  {
   "cell_type": "code",
   "execution_count": 19,
   "id": "782b9f8c",
   "metadata": {},
   "outputs": [
    {
     "name": "stdout",
     "output_type": "stream",
     "text": [
      "(4, 2)\n",
      "2\n",
      "4\n"
     ]
    }
   ],
   "source": [
    "import numpy as np\n",
    "arr1 = np.random.randint(1,9, size=(4,2))\n",
    "print(arr1.shape)\n",
    "print(arr1.ndim)\n",
    "print(len(arr1))"
   ]
  }
 ],
 "metadata": {
  "kernelspec": {
   "display_name": "Python 3 (ipykernel)",
   "language": "python",
   "name": "python3"
  },
  "language_info": {
   "codemirror_mode": {
    "name": "ipython",
    "version": 3
   },
   "file_extension": ".py",
   "mimetype": "text/x-python",
   "name": "python",
   "nbconvert_exporter": "python",
   "pygments_lexer": "ipython3",
   "version": "3.11.4"
  }
 },
 "nbformat": 4,
 "nbformat_minor": 5
}
