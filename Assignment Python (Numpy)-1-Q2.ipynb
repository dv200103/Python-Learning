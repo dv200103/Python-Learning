{
 "cells": [
  {
   "cell_type": "markdown",
   "id": "c3b42be6",
   "metadata": {},
   "source": [
    "# WAP to Create an 8X3 integer array from a range between 10 to 34 such that the difference between each element is 1 and then Split the array into four equal-sized sub-arrays.\n",
    "\n",
    "\n",
    "# Expected Output:\n",
    "\n",
    "# Creating 8X3 array\n",
    "\n",
    "# [[10 11 12]\n",
    "\n",
    "# [13 14 15]\n",
    "\n",
    "# [16 17 18]\n",
    "\n",
    "# [19 20 21]\n",
    "\n",
    "# [22 23 24]\n",
    "\n",
    "# [25 26 27]\n",
    "\n",
    "# [28 29 30]\n",
    "\n",
    "# [31 32 33]]\n",
    "\n",
    "# Dividing 8X3 array into 4 sub array\n",
    "\n",
    "# [array([[10, 11, 12],[13, 14, 15]]), \n",
    "\n",
    "# array([[16, 17, 18],[19, 20, 21]]), \n",
    "\n",
    "# array([[22, 23, 24],[25, 26, 27]]), \n",
    "\n",
    "# array([[28, 29, 30],[31, 32, 33]])]"
   ]
  },
  {
   "cell_type": "code",
   "execution_count": 31,
   "id": "2ce4c8a1",
   "metadata": {},
   "outputs": [
    {
     "name": "stdout",
     "output_type": "stream",
     "text": [
      "[[10 11 12]\n",
      " [13 14 15]\n",
      " [16 17 18]\n",
      " [19 20 21]\n",
      " [22 23 24]\n",
      " [25 26 27]\n",
      " [28 29 30]\n",
      " [31 32 33]]\n"
     ]
    },
    {
     "data": {
      "text/plain": [
       "[array([[10, 11, 12],\n",
       "        [13, 14, 15]]),\n",
       " array([[16, 17, 18],\n",
       "        [19, 20, 21]]),\n",
       " array([[22, 23, 24],\n",
       "        [25, 26, 27]]),\n",
       " array([[28, 29, 30],\n",
       "        [31, 32, 33]])]"
      ]
     },
     "execution_count": 31,
     "metadata": {},
     "output_type": "execute_result"
    }
   ],
   "source": [
    "import numpy as np\n",
    "assign = np.arange(10,34).reshape(8,3)\n",
    "print(assign)\n",
    "np.array_split(assign,4,axis=0)"
   ]
  }
 ],
 "metadata": {
  "kernelspec": {
   "display_name": "Python 3 (ipykernel)",
   "language": "python",
   "name": "python3"
  },
  "language_info": {
   "codemirror_mode": {
    "name": "ipython",
    "version": 3
   },
   "file_extension": ".py",
   "mimetype": "text/x-python",
   "name": "python",
   "nbconvert_exporter": "python",
   "pygments_lexer": "ipython3",
   "version": "3.11.4"
  }
 },
 "nbformat": 4,
 "nbformat_minor": 5
}
