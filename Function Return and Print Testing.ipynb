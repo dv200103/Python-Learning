{
 "cells": [
  {
   "cell_type": "markdown",
   "id": "b98ceff4",
   "metadata": {},
   "source": [
    "# Return Testing"
   ]
  },
  {
   "cell_type": "code",
   "execution_count": null,
   "id": "018d262b",
   "metadata": {},
   "outputs": [],
   "source": [
    "def add(a,b):\n",
    "    return a + b\n",
    "\n",
    "add(3,5)"
   ]
  },
  {
   "cell_type": "code",
   "execution_count": null,
   "id": "f082c3fe",
   "metadata": {},
   "outputs": [],
   "source": [
    "def add(a,b):\n",
    "    c = a + b # now i can use c any where in def function, if required according to scenario or given question.\n",
    "    return c\n",
    "\n",
    "add(3,5)\n",
    "add(3,5) + 4 # return advantage over print.\n",
    "# return can do what print can do but print can't do what return can do."
   ]
  },
  {
   "cell_type": "code",
   "execution_count": null,
   "id": "8b42f5b8",
   "metadata": {},
   "outputs": [],
   "source": [
    "def add(a,b):\n",
    "    c = a + b\n",
    "\n",
    "add(3,5) # Program will run but nothing will come in output because of absence of return keyword in def function.(addition will happens)"
   ]
  },
  {
   "cell_type": "markdown",
   "id": "bd82fa08",
   "metadata": {},
   "source": [
    "# Print Testing"
   ]
  },
  {
   "cell_type": "code",
   "execution_count": null,
   "id": "ffee0678",
   "metadata": {},
   "outputs": [],
   "source": [
    "def add(a,b):\n",
    "    c = a + b\n",
    "    print(c)\n",
    "\n",
    "add(3,5)\n",
    "add(3,5) + 4 # print disadvantage over return."
   ]
  },
  {
   "cell_type": "code",
   "execution_count": null,
   "id": "cc54ccc0",
   "metadata": {},
   "outputs": [],
   "source": [
    "def add(a,b):\n",
    "    c = a + b\n",
    "    print(c)\n",
    "    \n",
    "print(add(3,5))"
   ]
  },
  {
   "cell_type": "code",
   "execution_count": null,
   "id": "e07b341d",
   "metadata": {},
   "outputs": [],
   "source": [
    "def add(a,b):\n",
    "    c = a + b \n",
    "    return c\n",
    "\n",
    "print(f\"The addition is {add(3,5)+1}\") # If we have to just show or display the value this advantage of over return but this is onlys applicable if question ask for just to display the value."
   ]
  },
  {
   "cell_type": "code",
   "execution_count": null,
   "id": "32f979a5",
   "metadata": {},
   "outputs": [],
   "source": [
    "def add(a,b):\n",
    "    c = a + b\n",
    "    \n",
    "print(add(3,5)) # None : Absence of value"
   ]
  },
  {
   "cell_type": "markdown",
   "id": "bf0a5b92",
   "metadata": {},
   "source": [
    "# def function without parameter testing"
   ]
  },
  {
   "cell_type": "code",
   "execution_count": null,
   "id": "3a916b2c",
   "metadata": {},
   "outputs": [],
   "source": [
    "def spam():\n",
    "    eggs = 31337\n",
    "    \n",
    "spam()\n",
    "print(eggs) #  with parameter without parameter rules applies as same was for return and print."
   ]
  },
  {
   "cell_type": "code",
   "execution_count": null,
   "id": "f3f06950",
   "metadata": {},
   "outputs": [],
   "source": [
    "def spam():\n",
    "    eggs = 99\n",
    "    bacon()\n",
    "    print(eggs)\n",
    "    \n",
    "def bacon():\n",
    "    ham = 101\n",
    "    eggs = 0\n",
    "    \n",
    "spam()"
   ]
  },
  {
   "cell_type": "code",
   "execution_count": null,
   "id": "76df2a3c",
   "metadata": {},
   "outputs": [],
   "source": [
    "def spam():\n",
    "    global eggs\n",
    "    eggs = \"spam\"\n",
    "    \n",
    "eggs = \"global\"\n",
    "spam()\n",
    "print(eggs)"
   ]
  }
 ],
 "metadata": {
  "kernelspec": {
   "display_name": "Python 3 (ipykernel)",
   "language": "python",
   "name": "python3"
  },
  "language_info": {
   "codemirror_mode": {
    "name": "ipython",
    "version": 3
   },
   "file_extension": ".py",
   "mimetype": "text/x-python",
   "name": "python",
   "nbconvert_exporter": "python",
   "pygments_lexer": "ipython3",
   "version": "3.11.4"
  }
 },
 "nbformat": 4,
 "nbformat_minor": 5
}
