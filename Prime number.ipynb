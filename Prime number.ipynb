{
 "cells": [
  {
   "cell_type": "code",
   "execution_count": null,
   "id": "f9f5ae8b",
   "metadata": {},
   "outputs": [],
   "source": [
    "n = int(input(\"Please enter poitive number only \"))\n",
    "if n<=0:\n",
    "    print(\"Please enter positive number only\")\n",
    "if n==1:\n",
    "    print(\"1 is neither a prime or nor a composite number\")\n",
    "if n==2 or n==3:\n",
    "    print(f\"{n} is a prime number\")\n",
    "i=2\n",
    "if n>=4:\n",
    "    \n",
    "    while i<n:\n",
    "        if n%i==0:\n",
    "            print(f\"{n} is not a prime number\")\n",
    "            break\n",
    "        i=i+1\n",
    "        if i==n:\n",
    "            print(f\"{n} is prime number\")\n",
    "        \n",
    "        \n",
    "    "
   ]
  }
 ],
 "metadata": {
  "kernelspec": {
   "display_name": "Python 3 (ipykernel)",
   "language": "python",
   "name": "python3"
  },
  "language_info": {
   "codemirror_mode": {
    "name": "ipython",
    "version": 3
   },
   "file_extension": ".py",
   "mimetype": "text/x-python",
   "name": "python",
   "nbconvert_exporter": "python",
   "pygments_lexer": "ipython3",
   "version": "3.11.4"
  }
 },
 "nbformat": 4,
 "nbformat_minor": 5
}
