{
 "cells": [
  {
   "cell_type": "code",
   "execution_count": null,
   "id": "3fdadf67",
   "metadata": {},
   "outputs": [],
   "source": [
    "Weight = float(input(\"Enter your weight in kilograms: \"))\n",
    "Height = float(input(\"Enter your height in meter: \"))\n",
    "BMI = Weight/(Height**2)\n",
    "if BMI<18.5:\n",
    "    print(\"Underweight\")\n",
    "elif BMI>24.9:\n",
    "    print(\"Overweight\")\n",
    "else:\n",
    "    print(\"Normal weight\")"
   ]
  }
 ],
 "metadata": {
  "kernelspec": {
   "display_name": "Python 3 (ipykernel)",
   "language": "python",
   "name": "python3"
  },
  "language_info": {
   "codemirror_mode": {
    "name": "ipython",
    "version": 3
   },
   "file_extension": ".py",
   "mimetype": "text/x-python",
   "name": "python",
   "nbconvert_exporter": "python",
   "pygments_lexer": "ipython3",
   "version": "3.11.4"
  }
 },
 "nbformat": 4,
 "nbformat_minor": 5
}
