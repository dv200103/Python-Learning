{
 "cells": [
  {
   "cell_type": "code",
   "execution_count": null,
   "id": "34c997af",
   "metadata": {},
   "outputs": [],
   "source": [
    "'''\n",
    "Comma Code\n",
    "\n",
    "Say you have a list value like this:\n",
    "\n",
    "spam = ['apples', 'bananas', 'tofu', 'cats']\n",
    "\n",
    "Write a function that takes a list value as an argument and returns \n",
    "a string with all the items separated by a comma and a space, with and\n",
    "inserted before the last item. For example, passing the previous spam list to \n",
    "the function would return 'apples, bananas, tofu, and cats'. But your func\u0002tion should be able to work with any list value passed to it.\n",
    "\n",
    "'''"
   ]
  },
  {
   "cell_type": "code",
   "execution_count": 1,
   "id": "79cfeb94",
   "metadata": {},
   "outputs": [
    {
     "name": "stdout",
     "output_type": "stream",
     "text": [
      "'apples, bananas, tofu, and cats'\n"
     ]
    }
   ],
   "source": [
    "def format_list(items):\n",
    "    if len(items) == 0:\n",
    "        return \"\"\n",
    "    elif len(items) == 1:\n",
    "        return str(items[0])\n",
    "    else:\n",
    "        formatted_string = \", \".join(map(str,items[:-1]))\n",
    "        formatted_string += f\", and {items[-1]}\"\n",
    "        return formatted_string\n",
    "                                   \n",
    "spam = [\"apples\",\"bananas\",\"tofu\",\"cats\"]\n",
    "formatted_result = format_list(spam)\n",
    "print(f\"\\'{formatted_result}'\")"
   ]
  }
 ],
 "metadata": {
  "kernelspec": {
   "display_name": "Python 3 (ipykernel)",
   "language": "python",
   "name": "python3"
  },
  "language_info": {
   "codemirror_mode": {
    "name": "ipython",
    "version": 3
   },
   "file_extension": ".py",
   "mimetype": "text/x-python",
   "name": "python",
   "nbconvert_exporter": "python",
   "pygments_lexer": "ipython3",
   "version": "3.11.4"
  }
 },
 "nbformat": 4,
 "nbformat_minor": 5
}
