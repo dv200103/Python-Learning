{
 "cells": [
  {
   "cell_type": "code",
   "execution_count": null,
   "id": "3c4dc878",
   "metadata": {},
   "outputs": [],
   "source": [
    "file = open(\"Dilip Verma\",\"r\") # By default read mode so we can remove r and code will run also.\n",
    "file.read()"
   ]
  },
  {
   "cell_type": "markdown",
   "id": "97ca4788",
   "metadata": {},
   "source": [
    "# Different Approach"
   ]
  },
  {
   "cell_type": "code",
   "execution_count": null,
   "id": "92a26a60",
   "metadata": {},
   "outputs": [],
   "source": [
    "file = open(\"C:/Users/dv850/Contacts/Dilip/Python/Complete Python learning/Dilip Verma.txt\",'a')\n",
    "file.write(\"hrthrtu\")\n",
    "file.close()"
   ]
  },
  {
   "cell_type": "markdown",
   "id": "9721b305",
   "metadata": {},
   "source": [
    "# OR"
   ]
  },
  {
   "cell_type": "code",
   "execution_count": null,
   "id": "ee6f387f",
   "metadata": {},
   "outputs": [],
   "source": [
    "file = open(\"C:\\\\Users\\\\dv850\\\\Contacts\\\\Dilip\\\\Python\\\\Complete Python learning/Dilip Verma.txt\",'w')\n",
    "file.write(\"hrthrtu\")\n",
    "file.close()"
   ]
  },
  {
   "cell_type": "markdown",
   "id": "5aa97112",
   "metadata": {},
   "source": [
    "# OR"
   ]
  },
  {
   "cell_type": "code",
   "execution_count": null,
   "id": "c1df1d9f",
   "metadata": {},
   "outputs": [],
   "source": [
    "file = open(r\"C:\\Users\\dv850\\Contacts\\Dilip\\Python\\Complete Python learning\\Dilip Verma.txt\",'a')\n",
    "file.write(\"Relax\")\n",
    "file.close()"
   ]
  },
  {
   "cell_type": "markdown",
   "id": "13b58560",
   "metadata": {},
   "source": [
    "# Using write(w) mode on non existing file will create new file for given name"
   ]
  },
  {
   "cell_type": "code",
   "execution_count": null,
   "id": "dc4753df",
   "metadata": {},
   "outputs": [],
   "source": [
    "file = open(r\"C:\\Users\\dv850\\Contacts\\Dilip\\Python\\Complete Python learning\\Dilip vvv\",\"w\")\n",
    "file.write(\"wait and watch\") #File pointer starts at the begining of the file for overriding the content of the file and if file not exist then it will create new text file.\n",
    "file.close()"
   ]
  },
  {
   "cell_type": "markdown",
   "id": "acbfa565",
   "metadata": {},
   "source": [
    "# Using append(a) mode on non existing file will create new file for given name"
   ]
  },
  {
   "cell_type": "code",
   "execution_count": null,
   "id": "36210ea2",
   "metadata": {},
   "outputs": [],
   "source": [
    "file = open(r\"C:\\Users\\dv850\\Contacts\\Dilip\\Python\\Complete Python learning\\Holi\",\"a\")\n",
    "file.write(\"Festival of colors\") #File pointer starts at the end of the file for appending to the file and if file not exist then it will create new text file.\n",
    "file.close()"
   ]
  },
  {
   "cell_type": "markdown",
   "id": "cf03e3e6",
   "metadata": {},
   "source": [
    "# Copying content of one file and paste to another with shutil module "
   ]
  },
  {
   "cell_type": "code",
   "execution_count": null,
   "id": "434f3583",
   "metadata": {},
   "outputs": [],
   "source": [
    "import shutil\n",
    "\n",
    "shutil.copy(r\"C:\\Users\\dv850\\Contacts\\Dilip\\Python\\Complete Python learning\\File1.txt\",r\"C:\\Users\\dv850\\Contacts\\Dilip\\Python\\Complete Python learning\\File2.txt\")\n",
    "print(\"Copied\")"
   ]
  },
  {
   "cell_type": "markdown",
   "id": "fc4e4fc1",
   "metadata": {},
   "source": [
    "# Copying content of one file and paste to another without shutil module "
   ]
  },
  {
   "cell_type": "code",
   "execution_count": 1,
   "id": "d1d5b412",
   "metadata": {},
   "outputs": [],
   "source": [
    "file1 = open(r\"C:\\Users\\dv850\\Contacts\\Dilip\\Python\\Complete Python learning\\File1.txt\")\n",
    "file2 = open(r\"C:\\Users\\dv850\\Contacts\\Dilip\\Python\\Complete Python learning\\File2.txt\",\"w\")\n",
    "\n",
    "data = file1.read()\n",
    "file2.write(data)\n",
    "\n",
    "file1.close()\n",
    "file2.close()"
   ]
  },
  {
   "cell_type": "markdown",
   "id": "1d0fcdbf",
   "metadata": {},
   "source": [
    "# To see the current working directory(it will give the CWD of latest program run)."
   ]
  },
  {
   "cell_type": "code",
   "execution_count": null,
   "id": "3ae42662",
   "metadata": {},
   "outputs": [],
   "source": [
    "import os\n",
    "os.getcwd()"
   ]
  },
  {
   "cell_type": "code",
   "execution_count": null,
   "id": "c06604b8",
   "metadata": {},
   "outputs": [],
   "source": [
    "def file(path, mode):\n",
    "    file = open(path,mode)\n",
    "    content = file.read()\n",
    "    print(content)\n",
    "    file.close()\n",
    "    \n",
    "file(\"Dilip File.txt\",\"r\")\n"
   ]
  },
  {
   "cell_type": "markdown",
   "id": "9efa863b",
   "metadata": {},
   "source": [
    "# 1) Create a file 'It vedant' in C:\\STUDENT in write mode."
   ]
  },
  {
   "cell_type": "code",
   "execution_count": null,
   "id": "cd5e0bdc",
   "metadata": {},
   "outputs": [],
   "source": [
    "file = open(r\"C:\\STUDENT\\It vedant.txt\",\"w\")\n",
    "file.write(\"guigiggyu\")\n",
    "file.close()"
   ]
  },
  {
   "cell_type": "markdown",
   "id": "7805ef36",
   "metadata": {},
   "source": [
    "# 2) Write the following data in file:\n",
    "    [Paragraph Starts here\n",
    "    This is the second line\n",
    "    This is Third line.]"
   ]
  },
  {
   "cell_type": "code",
   "execution_count": null,
   "id": "98a80ce1",
   "metadata": {},
   "outputs": [],
   "source": [
    "file = open(r\"C:\\STUDENT\\It vedant.txt\",\"w\")\n",
    "file.write(\"\"\"\\nParagraph stants here\n",
    "This is 2nd line \n",
    "This is 3rd line \\n\n",
    "\"\"\")\n",
    "file.close()"
   ]
  },
  {
   "cell_type": "markdown",
   "id": "748f274f",
   "metadata": {},
   "source": [
    "# 3) Read the data from this file (Don't need to close the file for read mode)"
   ]
  },
  {
   "cell_type": "code",
   "execution_count": null,
   "id": "35c21a70",
   "metadata": {},
   "outputs": [],
   "source": [
    "file = open(r\"C:\\STUDENT\\It vedant.txt\",\"r\")\n",
    "file.read()\n",
    "file.close()"
   ]
  },
  {
   "cell_type": "markdown",
   "id": "e2c69373",
   "metadata": {},
   "source": [
    "# 4) Append the new data:\n",
    "    This is 2nd Paragraph"
   ]
  },
  {
   "cell_type": "code",
   "execution_count": null,
   "id": "6074ff7c",
   "metadata": {},
   "outputs": [],
   "source": [
    "file = open(r\"C:\\STUDENT\\It vedant.txt\",\"a\")\n",
    "file.write(\"\"\"\\n\n",
    "This is second paragraph\\n\n",
    "\"\"\")\n",
    "file.close()"
   ]
  },
  {
   "cell_type": "markdown",
   "id": "3e369fb4",
   "metadata": {},
   "source": [
    "# Function for reading file"
   ]
  },
  {
   "cell_type": "code",
   "execution_count": null,
   "id": "25b08218",
   "metadata": {},
   "outputs": [],
   "source": [
    "def read_file(path,mode):\n",
    "    read_file = open(path,mode)\n",
    "    content = read_file.read()\n",
    "    print(content)\n",
    "    file.close()\n",
    "    \n",
    "read_file(\"C:\\STUDENT\\It vedant.txt\",\"r\")"
   ]
  },
  {
   "cell_type": "markdown",
   "id": "df30678e",
   "metadata": {},
   "source": [
    "# Function for Writing in file"
   ]
  },
  {
   "cell_type": "code",
   "execution_count": null,
   "id": "2701d6f2",
   "metadata": {},
   "outputs": [],
   "source": [
    "def write_file(path,mode):\n",
    "    write_file = open(path,mode)\n",
    "    content = write_file.write(\"MOHIT\")\n",
    "    write_file.close()\n",
    "    \n",
    "write_file(\"C:\\STUDENT\\It vedant.txt\",\"w\")"
   ]
  },
  {
   "cell_type": "markdown",
   "id": "f976c8a3",
   "metadata": {},
   "source": [
    "# Function for Appending file."
   ]
  },
  {
   "cell_type": "code",
   "execution_count": null,
   "id": "4e843482",
   "metadata": {},
   "outputs": [],
   "source": [
    "def Appending_file(path,mode):\n",
    "    Appending_file = open(path,mode)\n",
    "    content = Appending_file.write(\"\\nDilip Verma\")\n",
    "    Appending_file.close()\n",
    "    \n",
    "Appending_file(\"C:\\STUDENT\\It vedant.txt\",\"a\")"
   ]
  },
  {
   "cell_type": "markdown",
   "id": "e4743dd3",
   "metadata": {},
   "source": [
    "# Dynamic Function for Write and Append."
   ]
  },
  {
   "cell_type": "code",
   "execution_count": null,
   "id": "84ff2869",
   "metadata": {},
   "outputs": [],
   "source": [
    "def Wri_app_file(Path,Mode,Message):\n",
    "    if Mode == \"w\":\n",
    "        \n",
    "        Wri_app_file = open(Path,Mode)\n",
    "        content = Wri_app_file.write(Message)\n",
    "        Wri_app_file.close()\n",
    "        \n",
    "    if Mode == \"a\":\n",
    "        \n",
    "        Wri_app_file = open(Path,Mode)\n",
    "        content = Wri_app_file.write(f\"\\n{Message}\")\n",
    "        Wri_app_file.close()\n",
    "\n",
    "\n",
    "Path = input(\"Enter the Path: \")\n",
    "Mode = input(\"Enter the Mode: \")\n",
    "\n",
    "if Mode == \"w\" or Mode == \"a\":\n",
    "    Message = input(\"Enter the Message: \")\n",
    "    \n",
    "Wri_app_file(Path,Mode,Message)"
   ]
  },
  {
   "cell_type": "markdown",
   "id": "96d8e3d2",
   "metadata": {},
   "source": [
    "# Dynamic Function for read mode"
   ]
  },
  {
   "cell_type": "code",
   "execution_count": null,
   "id": "014f70bc",
   "metadata": {},
   "outputs": [],
   "source": [
    "def read_file(Path,Mode):\n",
    "    read_file = open(Path,Mode)\n",
    "    content = read_file.read()\n",
    "    print(content)\n",
    "    \n",
    "Path = input(\"Enter the Path: \")\n",
    "Mode = input(\"Enter the Mode: \")\n",
    "if Mode == \"r\":\n",
    "    pass\n",
    "else:\n",
    "    print(\"Enter only read mode\")\n",
    "    \n",
    "read_file(Path,Mode)"
   ]
  }
 ],
 "metadata": {
  "kernelspec": {
   "display_name": "Python 3 (ipykernel)",
   "language": "python",
   "name": "python3"
  },
  "language_info": {
   "codemirror_mode": {
    "name": "ipython",
    "version": 3
   },
   "file_extension": ".py",
   "mimetype": "text/x-python",
   "name": "python",
   "nbconvert_exporter": "python",
   "pygments_lexer": "ipython3",
   "version": "3.11.4"
  }
 },
 "nbformat": 4,
 "nbformat_minor": 5
}
