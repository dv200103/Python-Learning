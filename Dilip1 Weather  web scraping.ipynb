{
 "cells": [
  {
   "cell_type": "code",
   "execution_count": null,
   "metadata": {
    "id": "WuwNDAQLlXhz"
   },
   "outputs": [],
   "source": []
  },
  {
   "cell_type": "code",
   "execution_count": null,
   "metadata": {
    "id": "Rc2aQdhClcOs"
   },
   "outputs": [],
   "source": []
  },
  {
   "cell_type": "code",
   "execution_count": 1,
   "metadata": {
    "id": "32T59caFoez1"
   },
   "outputs": [],
   "source": [
    "import requests\n",
    "from bs4 import BeautifulSoup\n",
    "URL = \"https://forecast.weather.gov/MapClick.php?lat=37.7772&lon=-122.4168\""
   ]
  },
  {
   "cell_type": "code",
   "execution_count": null,
   "metadata": {
    "id": "VokN5Ij5lkwk"
   },
   "outputs": [],
   "source": []
  },
  {
   "cell_type": "code",
   "execution_count": 2,
   "metadata": {
    "colab": {
     "base_uri": "https://localhost:8080/"
    },
    "executionInfo": {
     "elapsed": 1543,
     "status": "ok",
     "timestamp": 1660116245226,
     "user": {
      "displayName": "Priyanka Awaje",
      "userId": "04948741848315503765"
     },
     "user_tz": -330
    },
    "id": "-0l64EB-oVod",
    "outputId": "cc37806b-d9c2-4595-e650-dbc40e88fac1"
   },
   "outputs": [
    {
     "name": "stdout",
     "output_type": "stream",
     "text": [
      "<div class=\"tombstone-container\">\n",
      " <p class=\"period-name\">\n",
      "  Overnight\n",
      "  <br/>\n",
      "  <br/>\n",
      " </p>\n",
      " <p>\n",
      "  <img alt=\"Overnight: Clear, with a low around 49. North wind around 18 mph, with gusts as high as 23 mph. \" class=\"forecast-icon\" src=\"newimages/medium/nskc.png\" title=\"Overnight: Clear, with a low around 49. North wind around 18 mph, with gusts as high as 23 mph. \"/>\n",
      " </p>\n",
      " <p class=\"short-desc\">\n",
      "  Clear\n",
      " </p>\n",
      " <p class=\"temp temp-low\">\n",
      "  Low: 49 °F\n",
      " </p>\n",
      "</div>\n",
      "\n"
     ]
    }
   ],
   "source": [
    "page = requests.get(URL)\n",
    "soup = BeautifulSoup(page.content, 'html.parser')\n",
    "seven_day = soup.find(id=\"seven-day-forecast\")\n",
    "forecast_items = seven_day.find_all(class_=\"tombstone-container\")\n",
    "tonight = forecast_items[0]\n",
    "print(tonight.prettify())"
   ]
  },
  {
   "cell_type": "code",
   "execution_count": 3,
   "metadata": {
    "colab": {
     "base_uri": "https://localhost:8080/"
    },
    "executionInfo": {
     "elapsed": 665,
     "status": "ok",
     "timestamp": 1660116310143,
     "user": {
      "displayName": "Priyanka Awaje",
      "userId": "04948741848315503765"
     },
     "user_tz": -330
    },
    "id": "41i3y1BSo4fA",
    "outputId": "c7374b7c-7579-4f5a-ae39-ebfe8e342862"
   },
   "outputs": [
    {
     "name": "stdout",
     "output_type": "stream",
     "text": [
      "Overnight\n",
      "Clear\n",
      "Low: 49 °F\n"
     ]
    }
   ],
   "source": [
    "period = tonight.find(class_=\"period-name\").get_text()\n",
    "short_desc = tonight.find(class_=\"short-desc\").get_text()\n",
    "temp = tonight.find(class_=\"temp\").get_text()\n",
    "print(period)\n",
    "print(short_desc)\n",
    "print(temp)"
   ]
  },
  {
   "cell_type": "code",
   "execution_count": 20,
   "metadata": {
    "colab": {
     "base_uri": "https://localhost:8080/"
    },
    "executionInfo": {
     "elapsed": 4,
     "status": "ok",
     "timestamp": 1660116330501,
     "user": {
      "displayName": "Priyanka Awaje",
      "userId": "04948741848315503765"
     },
     "user_tz": -330
    },
    "id": "0RBZevS8oeb_",
    "outputId": "3aefd709-41e7-407d-a16b-3b4f22f5b6a2"
   },
   "outputs": [
    {
     "name": "stdout",
     "output_type": "stream",
     "text": [
      "Overnight: Clear, with a low around 49. North wind around 18 mph, with gusts as high as 23 mph. \n",
      "<img alt=\"Overnight: Clear, with a low around 49. North wind around 18 mph, with gusts as high as 23 mph. \" class=\"forecast-icon\" src=\"newimages/medium/nskc.png\" title=\"Overnight: Clear, with a low around 49. North wind around 18 mph, with gusts as high as 23 mph. \"/>\n"
     ]
    }
   ],
   "source": [
    "img = tonight.find(\"img\")\n",
    "desc = img['title']\n",
    "print(desc)\n",
    "print(img)"
   ]
  },
  {
   "cell_type": "code",
   "execution_count": 5,
   "metadata": {
    "colab": {
     "base_uri": "https://localhost:8080/"
    },
    "executionInfo": {
     "elapsed": 5,
     "status": "ok",
     "timestamp": 1660116357046,
     "user": {
      "displayName": "Priyanka Awaje",
      "userId": "04948741848315503765"
     },
     "user_tz": -330
    },
    "id": "hH-TnjMmpOHF",
    "outputId": "7c07a060-4ca5-464d-b74a-88591a154625"
   },
   "outputs": [
    {
     "data": {
      "text/plain": [
       "['Overnight',\n",
       " 'Friday',\n",
       " 'FridayNight',\n",
       " 'Saturday',\n",
       " 'SaturdayNight',\n",
       " 'Sunday',\n",
       " 'SundayNight',\n",
       " 'Monday',\n",
       " 'MondayNight']"
      ]
     },
     "execution_count": 5,
     "metadata": {},
     "output_type": "execute_result"
    }
   ],
   "source": [
    "period_tags = seven_day.select(\".tombstone-container .period-name\")\n",
    "periods = [pt.get_text() for pt in period_tags]\n",
    "periods"
   ]
  },
  {
   "cell_type": "code",
   "execution_count": 6,
   "metadata": {
    "colab": {
     "base_uri": "https://localhost:8080/"
    },
    "executionInfo": {
     "elapsed": 659,
     "status": "ok",
     "timestamp": 1660116405367,
     "user": {
      "displayName": "Priyanka Awaje",
      "userId": "04948741848315503765"
     },
     "user_tz": -330
    },
    "id": "N852k5kspUd5",
    "outputId": "199c77a8-7c5f-4243-a69a-064784533cb6"
   },
   "outputs": [
    {
     "name": "stdout",
     "output_type": "stream",
     "text": [
      "['Clear', 'Sunny', 'Clear', 'Sunny', 'Partly Cloudy', 'Sunny', 'Mostly Clear', 'Sunny', 'Mostly Clear']\n",
      "['Low: 49 °F', 'High: 63 °F', 'Low: 46 °F', 'High: 63 °F', 'Low: 45 °F', 'High: 65 °F', 'Low: 45 °F', 'High: 64 °F', 'Low: 45 °F']\n",
      "['Overnight: Clear, with a low around 49. North wind around 18 mph, with gusts as high as 23 mph. ', 'Friday: Sunny, with a high near 63. North northeast wind 7 to 17 mph, with gusts as high as 21 mph. ', 'Friday Night: Clear, with a low around 46. North northeast wind 5 to 9 mph. ', 'Saturday: Sunny, with a high near 63. Northeast wind around 9 mph. ', 'Saturday Night: Partly cloudy, with a low around 45. East northeast wind around 7 mph. ', 'Sunday: Sunny, with a high near 65.', 'Sunday Night: Mostly clear, with a low around 45.', 'Monday: Sunny, with a high near 64.', 'Monday Night: Mostly clear, with a low around 45.']\n"
     ]
    }
   ],
   "source": [
    "short_descs = [sd.get_text() for sd in seven_day.select(\".tombstone-container .short-desc\")]\n",
    "temps = [t.get_text() for t in seven_day.select(\".tombstone-container .temp\")]\n",
    "descs = [d[\"title\"] for d in seven_day.select(\".tombstone-container img\")]\n",
    "print(short_descs)\n",
    "print(temps)\n",
    "print(descs)"
   ]
  },
  {
   "cell_type": "code",
   "execution_count": 7,
   "metadata": {
    "colab": {
     "base_uri": "https://localhost:8080/",
     "height": 331
    },
    "executionInfo": {
     "elapsed": 1445,
     "status": "ok",
     "timestamp": 1660116437013,
     "user": {
      "displayName": "Priyanka Awaje",
      "userId": "04948741848315503765"
     },
     "user_tz": -330
    },
    "id": "haJ_QzIupa8y",
    "outputId": "abda85e8-82c3-45c2-9bd8-403cfc4607f2"
   },
   "outputs": [
    {
     "data": {
      "text/html": [
       "<div>\n",
       "<style scoped>\n",
       "    .dataframe tbody tr th:only-of-type {\n",
       "        vertical-align: middle;\n",
       "    }\n",
       "\n",
       "    .dataframe tbody tr th {\n",
       "        vertical-align: top;\n",
       "    }\n",
       "\n",
       "    .dataframe thead th {\n",
       "        text-align: right;\n",
       "    }\n",
       "</style>\n",
       "<table border=\"1\" class=\"dataframe\">\n",
       "  <thead>\n",
       "    <tr style=\"text-align: right;\">\n",
       "      <th></th>\n",
       "      <th>period</th>\n",
       "      <th>short_desc</th>\n",
       "      <th>temp</th>\n",
       "      <th>desc</th>\n",
       "    </tr>\n",
       "  </thead>\n",
       "  <tbody>\n",
       "    <tr>\n",
       "      <th>0</th>\n",
       "      <td>Overnight</td>\n",
       "      <td>Clear</td>\n",
       "      <td>Low: 49 °F</td>\n",
       "      <td>Overnight: Clear, with a low around 49. North ...</td>\n",
       "    </tr>\n",
       "    <tr>\n",
       "      <th>1</th>\n",
       "      <td>Friday</td>\n",
       "      <td>Sunny</td>\n",
       "      <td>High: 63 °F</td>\n",
       "      <td>Friday: Sunny, with a high near 63. North nort...</td>\n",
       "    </tr>\n",
       "    <tr>\n",
       "      <th>2</th>\n",
       "      <td>FridayNight</td>\n",
       "      <td>Clear</td>\n",
       "      <td>Low: 46 °F</td>\n",
       "      <td>Friday Night: Clear, with a low around 46. Nor...</td>\n",
       "    </tr>\n",
       "    <tr>\n",
       "      <th>3</th>\n",
       "      <td>Saturday</td>\n",
       "      <td>Sunny</td>\n",
       "      <td>High: 63 °F</td>\n",
       "      <td>Saturday: Sunny, with a high near 63. Northeas...</td>\n",
       "    </tr>\n",
       "    <tr>\n",
       "      <th>4</th>\n",
       "      <td>SaturdayNight</td>\n",
       "      <td>Partly Cloudy</td>\n",
       "      <td>Low: 45 °F</td>\n",
       "      <td>Saturday Night: Partly cloudy, with a low arou...</td>\n",
       "    </tr>\n",
       "    <tr>\n",
       "      <th>5</th>\n",
       "      <td>Sunday</td>\n",
       "      <td>Sunny</td>\n",
       "      <td>High: 65 °F</td>\n",
       "      <td>Sunday: Sunny, with a high near 65.</td>\n",
       "    </tr>\n",
       "    <tr>\n",
       "      <th>6</th>\n",
       "      <td>SundayNight</td>\n",
       "      <td>Mostly Clear</td>\n",
       "      <td>Low: 45 °F</td>\n",
       "      <td>Sunday Night: Mostly clear, with a low around 45.</td>\n",
       "    </tr>\n",
       "    <tr>\n",
       "      <th>7</th>\n",
       "      <td>Monday</td>\n",
       "      <td>Sunny</td>\n",
       "      <td>High: 64 °F</td>\n",
       "      <td>Monday: Sunny, with a high near 64.</td>\n",
       "    </tr>\n",
       "    <tr>\n",
       "      <th>8</th>\n",
       "      <td>MondayNight</td>\n",
       "      <td>Mostly Clear</td>\n",
       "      <td>Low: 45 °F</td>\n",
       "      <td>Monday Night: Mostly clear, with a low around 45.</td>\n",
       "    </tr>\n",
       "  </tbody>\n",
       "</table>\n",
       "</div>"
      ],
      "text/plain": [
       "          period     short_desc         temp  \\\n",
       "0      Overnight          Clear   Low: 49 °F   \n",
       "1         Friday          Sunny  High: 63 °F   \n",
       "2    FridayNight          Clear   Low: 46 °F   \n",
       "3       Saturday          Sunny  High: 63 °F   \n",
       "4  SaturdayNight  Partly Cloudy   Low: 45 °F   \n",
       "5         Sunday          Sunny  High: 65 °F   \n",
       "6    SundayNight   Mostly Clear   Low: 45 °F   \n",
       "7         Monday          Sunny  High: 64 °F   \n",
       "8    MondayNight   Mostly Clear   Low: 45 °F   \n",
       "\n",
       "                                                desc  \n",
       "0  Overnight: Clear, with a low around 49. North ...  \n",
       "1  Friday: Sunny, with a high near 63. North nort...  \n",
       "2  Friday Night: Clear, with a low around 46. Nor...  \n",
       "3  Saturday: Sunny, with a high near 63. Northeas...  \n",
       "4  Saturday Night: Partly cloudy, with a low arou...  \n",
       "5                Sunday: Sunny, with a high near 65.  \n",
       "6  Sunday Night: Mostly clear, with a low around 45.  \n",
       "7                Monday: Sunny, with a high near 64.  \n",
       "8  Monday Night: Mostly clear, with a low around 45.  "
      ]
     },
     "execution_count": 7,
     "metadata": {},
     "output_type": "execute_result"
    }
   ],
   "source": [
    "import pandas as pd\n",
    "weather = pd.DataFrame({\n",
    "    \"period\": periods,\n",
    "    \"short_desc\": short_descs,\n",
    "    \"temp\": temps,\n",
    "    \"desc\":descs\n",
    "})\n",
    "weather"
   ]
  },
  {
   "cell_type": "code",
   "execution_count": 8,
   "metadata": {},
   "outputs": [],
   "source": [
    "file = weather.to_csv(\"Data_science.csv\")"
   ]
  },
  {
   "cell_type": "code",
   "execution_count": 9,
   "metadata": {},
   "outputs": [
    {
     "data": {
      "text/html": [
       "<div>\n",
       "<style scoped>\n",
       "    .dataframe tbody tr th:only-of-type {\n",
       "        vertical-align: middle;\n",
       "    }\n",
       "\n",
       "    .dataframe tbody tr th {\n",
       "        vertical-align: top;\n",
       "    }\n",
       "\n",
       "    .dataframe thead th {\n",
       "        text-align: right;\n",
       "    }\n",
       "</style>\n",
       "<table border=\"1\" class=\"dataframe\">\n",
       "  <thead>\n",
       "    <tr style=\"text-align: right;\">\n",
       "      <th></th>\n",
       "      <th>Unnamed: 0</th>\n",
       "      <th>period</th>\n",
       "      <th>short_desc</th>\n",
       "      <th>temp</th>\n",
       "      <th>desc</th>\n",
       "    </tr>\n",
       "  </thead>\n",
       "  <tbody>\n",
       "    <tr>\n",
       "      <th>0</th>\n",
       "      <td>0</td>\n",
       "      <td>Overnight</td>\n",
       "      <td>Clear</td>\n",
       "      <td>Low: 49 °F</td>\n",
       "      <td>Overnight: Clear, with a low around 49. North ...</td>\n",
       "    </tr>\n",
       "    <tr>\n",
       "      <th>1</th>\n",
       "      <td>1</td>\n",
       "      <td>Friday</td>\n",
       "      <td>Sunny</td>\n",
       "      <td>High: 63 °F</td>\n",
       "      <td>Friday: Sunny, with a high near 63. North nort...</td>\n",
       "    </tr>\n",
       "    <tr>\n",
       "      <th>2</th>\n",
       "      <td>2</td>\n",
       "      <td>FridayNight</td>\n",
       "      <td>Clear</td>\n",
       "      <td>Low: 46 °F</td>\n",
       "      <td>Friday Night: Clear, with a low around 46. Nor...</td>\n",
       "    </tr>\n",
       "    <tr>\n",
       "      <th>3</th>\n",
       "      <td>3</td>\n",
       "      <td>Saturday</td>\n",
       "      <td>Sunny</td>\n",
       "      <td>High: 63 °F</td>\n",
       "      <td>Saturday: Sunny, with a high near 63. Northeas...</td>\n",
       "    </tr>\n",
       "    <tr>\n",
       "      <th>4</th>\n",
       "      <td>4</td>\n",
       "      <td>SaturdayNight</td>\n",
       "      <td>Partly Cloudy</td>\n",
       "      <td>Low: 45 °F</td>\n",
       "      <td>Saturday Night: Partly cloudy, with a low arou...</td>\n",
       "    </tr>\n",
       "    <tr>\n",
       "      <th>5</th>\n",
       "      <td>5</td>\n",
       "      <td>Sunday</td>\n",
       "      <td>Sunny</td>\n",
       "      <td>High: 65 °F</td>\n",
       "      <td>Sunday: Sunny, with a high near 65.</td>\n",
       "    </tr>\n",
       "    <tr>\n",
       "      <th>6</th>\n",
       "      <td>6</td>\n",
       "      <td>SundayNight</td>\n",
       "      <td>Mostly Clear</td>\n",
       "      <td>Low: 45 °F</td>\n",
       "      <td>Sunday Night: Mostly clear, with a low around 45.</td>\n",
       "    </tr>\n",
       "    <tr>\n",
       "      <th>7</th>\n",
       "      <td>7</td>\n",
       "      <td>Monday</td>\n",
       "      <td>Sunny</td>\n",
       "      <td>High: 64 °F</td>\n",
       "      <td>Monday: Sunny, with a high near 64.</td>\n",
       "    </tr>\n",
       "    <tr>\n",
       "      <th>8</th>\n",
       "      <td>8</td>\n",
       "      <td>MondayNight</td>\n",
       "      <td>Mostly Clear</td>\n",
       "      <td>Low: 45 °F</td>\n",
       "      <td>Monday Night: Mostly clear, with a low around 45.</td>\n",
       "    </tr>\n",
       "  </tbody>\n",
       "</table>\n",
       "</div>"
      ],
      "text/plain": [
       "   Unnamed: 0         period     short_desc         temp  \\\n",
       "0           0      Overnight          Clear   Low: 49 °F   \n",
       "1           1         Friday          Sunny  High: 63 °F   \n",
       "2           2    FridayNight          Clear   Low: 46 °F   \n",
       "3           3       Saturday          Sunny  High: 63 °F   \n",
       "4           4  SaturdayNight  Partly Cloudy   Low: 45 °F   \n",
       "5           5         Sunday          Sunny  High: 65 °F   \n",
       "6           6    SundayNight   Mostly Clear   Low: 45 °F   \n",
       "7           7         Monday          Sunny  High: 64 °F   \n",
       "8           8    MondayNight   Mostly Clear   Low: 45 °F   \n",
       "\n",
       "                                                desc  \n",
       "0  Overnight: Clear, with a low around 49. North ...  \n",
       "1  Friday: Sunny, with a high near 63. North nort...  \n",
       "2  Friday Night: Clear, with a low around 46. Nor...  \n",
       "3  Saturday: Sunny, with a high near 63. Northeas...  \n",
       "4  Saturday Night: Partly cloudy, with a low arou...  \n",
       "5                Sunday: Sunny, with a high near 65.  \n",
       "6  Sunday Night: Mostly clear, with a low around 45.  \n",
       "7                Monday: Sunny, with a high near 64.  \n",
       "8  Monday Night: Mostly clear, with a low around 45.  "
      ]
     },
     "execution_count": 9,
     "metadata": {},
     "output_type": "execute_result"
    }
   ],
   "source": [
    "read_file = pd.read_csv(\"Data_science.csv\")\n",
    "read_file"
   ]
  },
  {
   "cell_type": "code",
   "execution_count": 10,
   "metadata": {
    "scrolled": true
   },
   "outputs": [
    {
     "name": "stdout",
     "output_type": "stream",
     "text": [
      "<class 'pandas.core.frame.DataFrame'>\n",
      "RangeIndex: 9 entries, 0 to 8\n",
      "Data columns (total 5 columns):\n",
      " #   Column      Non-Null Count  Dtype \n",
      "---  ------      --------------  ----- \n",
      " 0   Unnamed: 0  9 non-null      int64 \n",
      " 1   period      9 non-null      object\n",
      " 2   short_desc  9 non-null      object\n",
      " 3   temp        9 non-null      object\n",
      " 4   desc        9 non-null      object\n",
      "dtypes: int64(1), object(4)\n",
      "memory usage: 492.0+ bytes\n"
     ]
    }
   ],
   "source": [
    "read_file.info()"
   ]
  },
  {
   "cell_type": "code",
   "execution_count": 11,
   "metadata": {},
   "outputs": [
    {
     "data": {
      "text/html": [
       "<div>\n",
       "<style scoped>\n",
       "    .dataframe tbody tr th:only-of-type {\n",
       "        vertical-align: middle;\n",
       "    }\n",
       "\n",
       "    .dataframe tbody tr th {\n",
       "        vertical-align: top;\n",
       "    }\n",
       "\n",
       "    .dataframe thead th {\n",
       "        text-align: right;\n",
       "    }\n",
       "</style>\n",
       "<table border=\"1\" class=\"dataframe\">\n",
       "  <thead>\n",
       "    <tr style=\"text-align: right;\">\n",
       "      <th></th>\n",
       "      <th>Unnamed: 0</th>\n",
       "      <th>period</th>\n",
       "      <th>short_desc</th>\n",
       "      <th>temp</th>\n",
       "      <th>desc</th>\n",
       "    </tr>\n",
       "  </thead>\n",
       "  <tbody>\n",
       "    <tr>\n",
       "      <th>1</th>\n",
       "      <td>1</td>\n",
       "      <td>Friday</td>\n",
       "      <td>Sunny</td>\n",
       "      <td>High: 63 °F</td>\n",
       "      <td>Friday: Sunny, with a high near 63. North nort...</td>\n",
       "    </tr>\n",
       "    <tr>\n",
       "      <th>2</th>\n",
       "      <td>2</td>\n",
       "      <td>FridayNight</td>\n",
       "      <td>Clear</td>\n",
       "      <td>Low: 46 °F</td>\n",
       "      <td>Friday Night: Clear, with a low around 46. Nor...</td>\n",
       "    </tr>\n",
       "    <tr>\n",
       "      <th>7</th>\n",
       "      <td>7</td>\n",
       "      <td>Monday</td>\n",
       "      <td>Sunny</td>\n",
       "      <td>High: 64 °F</td>\n",
       "      <td>Monday: Sunny, with a high near 64.</td>\n",
       "    </tr>\n",
       "    <tr>\n",
       "      <th>8</th>\n",
       "      <td>8</td>\n",
       "      <td>MondayNight</td>\n",
       "      <td>Mostly Clear</td>\n",
       "      <td>Low: 45 °F</td>\n",
       "      <td>Monday Night: Mostly clear, with a low around 45.</td>\n",
       "    </tr>\n",
       "    <tr>\n",
       "      <th>0</th>\n",
       "      <td>0</td>\n",
       "      <td>Overnight</td>\n",
       "      <td>Clear</td>\n",
       "      <td>Low: 49 °F</td>\n",
       "      <td>Overnight: Clear, with a low around 49. North ...</td>\n",
       "    </tr>\n",
       "    <tr>\n",
       "      <th>3</th>\n",
       "      <td>3</td>\n",
       "      <td>Saturday</td>\n",
       "      <td>Sunny</td>\n",
       "      <td>High: 63 °F</td>\n",
       "      <td>Saturday: Sunny, with a high near 63. Northeas...</td>\n",
       "    </tr>\n",
       "    <tr>\n",
       "      <th>4</th>\n",
       "      <td>4</td>\n",
       "      <td>SaturdayNight</td>\n",
       "      <td>Partly Cloudy</td>\n",
       "      <td>Low: 45 °F</td>\n",
       "      <td>Saturday Night: Partly cloudy, with a low arou...</td>\n",
       "    </tr>\n",
       "    <tr>\n",
       "      <th>5</th>\n",
       "      <td>5</td>\n",
       "      <td>Sunday</td>\n",
       "      <td>Sunny</td>\n",
       "      <td>High: 65 °F</td>\n",
       "      <td>Sunday: Sunny, with a high near 65.</td>\n",
       "    </tr>\n",
       "    <tr>\n",
       "      <th>6</th>\n",
       "      <td>6</td>\n",
       "      <td>SundayNight</td>\n",
       "      <td>Mostly Clear</td>\n",
       "      <td>Low: 45 °F</td>\n",
       "      <td>Sunday Night: Mostly clear, with a low around 45.</td>\n",
       "    </tr>\n",
       "  </tbody>\n",
       "</table>\n",
       "</div>"
      ],
      "text/plain": [
       "   Unnamed: 0         period     short_desc         temp  \\\n",
       "1           1         Friday          Sunny  High: 63 °F   \n",
       "2           2    FridayNight          Clear   Low: 46 °F   \n",
       "7           7         Monday          Sunny  High: 64 °F   \n",
       "8           8    MondayNight   Mostly Clear   Low: 45 °F   \n",
       "0           0      Overnight          Clear   Low: 49 °F   \n",
       "3           3       Saturday          Sunny  High: 63 °F   \n",
       "4           4  SaturdayNight  Partly Cloudy   Low: 45 °F   \n",
       "5           5         Sunday          Sunny  High: 65 °F   \n",
       "6           6    SundayNight   Mostly Clear   Low: 45 °F   \n",
       "\n",
       "                                                desc  \n",
       "1  Friday: Sunny, with a high near 63. North nort...  \n",
       "2  Friday Night: Clear, with a low around 46. Nor...  \n",
       "7                Monday: Sunny, with a high near 64.  \n",
       "8  Monday Night: Mostly clear, with a low around 45.  \n",
       "0  Overnight: Clear, with a low around 49. North ...  \n",
       "3  Saturday: Sunny, with a high near 63. Northeas...  \n",
       "4  Saturday Night: Partly cloudy, with a low arou...  \n",
       "5                Sunday: Sunny, with a high near 65.  \n",
       "6  Sunday Night: Mostly clear, with a low around 45.  "
      ]
     },
     "execution_count": 11,
     "metadata": {},
     "output_type": "execute_result"
    }
   ],
   "source": [
    "read_file.sort_values(\"period\")"
   ]
  },
  {
   "cell_type": "code",
   "execution_count": 12,
   "metadata": {
    "id": "FrvHg-PWpn9W"
   },
   "outputs": [
    {
     "name": "stdout",
     "output_type": "stream",
     "text": [
      "['Overnight', 'Friday', 'FridayNight', 'Saturday', 'SaturdayNight', 'Sunday', 'SundayNight', 'Monday', 'MondayNight']\n"
     ]
    }
   ],
   "source": [
    "period = []\n",
    "for i in range(0,len(forecast_items)):\n",
    "    day = forecast_items[i].find(class_=\"period-name\").get_text()\n",
    "    period.append(day)\n",
    "\n",
    "print(period)"
   ]
  },
  {
   "cell_type": "code",
   "execution_count": 13,
   "metadata": {},
   "outputs": [
    {
     "name": "stdout",
     "output_type": "stream",
     "text": [
      "['Clear', 'Sunny', 'Clear', 'Sunny', 'Partly Cloudy', 'Sunny', 'Mostly Clear', 'Sunny', 'Mostly Clear']\n"
     ]
    }
   ],
   "source": [
    "short_desc = []\n",
    "for i in range(0,len(forecast_items)):\n",
    "    day = forecast_items[i].find(class_=\"short-desc\").get_text()\n",
    "    short_desc.append(day)\n",
    "\n",
    "print(short_desc)"
   ]
  },
  {
   "cell_type": "code",
   "execution_count": 14,
   "metadata": {},
   "outputs": [
    {
     "name": "stdout",
     "output_type": "stream",
     "text": [
      "['Low: 49 °F', 'High: 63 °F', 'Low: 46 °F', 'High: 63 °F', 'Low: 45 °F', 'High: 65 °F', 'Low: 45 °F', 'High: 64 °F', 'Low: 45 °F']\n"
     ]
    }
   ],
   "source": [
    "temp = []\n",
    "for i in range(0,len(forecast_items)):\n",
    "    day = forecast_items[i].find(class_=\"temp\").get_text()\n",
    "    temp.append(day)\n",
    "\n",
    "print(temp)"
   ]
  },
  {
   "cell_type": "markdown",
   "metadata": {},
   "source": [
    "# I used above temp for table but i can use also below cell code both gives same output but with different approach."
   ]
  },
  {
   "cell_type": "code",
   "execution_count": 19,
   "metadata": {},
   "outputs": [
    {
     "name": "stdout",
     "output_type": "stream",
     "text": [
      "['Low: 49 °F', 'High: 63 °F', 'Low: 46 °F', 'High: 63 °F', 'Low: 45 °F', 'High: 65 °F', 'Low: 45 °F', 'High: 64 °F', 'Low: 45 °F']\n"
     ]
    }
   ],
   "source": [
    "temps = []\n",
    "for i in forecast_items:\n",
    "    day = i.find(class_=\"temp\").get_text()\n",
    "    temps.append(day)\n",
    "print(temps)"
   ]
  },
  {
   "cell_type": "code",
   "execution_count": 15,
   "metadata": {
    "scrolled": true
   },
   "outputs": [
    {
     "data": {
      "text/plain": [
       "['Overnight: Clear, with a low around 49. North wind around 18 mph, with gusts as high as 23 mph. ',\n",
       " 'Friday: Sunny, with a high near 63. North northeast wind 7 to 17 mph, with gusts as high as 21 mph. ',\n",
       " 'Friday Night: Clear, with a low around 46. North northeast wind 5 to 9 mph. ',\n",
       " 'Saturday: Sunny, with a high near 63. Northeast wind around 9 mph. ',\n",
       " 'Saturday Night: Partly cloudy, with a low around 45. East northeast wind around 7 mph. ',\n",
       " 'Sunday: Sunny, with a high near 65.',\n",
       " 'Sunday Night: Mostly clear, with a low around 45.',\n",
       " 'Monday: Sunny, with a high near 64.',\n",
       " 'Monday Night: Mostly clear, with a low around 45.']"
      ]
     },
     "execution_count": 15,
     "metadata": {},
     "output_type": "execute_result"
    }
   ],
   "source": [
    "title = []\n",
    "for i in forecast_items:\n",
    "    img = i.find(\"img\")\n",
    "    desc = img['title']\n",
    "    title.append(desc)\n",
    "title"
   ]
  },
  {
   "cell_type": "code",
   "execution_count": 22,
   "metadata": {
    "scrolled": false
   },
   "outputs": [
    {
     "data": {
      "text/html": [
       "<div>\n",
       "<style scoped>\n",
       "    .dataframe tbody tr th:only-of-type {\n",
       "        vertical-align: middle;\n",
       "    }\n",
       "\n",
       "    .dataframe tbody tr th {\n",
       "        vertical-align: top;\n",
       "    }\n",
       "\n",
       "    .dataframe thead th {\n",
       "        text-align: right;\n",
       "    }\n",
       "</style>\n",
       "<table border=\"1\" class=\"dataframe\">\n",
       "  <thead>\n",
       "    <tr style=\"text-align: right;\">\n",
       "      <th></th>\n",
       "      <th>period</th>\n",
       "      <th>short_desc</th>\n",
       "      <th>temp</th>\n",
       "      <th>title</th>\n",
       "    </tr>\n",
       "  </thead>\n",
       "  <tbody>\n",
       "    <tr>\n",
       "      <th>0</th>\n",
       "      <td>Overnight</td>\n",
       "      <td>Clear</td>\n",
       "      <td>Low: 49 °F</td>\n",
       "      <td>Overnight: Clear, with a low around 49. North ...</td>\n",
       "    </tr>\n",
       "    <tr>\n",
       "      <th>1</th>\n",
       "      <td>Friday</td>\n",
       "      <td>Sunny</td>\n",
       "      <td>High: 63 °F</td>\n",
       "      <td>Friday: Sunny, with a high near 63. North nort...</td>\n",
       "    </tr>\n",
       "    <tr>\n",
       "      <th>2</th>\n",
       "      <td>FridayNight</td>\n",
       "      <td>Clear</td>\n",
       "      <td>Low: 46 °F</td>\n",
       "      <td>Friday Night: Clear, with a low around 46. Nor...</td>\n",
       "    </tr>\n",
       "    <tr>\n",
       "      <th>3</th>\n",
       "      <td>Saturday</td>\n",
       "      <td>Sunny</td>\n",
       "      <td>High: 63 °F</td>\n",
       "      <td>Saturday: Sunny, with a high near 63. Northeas...</td>\n",
       "    </tr>\n",
       "    <tr>\n",
       "      <th>4</th>\n",
       "      <td>SaturdayNight</td>\n",
       "      <td>Partly Cloudy</td>\n",
       "      <td>Low: 45 °F</td>\n",
       "      <td>Saturday Night: Partly cloudy, with a low arou...</td>\n",
       "    </tr>\n",
       "    <tr>\n",
       "      <th>5</th>\n",
       "      <td>Sunday</td>\n",
       "      <td>Sunny</td>\n",
       "      <td>High: 65 °F</td>\n",
       "      <td>Sunday: Sunny, with a high near 65.</td>\n",
       "    </tr>\n",
       "    <tr>\n",
       "      <th>6</th>\n",
       "      <td>SundayNight</td>\n",
       "      <td>Mostly Clear</td>\n",
       "      <td>Low: 45 °F</td>\n",
       "      <td>Sunday Night: Mostly clear, with a low around 45.</td>\n",
       "    </tr>\n",
       "    <tr>\n",
       "      <th>7</th>\n",
       "      <td>Monday</td>\n",
       "      <td>Sunny</td>\n",
       "      <td>High: 64 °F</td>\n",
       "      <td>Monday: Sunny, with a high near 64.</td>\n",
       "    </tr>\n",
       "    <tr>\n",
       "      <th>8</th>\n",
       "      <td>MondayNight</td>\n",
       "      <td>Mostly Clear</td>\n",
       "      <td>Low: 45 °F</td>\n",
       "      <td>Monday Night: Mostly clear, with a low around 45.</td>\n",
       "    </tr>\n",
       "  </tbody>\n",
       "</table>\n",
       "</div>"
      ],
      "text/plain": [
       "          period     short_desc         temp  \\\n",
       "0      Overnight          Clear   Low: 49 °F   \n",
       "1         Friday          Sunny  High: 63 °F   \n",
       "2    FridayNight          Clear   Low: 46 °F   \n",
       "3       Saturday          Sunny  High: 63 °F   \n",
       "4  SaturdayNight  Partly Cloudy   Low: 45 °F   \n",
       "5         Sunday          Sunny  High: 65 °F   \n",
       "6    SundayNight   Mostly Clear   Low: 45 °F   \n",
       "7         Monday          Sunny  High: 64 °F   \n",
       "8    MondayNight   Mostly Clear   Low: 45 °F   \n",
       "\n",
       "                                               title  \n",
       "0  Overnight: Clear, with a low around 49. North ...  \n",
       "1  Friday: Sunny, with a high near 63. North nort...  \n",
       "2  Friday Night: Clear, with a low around 46. Nor...  \n",
       "3  Saturday: Sunny, with a high near 63. Northeas...  \n",
       "4  Saturday Night: Partly cloudy, with a low arou...  \n",
       "5                Sunday: Sunny, with a high near 65.  \n",
       "6  Sunday Night: Mostly clear, with a low around 45.  \n",
       "7                Monday: Sunny, with a high near 64.  \n",
       "8  Monday Night: Mostly clear, with a low around 45.  "
      ]
     },
     "execution_count": 22,
     "metadata": {},
     "output_type": "execute_result"
    }
   ],
   "source": [
    "import pandas as pd\n",
    "weather = pd.DataFrame({\n",
    "    \"period\": periods,\n",
    "    \"short_desc\": short_descs,\n",
    "    \"temp\": temps,\n",
    "    \"title\":title\n",
    "})\n",
    "weather"
   ]
  },
  {
   "cell_type": "code",
   "execution_count": 17,
   "metadata": {},
   "outputs": [
    {
     "data": {
      "text/html": [
       "<div>\n",
       "<style scoped>\n",
       "    .dataframe tbody tr th:only-of-type {\n",
       "        vertical-align: middle;\n",
       "    }\n",
       "\n",
       "    .dataframe tbody tr th {\n",
       "        vertical-align: top;\n",
       "    }\n",
       "\n",
       "    .dataframe thead th {\n",
       "        text-align: right;\n",
       "    }\n",
       "</style>\n",
       "<table border=\"1\" class=\"dataframe\">\n",
       "  <thead>\n",
       "    <tr style=\"text-align: right;\">\n",
       "      <th></th>\n",
       "      <th>Unnamed: 0</th>\n",
       "      <th>period</th>\n",
       "      <th>short_desc</th>\n",
       "      <th>temp</th>\n",
       "      <th>title</th>\n",
       "    </tr>\n",
       "  </thead>\n",
       "  <tbody>\n",
       "    <tr>\n",
       "      <th>0</th>\n",
       "      <td>0</td>\n",
       "      <td>Overnight</td>\n",
       "      <td>Clear</td>\n",
       "      <td>Low: 49 °F</td>\n",
       "      <td>Overnight: Clear, with a low around 49. North ...</td>\n",
       "    </tr>\n",
       "    <tr>\n",
       "      <th>1</th>\n",
       "      <td>1</td>\n",
       "      <td>Friday</td>\n",
       "      <td>Sunny</td>\n",
       "      <td>High: 63 °F</td>\n",
       "      <td>Friday: Sunny, with a high near 63. North nort...</td>\n",
       "    </tr>\n",
       "    <tr>\n",
       "      <th>2</th>\n",
       "      <td>2</td>\n",
       "      <td>FridayNight</td>\n",
       "      <td>Clear</td>\n",
       "      <td>Low: 46 °F</td>\n",
       "      <td>Friday Night: Clear, with a low around 46. Nor...</td>\n",
       "    </tr>\n",
       "    <tr>\n",
       "      <th>3</th>\n",
       "      <td>3</td>\n",
       "      <td>Saturday</td>\n",
       "      <td>Sunny</td>\n",
       "      <td>High: 63 °F</td>\n",
       "      <td>Saturday: Sunny, with a high near 63. Northeas...</td>\n",
       "    </tr>\n",
       "    <tr>\n",
       "      <th>4</th>\n",
       "      <td>4</td>\n",
       "      <td>SaturdayNight</td>\n",
       "      <td>Partly Cloudy</td>\n",
       "      <td>Low: 45 °F</td>\n",
       "      <td>Saturday Night: Partly cloudy, with a low arou...</td>\n",
       "    </tr>\n",
       "    <tr>\n",
       "      <th>5</th>\n",
       "      <td>5</td>\n",
       "      <td>Sunday</td>\n",
       "      <td>Sunny</td>\n",
       "      <td>High: 65 °F</td>\n",
       "      <td>Sunday: Sunny, with a high near 65.</td>\n",
       "    </tr>\n",
       "    <tr>\n",
       "      <th>6</th>\n",
       "      <td>6</td>\n",
       "      <td>SundayNight</td>\n",
       "      <td>Mostly Clear</td>\n",
       "      <td>Low: 45 °F</td>\n",
       "      <td>Sunday Night: Mostly clear, with a low around 45.</td>\n",
       "    </tr>\n",
       "    <tr>\n",
       "      <th>7</th>\n",
       "      <td>7</td>\n",
       "      <td>Monday</td>\n",
       "      <td>Sunny</td>\n",
       "      <td>High: 64 °F</td>\n",
       "      <td>Monday: Sunny, with a high near 64.</td>\n",
       "    </tr>\n",
       "    <tr>\n",
       "      <th>8</th>\n",
       "      <td>8</td>\n",
       "      <td>MondayNight</td>\n",
       "      <td>Mostly Clear</td>\n",
       "      <td>Low: 45 °F</td>\n",
       "      <td>Monday Night: Mostly clear, with a low around 45.</td>\n",
       "    </tr>\n",
       "  </tbody>\n",
       "</table>\n",
       "</div>"
      ],
      "text/plain": [
       "   Unnamed: 0         period     short_desc         temp  \\\n",
       "0           0      Overnight          Clear   Low: 49 °F   \n",
       "1           1         Friday          Sunny  High: 63 °F   \n",
       "2           2    FridayNight          Clear   Low: 46 °F   \n",
       "3           3       Saturday          Sunny  High: 63 °F   \n",
       "4           4  SaturdayNight  Partly Cloudy   Low: 45 °F   \n",
       "5           5         Sunday          Sunny  High: 65 °F   \n",
       "6           6    SundayNight   Mostly Clear   Low: 45 °F   \n",
       "7           7         Monday          Sunny  High: 64 °F   \n",
       "8           8    MondayNight   Mostly Clear   Low: 45 °F   \n",
       "\n",
       "                                               title  \n",
       "0  Overnight: Clear, with a low around 49. North ...  \n",
       "1  Friday: Sunny, with a high near 63. North nort...  \n",
       "2  Friday Night: Clear, with a low around 46. Nor...  \n",
       "3  Saturday: Sunny, with a high near 63. Northeas...  \n",
       "4  Saturday Night: Partly cloudy, with a low arou...  \n",
       "5                Sunday: Sunny, with a high near 65.  \n",
       "6  Sunday Night: Mostly clear, with a low around 45.  \n",
       "7                Monday: Sunny, with a high near 64.  \n",
       "8  Monday Night: Mostly clear, with a low around 45.  "
      ]
     },
     "execution_count": 17,
     "metadata": {},
     "output_type": "execute_result"
    }
   ],
   "source": [
    "climate = weather.to_csv(\"Global Warming.csv\")\n",
    "reading_climate = pd.read_csv(\"Global Warming.csv\")\n",
    "reading_climate"
   ]
  }
 ],
 "metadata": {
  "colab": {
   "provenance": []
  },
  "kernelspec": {
   "display_name": "Python 3 (ipykernel)",
   "language": "python",
   "name": "python3"
  },
  "language_info": {
   "codemirror_mode": {
    "name": "ipython",
    "version": 3
   },
   "file_extension": ".py",
   "mimetype": "text/x-python",
   "name": "python",
   "nbconvert_exporter": "python",
   "pygments_lexer": "ipython3",
   "version": "3.11.4"
  }
 },
 "nbformat": 4,
 "nbformat_minor": 1
}
