{
 "cells": [
  {
   "cell_type": "code",
   "execution_count": null,
   "id": "8a54a204",
   "metadata": {},
   "outputs": [],
   "source": [
    "a = int(input(\"a = \"))\n",
    "b = int(input(\"b = \"))\n",
    "if a>b:\n",
    "    print(f\"{a} is greater than {b}\")\n",
    "else:\n",
    "    print(f\"{b} is greater than {a}\")    "
   ]
  },
  {
   "cell_type": "code",
   "execution_count": null,
   "id": "7ae2e24c",
   "metadata": {},
   "outputs": [],
   "source": [
    "a = 8\n",
    "b = 10\n",
    "c = a + b\n",
    "print(f\"{c} is an integer\")"
   ]
  },
  {
   "cell_type": "code",
   "execution_count": null,
   "id": "513e97b3",
   "metadata": {},
   "outputs": [],
   "source": [
    "a = 6\n",
    "if a%2==0:\n",
    "    print(f\"{a} is even number\")\n",
    "else:\n",
    "    print(f\"{a} is odd number\")"
   ]
  },
  {
   "cell_type": "code",
   "execution_count": null,
   "id": "9bffbd70",
   "metadata": {},
   "outputs": [],
   "source": [
    "num1 = 1\n",
    "num2 = 2\n",
    "num3 = 3\n",
    "if (num1 > num2) and (num1 > num3):\n",
    "    print(num1,\"is Greatest of all\")\n",
    "if (num2 > num1) and (num2 > num3):\n",
    "    print(num2,\"is Greatest of all\")\n",
    "else:\n",
    "    print(num3,\"is Greatest of all\")"
   ]
  },
  {
   "cell_type": "code",
   "execution_count": null,
   "id": "cb0dbaff",
   "metadata": {},
   "outputs": [],
   "source": [
    "#DATA TYPES = LIST\n",
    "list_1 = [\"apple\",\"Guava\",\"Panner\"]\n",
    "#            0       1       2\n",
    "list_item_1 = list_1[1]\n",
    "print(list_item_1)"
   ]
  },
  {
   "cell_type": "code",
   "execution_count": null,
   "id": "48772db6",
   "metadata": {},
   "outputs": [],
   "source": [
    "#DATA TYPES = TUPLE\n",
    "tuple_1 = (\"apple\",\"guava\",\"panner\")\n",
    "#            0        1       2 \n",
    "len_tuple = len(tuple_1)\n",
    "tuple_item_1= tuple_1[1]\n",
    "print(tuple_item_1)\n",
    "print(\"The lenght of tuple is: \",len_tuple)"
   ]
  },
  {
   "cell_type": "code",
   "execution_count": null,
   "id": "edd249a4",
   "metadata": {},
   "outputs": [],
   "source": [
    "#DATA TYPES = DICTIONARY\n",
    "dict_stud  = {\"Roll no\":[1,2],\"Name\":[\"Ram\",\"Shyam\"],\"Marks\":[71,68]} \n",
    "dict_stud.keys()"
   ]
  },
  {
   "cell_type": "code",
   "execution_count": null,
   "id": "b6a41b3b",
   "metadata": {},
   "outputs": [],
   "source": [
    "#DATA TYPES = DICTIONARY\n",
    "dict_stud  = {\"Roll no\":[1,2],\"Name\":[\"Ram\",\"Shyam\"],\"Marks\":[71,68]} \n",
    "dict_stud.values()"
   ]
  },
  {
   "cell_type": "code",
   "execution_count": null,
   "id": "e82cd055",
   "metadata": {},
   "outputs": [],
   "source": [
    "#DATA TYPES = SET\n",
    "set1 = set([12,43,56,78,32])\n",
    "print(type(set1))\n",
    "set1"
   ]
  },
  {
   "cell_type": "code",
   "execution_count": null,
   "id": "cab1d6ec",
   "metadata": {},
   "outputs": [],
   "source": [
    "Name1 = \"Ram\"\n",
    "Name2 = \"Shyam\"\n",
    "Concatenate1 = Name1 + Name2\n",
    "print(Concatenate1)"
   ]
  },
  {
   "cell_type": "code",
   "execution_count": null,
   "id": "2853ebcd",
   "metadata": {},
   "outputs": [],
   "source": [
    "num = int(input(\"Enter the number: \"))\n",
    "Quotient = num//10\n",
    "Remainder = num%10\n",
    "print(f\"The first number of {num} is {Quotient}\")\n",
    "print(f\"The second number of {num} is {Remainder}\")"
   ]
  },
  {
   "cell_type": "code",
   "execution_count": null,
   "id": "d4a16d3b",
   "metadata": {},
   "outputs": [],
   "source": [
    "num = int(input(\"Enter the number: \")) #237\n",
    "Q1 = num//10 #23\n",
    "R1 = num%10 #7 Third number\n",
    "\n",
    "Q2 = Q1//10 #2 first number\n",
    "R2 = Q1%10 #3 second number\n",
    "print(f\"The first number is {Q2}, Second number is {R2} and Third number is {R1}\")"
   ]
  },
  {
   "cell_type": "code",
   "execution_count": null,
   "id": "3935a494",
   "metadata": {},
   "outputs": [],
   "source": [
    "n = int(input(\"Enter the number you want to print from 1: \"))\n",
    "i = 1\n",
    "while i<=n:\n",
    "    print(i)\n",
    "    i = i + 1"
   ]
  },
  {
   "cell_type": "code",
   "execution_count": null,
   "id": "5f0d5532",
   "metadata": {},
   "outputs": [],
   "source": [
    "n = int(input(\"Enter the number you want to print from 1: \"))\n",
    "for i in range(1,n+1):\n",
    "    print(i)"
   ]
  },
  {
   "cell_type": "code",
   "execution_count": null,
   "id": "f7d75367",
   "metadata": {},
   "outputs": [],
   "source": [
    "n = int(input(\"Enter the number you want to print from 1: \"))\n",
    "for i in range(2,n+1,2):\n",
    "    print(i)"
   ]
  },
  {
   "cell_type": "code",
   "execution_count": null,
   "id": "a3a153c1",
   "metadata": {},
   "outputs": [],
   "source": [
    "53%2==1"
   ]
  },
  {
   "cell_type": "code",
   "execution_count": null,
   "id": "8d7c2a2d",
   "metadata": {},
   "outputs": [],
   "source": [
    "if 50%2==0:\n",
    "    print(\"50 is even\")"
   ]
  },
  {
   "cell_type": "code",
   "execution_count": null,
   "id": "a69cc493",
   "metadata": {},
   "outputs": [],
   "source": [
    "if 50%2!=1:\n",
    "    print(\"50 is even\")"
   ]
  },
  {
   "cell_type": "code",
   "execution_count": null,
   "id": "67a51a72",
   "metadata": {},
   "outputs": [],
   "source": [
    "50%2!=0"
   ]
  },
  {
   "cell_type": "code",
   "execution_count": null,
   "id": "495b25bd",
   "metadata": {},
   "outputs": [],
   "source": [
    "n = 50\n",
    "if n%2!=1:\n",
    "    print(f\"{n} is even\")\n",
    "else:\n",
    "    print(f\"{n} is odd\")"
   ]
  },
  {
   "cell_type": "code",
   "execution_count": null,
   "id": "d2c121a2",
   "metadata": {},
   "outputs": [],
   "source": [
    "n = int(input(\"Enter the number: \"))\n",
    "for i in range(3,n+1,3):\n",
    "    if i%2!=1:\n",
    "        print(f\"{i} is even\")\n",
    "    else:\n",
    "        print(f\"{i} is odd\")"
   ]
  },
  {
   "cell_type": "code",
   "execution_count": null,
   "id": "e64e0dac",
   "metadata": {},
   "outputs": [],
   "source": [
    "n = int(input(\"Enter the number you want to print odd number from 1: \"))\n",
    "for i in range(1,n+1):\n",
    "    if i%2==1:\n",
    "        if i%5==0:\n",
    "            print(f\"{i} is the odd number and the multiple of 5 as well.\")\n",
    "        else:\n",
    "            print(f\"{i} is the odd number\")"
   ]
  },
  {
   "cell_type": "code",
   "execution_count": null,
   "id": "d267230e",
   "metadata": {},
   "outputs": [],
   "source": [
    "n = int(input(\"Enter the number: \"))\n",
    "i = 1\n",
    "while i<=n:\n",
    "        if i%2==1:\n",
    "            if i%5==0:\n",
    "                print(f\"{i} is the odd number and the multiple of 5 as well.\")\n",
    "            else:\n",
    "                print(f\"{i} is the odd number\") \n",
    "        elif i%2==0:\n",
    "            if i%5==0:\n",
    "                print(f\"{i} is the even number and the multiple of 5 as well.\")\n",
    "            else:\n",
    "                print(f\"{i} is the even number\")\n",
    "        i = i +1       "
   ]
  },
  {
   "cell_type": "code",
   "execution_count": null,
   "id": "d8eaff27",
   "metadata": {},
   "outputs": [],
   "source": [
    "x = 24\n",
    "y = 28\n",
    "print(f\"Old value of x is {x} and Old value of y is {y}\")\n",
    "#Interchanging the value of x and y using third variable z\n",
    "z = x\n",
    "x = y\n",
    "y = z\n",
    "print(f\"New value of x is {x} and New value of y is {y}\")"
   ]
  },
  {
   "cell_type": "code",
   "execution_count": null,
   "id": "536288c0",
   "metadata": {},
   "outputs": [],
   "source": [
    "x = 24\n",
    "y = 28\n",
    "print(x,y)\n",
    "x,y = y,x\n",
    "print(x,y)"
   ]
  },
  {
   "cell_type": "code",
   "execution_count": null,
   "id": "4d35e459",
   "metadata": {},
   "outputs": [],
   "source": [
    "print(\"Hello\", end=\" \")\n",
    "print(\"How are you\")"
   ]
  },
  {
   "cell_type": "code",
   "execution_count": null,
   "id": "85fb83f3",
   "metadata": {},
   "outputs": [],
   "source": [
    "print(\"Hello \\n\\n\")\n",
    "print(\"How are you\")"
   ]
  },
  {
   "cell_type": "markdown",
   "id": "0843ae1e",
   "metadata": {},
   "source": [
    "# String Slicing"
   ]
  },
  {
   "cell_type": "code",
   "execution_count": null,
   "id": "6c94c256",
   "metadata": {},
   "outputs": [],
   "source": [
    "s = \"Hello, World!\"\n",
    "print(type(s))\n",
    "print(-len(s))\n",
    "print(s[-len(s)])\n",
    "print(s[-len(s)+1])\n",
    "print(s[-len(s)+2])\n",
    "print(s[-len(s)+3])\n",
    "print(s[-len(s)+4])\n",
    "print(s[-len(s)+5])\n",
    "print(s[-len(s)+6])\n",
    "print(s[-len(s)+7])\n",
    "print(s[-len(s)+8])\n",
    "print(s[-len(s)+9])\n",
    "print(s[-len(s)+10])\n",
    "print(s[-len(s)+11])\n",
    "print(s[-len(s)+12])"
   ]
  },
  {
   "cell_type": "code",
   "execution_count": null,
   "id": "5fc429eb",
   "metadata": {},
   "outputs": [],
   "source": [
    "s = \"itvedant education\"\n",
    "\n",
    "s[0]= \"d\"  #This line will tell you string is immutable. \n",
    "print(s)\n",
    "print(s[::])\n",
    "print(s[0:len(s):1])\n",
    "print(s[2:8:])\n",
    "print(s[1::2])\n",
    "print(s[1:50:1])"
   ]
  }
 ],
 "metadata": {
  "kernelspec": {
   "display_name": "Python 3 (ipykernel)",
   "language": "python",
   "name": "python3"
  },
  "language_info": {
   "codemirror_mode": {
    "name": "ipython",
    "version": 3
   },
   "file_extension": ".py",
   "mimetype": "text/x-python",
   "name": "python",
   "nbconvert_exporter": "python",
   "pygments_lexer": "ipython3",
   "version": "3.11.4"
  }
 },
 "nbformat": 4,
 "nbformat_minor": 5
}
