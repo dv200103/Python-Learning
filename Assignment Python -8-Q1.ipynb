{
 "cells": [
  {
   "cell_type": "markdown",
   "id": "a572a837",
   "metadata": {},
   "source": [
    "# Write a program to create a recursive function to calculate the sum of numbers between given two numbers."
   ]
  },
  {
   "cell_type": "code",
   "execution_count": null,
   "id": "241ced73",
   "metadata": {},
   "outputs": [],
   "source": [
    "def recur_func(a,b):\n",
    "    if a>b:\n",
    "        return 0\n",
    "    else:\n",
    "        c=a+recur_func(a+1,b)\n",
    "        return c\n",
    "    \n",
    "Start_Num = int(input(\"Enter first number: \"))\n",
    "End_Num = int(input(\"Enter second number: \"))\n",
    "Sum = recur_func(Start_Num,End_Num) # Sum of the series between Start_Num and End_Num.\n",
    "print(f\"The sum of the numbers from {Sum}.\")"
   ]
  }
 ],
 "metadata": {
  "kernelspec": {
   "display_name": "Python 3 (ipykernel)",
   "language": "python",
   "name": "python3"
  },
  "language_info": {
   "codemirror_mode": {
    "name": "ipython",
    "version": 3
   },
   "file_extension": ".py",
   "mimetype": "text/x-python",
   "name": "python",
   "nbconvert_exporter": "python",
   "pygments_lexer": "ipython3",
   "version": "3.11.4"
  }
 },
 "nbformat": 4,
 "nbformat_minor": 5
}
