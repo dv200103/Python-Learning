{
 "cells": [
  {
   "cell_type": "markdown",
   "id": "a64e6181",
   "metadata": {},
   "source": [
    "# Write a program to check if the given file is empty or not."
   ]
  },
  {
   "cell_type": "code",
   "execution_count": null,
   "id": "7784a90e",
   "metadata": {},
   "outputs": [],
   "source": [
    "def file_empty(URL):\n",
    "    file = open(URL)\n",
    "    content = file.read()\n",
    "    if not content:\n",
    "        print(f\"The given file is empty\")\n",
    "    else:\n",
    "        print(f\"The given file is not empty\")\n",
    "    \n",
    "file_path = input(\"Enter your file path here: \")\n",
    "file_empty(file_path)"
   ]
  }
 ],
 "metadata": {
  "kernelspec": {
   "display_name": "Python 3 (ipykernel)",
   "language": "python",
   "name": "python3"
  },
  "language_info": {
   "codemirror_mode": {
    "name": "ipython",
    "version": 3
   },
   "file_extension": ".py",
   "mimetype": "text/x-python",
   "name": "python",
   "nbconvert_exporter": "python",
   "pygments_lexer": "ipython3",
   "version": "3.11.4"
  }
 },
 "nbformat": 4,
 "nbformat_minor": 5
}
