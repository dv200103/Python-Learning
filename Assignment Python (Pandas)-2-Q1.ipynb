{
 "cells": [
  {
   "cell_type": "code",
   "execution_count": null,
   "id": "53f5fc74",
   "metadata": {},
   "outputs": [],
   "source": [
    "\n",
    " '''\n",
    " Given is a dataframe showing Company Names (cname) and corresponding Profits (profit).\n",
    " WAP to convert the values of Profit column such that values in it greater than 0 are set to True and the rest are set to False.\n",
    "\n",
    "                               cname                                     profit\n",
    "\n",
    "0                           Shyam & Co.                                 -10000\n",
    "\n",
    "1                           Ramlal & Bros.                               10000\n",
    "\n",
    "2                          Sharma Enterprises                            -5000\n",
    "\n",
    "3                          Verma Furnitures                              15000\n",
    "\n",
    "4                          Rahul Stores                                  20000  \n",
    "\n",
    "'''"
   ]
  },
  {
   "cell_type": "code",
   "execution_count": 2,
   "id": "69c55a23",
   "metadata": {},
   "outputs": [
    {
     "data": {
      "text/plain": [
       "0    False\n",
       "1     True\n",
       "2    False\n",
       "3     True\n",
       "4     True\n",
       "Name: profit, dtype: bool"
      ]
     },
     "execution_count": 2,
     "metadata": {},
     "output_type": "execute_result"
    }
   ],
   "source": [
    "import pandas as pd\n",
    "Emp_detail = {\"cname\":[\"Shyam & Co\",\"Ramlal & Bros\",\"Sharma Enterprises\",\"Verma Furnitures\",\"Rahul Stores\"],\"profit\":[-10000,10000,-5000,15000,20000]}\n",
    "Detail = pd.DataFrame(Emp_detail)\n",
    "Detail[\"profit\"]>0"
   ]
  },
  {
   "cell_type": "code",
   "execution_count": null,
   "id": "87fcc5aa",
   "metadata": {},
   "outputs": [],
   "source": []
  }
 ],
 "metadata": {
  "kernelspec": {
   "display_name": "Python 3 (ipykernel)",
   "language": "python",
   "name": "python3"
  },
  "language_info": {
   "codemirror_mode": {
    "name": "ipython",
    "version": 3
   },
   "file_extension": ".py",
   "mimetype": "text/x-python",
   "name": "python",
   "nbconvert_exporter": "python",
   "pygments_lexer": "ipython3",
   "version": "3.11.4"
  }
 },
 "nbformat": 4,
 "nbformat_minor": 5
}
