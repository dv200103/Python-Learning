{
 "cells": [
  {
   "cell_type": "markdown",
   "id": "aa498359",
   "metadata": {},
   "source": [
    "\n",
    "# Write a program to find all occurrences of “USA” in a given string ignoring the case. \n",
    "\n",
    "# Given: str1 = \"Welcome to USA. usa is awesome, isn't it\""
   ]
  },
  {
   "cell_type": "code",
   "execution_count": null,
   "id": "dee7413a",
   "metadata": {},
   "outputs": [],
   "source": [
    "import re\n",
    "\n",
    "str1 = \"Welcome to USA.usa is awesome, isn't it\"\n",
    "count = len(re.findall(\"USA\", str1, flags=re.IGNORECASE))\n",
    "print(f\"The occurence of USA or usa in str1 is : {count}\")"
   ]
  }
 ],
 "metadata": {
  "kernelspec": {
   "display_name": "Python 3 (ipykernel)",
   "language": "python",
   "name": "python3"
  },
  "language_info": {
   "codemirror_mode": {
    "name": "ipython",
    "version": 3
   },
   "file_extension": ".py",
   "mimetype": "text/x-python",
   "name": "python",
   "nbconvert_exporter": "python",
   "pygments_lexer": "ipython3",
   "version": "3.11.4"
  }
 },
 "nbformat": 4,
 "nbformat_minor": 5
}
