{
 "cells": [
  {
   "cell_type": "markdown",
   "id": "00c60f62",
   "metadata": {},
   "source": [
    "#  BREAK"
   ]
  },
  {
   "cell_type": "markdown",
   "id": "dc6db238",
   "metadata": {},
   "source": [
    "# W.A.P to print numbers 1 to 4 between 1 to 8."
   ]
  },
  {
   "cell_type": "code",
   "execution_count": null,
   "id": "0e47dbdf",
   "metadata": {},
   "outputs": [],
   "source": [
    "for i in range(1,8):\n",
    "    if i==5:\n",
    "        break\n",
    "    print(i)"
   ]
  },
  {
   "cell_type": "code",
   "execution_count": null,
   "id": "87e72f52",
   "metadata": {},
   "outputs": [],
   "source": [
    "# Break is used to come ot of the loop or we can say that it is used to kill the loop.(Used for loops only)\n",
    "i=1\n",
    "n=5\n",
    "while i<=n:\n",
    "    if i%3==0:\n",
    "        break\n",
    "    print(i)\n",
    "    i = i + 1\n",
    "print(\"Out of the loop\")"
   ]
  },
  {
   "cell_type": "markdown",
   "id": "1e4e94d7",
   "metadata": {},
   "source": [
    "#  PASS"
   ]
  },
  {
   "cell_type": "code",
   "execution_count": null,
   "id": "f008c85b",
   "metadata": {},
   "outputs": [],
   "source": [
    "for i in range(1,8):\n",
    "    if i==5:\n",
    "        pass # do nothing/ No action required\\n\",\n",
    "    print(i)"
   ]
  },
  {
   "cell_type": "code",
   "execution_count": null,
   "id": "612b1643",
   "metadata": {},
   "outputs": [],
   "source": [
    "# Pass do nothing just move forward and perform statement after it if any statement is present after pass.(Used for loops only)\n",
    "# It is used when we have to specify the condition but we don't want to mention the content, this we do for the understanding and readibility purpose.\n",
    "i=1\n",
    "n=5\n",
    "while i<=n:\n",
    "    if i%3==0:\n",
    "        pass\n",
    "    print(i)\n",
    "    i = i + 1\n",
    "print(\"Out of the loop\")"
   ]
  },
  {
   "cell_type": "markdown",
   "id": "9182d5ab",
   "metadata": {},
   "source": [
    "#  CONTINUE"
   ]
  },
  {
   "cell_type": "markdown",
   "id": "bf82ed02",
   "metadata": {},
   "source": [
    "# W.A.P to print 1 to 8 numbers without 5."
   ]
  },
  {
   "cell_type": "code",
   "execution_count": null,
   "id": "788b2599",
   "metadata": {},
   "outputs": [],
   "source": [
    "for i in range(1,8):\n",
    "    if i==5:\n",
    "        continue\n",
    "    print(i)"
   ]
  },
  {
   "cell_type": "code",
   "execution_count": null,
   "id": "4d95dc74",
   "metadata": {},
   "outputs": [],
   "source": [
    "# Continue is used to Skip the the code which present after it and go into the loop again and again.\n",
    "i=1\n",
    "n=5\n",
    "while i<=n:\n",
    "    if i%3==0:\n",
    "        continue\n",
    "    print(i)\n",
    "    i = i + 1\n",
    "print(\"Out of the loop\")"
   ]
  },
  {
   "cell_type": "markdown",
   "id": "e170906c",
   "metadata": {},
   "source": [
    "# BREAK and CONTINUE together"
   ]
  },
  {
   "cell_type": "code",
   "execution_count": null,
   "id": "da562158",
   "metadata": {},
   "outputs": [],
   "source": [
    "i=1\n",
    "n=5\n",
    "while i<=n:\n",
    "    if i%3==0:\n",
    "        print(i)\n",
    "        break\n",
    "        continue\n",
    "    print(i)\n",
    "    i = i + 1\n",
    "print(\"Out of the loop\")\n",
    "    "
   ]
  },
  {
   "cell_type": "markdown",
   "id": "9f9fd184",
   "metadata": {},
   "source": [
    "#  FOR PASS APPROACH "
   ]
  },
  {
   "cell_type": "markdown",
   "id": "1c5c408b",
   "metadata": {},
   "source": [
    "# W.A.P to print number from 1 to 10 but if the number is multiple of 3 then skip that number."
   ]
  },
  {
   "cell_type": "code",
   "execution_count": null,
   "id": "dbb1dbf0",
   "metadata": {},
   "outputs": [],
   "source": [
    "# W.A.P to print number from 1 to 10 but if the number is multiple of 3 then skip that number.\n",
    "n=10\n",
    "for i in range(1,n+1):\n",
    "    if i%3==0:\n",
    "        pass\n",
    "    else:\n",
    "        print(i)"
   ]
  },
  {
   "cell_type": "markdown",
   "id": "b667a7c4",
   "metadata": {},
   "source": [
    "# WHILE PASS APPROACH"
   ]
  },
  {
   "cell_type": "code",
   "execution_count": null,
   "id": "d0c14f63",
   "metadata": {},
   "outputs": [],
   "source": [
    "i =1\n",
    "n =10\n",
    "while i<=n:\n",
    "    if i%3==0:\n",
    "        pass\n",
    "    elif i%3!=0:\n",
    "        print(i)\n",
    "    i = i + 1"
   ]
  },
  {
   "cell_type": "markdown",
   "id": "5eccc00a",
   "metadata": {},
   "source": [
    "# FOR CONTINUE APPROACH"
   ]
  },
  {
   "cell_type": "code",
   "execution_count": null,
   "id": "17014e6b",
   "metadata": {},
   "outputs": [],
   "source": [
    "n=10\n",
    "for i in range(1,n+1):\n",
    "    if i%3==0:\n",
    "        continue\n",
    "    else:\n",
    "        print(i)"
   ]
  },
  {
   "cell_type": "markdown",
   "id": "23ea0c68",
   "metadata": {},
   "source": [
    "# FOR CONTINUE WITHOUT ELSE APPROACH"
   ]
  },
  {
   "cell_type": "code",
   "execution_count": null,
   "id": "373e1649",
   "metadata": {},
   "outputs": [],
   "source": [
    "n=10\n",
    "for i in range(1,n+1):\n",
    "    if i%3==0:\n",
    "        continue\n",
    "    print(i)"
   ]
  },
  {
   "cell_type": "markdown",
   "id": "92274968",
   "metadata": {},
   "source": [
    "# W.A.P to print odd numbers and multiples of 7"
   ]
  },
  {
   "cell_type": "code",
   "execution_count": null,
   "id": "af487e44",
   "metadata": {},
   "outputs": [],
   "source": [
    "n=50\n",
    "for i in range(1,n):\n",
    "    \n",
    "    if i%2==0 and i%7==0:\n",
    "        print(f\"{i} is not a odd number but multiple of 7\")\n",
    "        \n",
    "    elif i%2!=0 and i%7==0:\n",
    "        print(f\"{i} is a odd number but multiple of 7\")\n",
    "        \n",
    "    elif i%2!=0:\n",
    "        print(f\"{i} is odd number\") "
   ]
  },
  {
   "cell_type": "markdown",
   "id": "5cbba647",
   "metadata": {},
   "source": [
    "# List Comprehension"
   ]
  },
  {
   "cell_type": "code",
   "execution_count": null,
   "id": "b9c787d3",
   "metadata": {},
   "outputs": [],
   "source": [
    "Stationary = ['Pen','Pencil','Eraser','Ruler']\n",
    "for i in Stationary:\n",
    "    print(i)"
   ]
  },
  {
   "cell_type": "code",
   "execution_count": null,
   "id": "82c93c0b",
   "metadata": {
    "scrolled": false
   },
   "outputs": [],
   "source": [
    "new = [i for i in Stationary]\n",
    "print(new)"
   ]
  },
  {
   "cell_type": "code",
   "execution_count": null,
   "id": "adb9bebc",
   "metadata": {},
   "outputs": [],
   "source": [
    "new = [i for i in Stationary if i!=\"Eraser\"]\n",
    "print(new)"
   ]
  },
  {
   "cell_type": "code",
   "execution_count": null,
   "id": "1403dee9",
   "metadata": {},
   "outputs": [],
   "source": [
    "Stationary = ['Pen','Pencil','Eraser','Ruler']\n",
    "new = [i for i in Stationary if 'r' in i]\n",
    "print(new)"
   ]
  },
  {
   "cell_type": "code",
   "execution_count": null,
   "id": "00bba863",
   "metadata": {
    "scrolled": true
   },
   "outputs": [],
   "source": [
    "odd_list = [i for i in range(1,20) if i%2!=0 or i%7==0]\n",
    "print(odd_list)"
   ]
  },
  {
   "cell_type": "code",
   "execution_count": null,
   "id": "e98f553f",
   "metadata": {},
   "outputs": [],
   "source": [
    "even_list = [i for i in range(2,20,2)]\n",
    "print(even_list)"
   ]
  }
 ],
 "metadata": {
  "kernelspec": {
   "display_name": "Python 3 (ipykernel)",
   "language": "python",
   "name": "python3"
  },
  "language_info": {
   "codemirror_mode": {
    "name": "ipython",
    "version": 3
   },
   "file_extension": ".py",
   "mimetype": "text/x-python",
   "name": "python",
   "nbconvert_exporter": "python",
   "pygments_lexer": "ipython3",
   "version": "3.11.4"
  }
 },
 "nbformat": 4,
 "nbformat_minor": 5
}
