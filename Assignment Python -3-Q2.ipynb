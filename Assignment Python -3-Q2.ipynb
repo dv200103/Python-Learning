{
 "cells": [
  {
   "cell_type": "markdown",
   "id": "94a396a6",
   "metadata": {},
   "source": [
    "# Write a program to add two lists index-wise. \n",
    "# Create a new list that contains the 0th index item from both the list, then the 1st index item, and so on till the last element. \n",
    "# any leftover items will get added at the end of the new list.\n",
    "\n",
    "# Given:      list1 = [\"M\", \"na\", \"i\", \"Ke\"]           list2 = [\"y\", \"me\", \"s\", \"lly\"]"
   ]
  },
  {
   "cell_type": "code",
   "execution_count": null,
   "id": "d9897c3e",
   "metadata": {},
   "outputs": [],
   "source": [
    "list1 = [\"M\", \"na\", \"i\", \"Ke\"]\n",
    "list2 = [\"y\", \"me\", \"s\", \"lly\"]\n",
    "list3 = [list1[0] + list2[0]] + [list1[1] + list2[1]] + [list1[2] + list2[2]] + [list1[3] + list2[3]]\n",
    "list3"
   ]
  }
 ],
 "metadata": {
  "kernelspec": {
   "display_name": "Python 3 (ipykernel)",
   "language": "python",
   "name": "python3"
  },
  "language_info": {
   "codemirror_mode": {
    "name": "ipython",
    "version": 3
   },
   "file_extension": ".py",
   "mimetype": "text/x-python",
   "name": "python",
   "nbconvert_exporter": "python",
   "pygments_lexer": "ipython3",
   "version": "3.11.4"
  }
 },
 "nbformat": 4,
 "nbformat_minor": 5
}
