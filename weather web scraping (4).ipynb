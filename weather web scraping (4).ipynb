{
 "cells": [
  {
   "cell_type": "code",
   "execution_count": null,
   "metadata": {
    "id": "WuwNDAQLlXhz"
   },
   "outputs": [],
   "source": [
    "#pip install requests"
   ]
  },
  {
   "cell_type": "code",
   "execution_count": 1,
   "metadata": {
    "id": "Rc2aQdhClcOs"
   },
   "outputs": [
    {
     "name": "stdout",
     "output_type": "stream",
     "text": [
      "Requirement already satisfied: bs4 in c:\\users\\hp\\anaconda3\\lib\\site-packages (0.0.1)\n",
      "Requirement already satisfied: beautifulsoup4 in c:\\users\\hp\\anaconda3\\lib\\site-packages (from bs4) (4.11.1)\n",
      "Requirement already satisfied: soupsieve>1.2 in c:\\users\\hp\\anaconda3\\lib\\site-packages (from beautifulsoup4->bs4) (2.3.1)\n",
      "Note: you may need to restart the kernel to use updated packages.\n"
     ]
    },
    {
     "name": "stderr",
     "output_type": "stream",
     "text": [
      "\n",
      "[notice] A new release of pip is available: 23.0.1 -> 23.2.1\n",
      "[notice] To update, run: python.exe -m pip install --upgrade pip\n"
     ]
    }
   ],
   "source": [
    "pip install bs4"
   ]
  },
  {
   "cell_type": "code",
   "execution_count": 1,
   "metadata": {
    "id": "32T59caFoez1"
   },
   "outputs": [],
   "source": [
    "import requests\n",
    "from bs4 import BeautifulSoup"
   ]
  },
  {
   "cell_type": "code",
   "execution_count": null,
   "metadata": {
    "id": "VokN5Ij5lkwk"
   },
   "outputs": [],
   "source": []
  },
  {
   "cell_type": "code",
   "execution_count": 2,
   "metadata": {
    "colab": {
     "base_uri": "https://localhost:8080/"
    },
    "executionInfo": {
     "elapsed": 1543,
     "status": "ok",
     "timestamp": 1660116245226,
     "user": {
      "displayName": "Priyanka Awaje",
      "userId": "04948741848315503765"
     },
     "user_tz": -330
    },
    "id": "-0l64EB-oVod",
    "outputId": "cc37806b-d9c2-4595-e650-dbc40e88fac1"
   },
   "outputs": [
    {
     "name": "stdout",
     "output_type": "stream",
     "text": [
      "<div class=\"tombstone-container\">\n",
      " <p class=\"period-name\">\n",
      "  Overnight\n",
      "  <br/>\n",
      "  <br/>\n",
      " </p>\n",
      " <p>\n",
      "  <img alt=\"Overnight: Mostly cloudy, with a low around 50. North wind around 6 mph. \" class=\"forecast-icon\" src=\"newimages/medium/nbkn.png\" title=\"Overnight: Mostly cloudy, with a low around 50. North wind around 6 mph. \"/>\n",
      " </p>\n",
      " <p class=\"short-desc\">\n",
      "  Mostly Cloudy\n",
      " </p>\n",
      " <p class=\"temp temp-low\">\n",
      "  Low: 50 °F\n",
      " </p>\n",
      "</div>\n",
      "\n"
     ]
    }
   ],
   "source": [
    "page = requests.get(\"https://forecast.weather.gov/MapClick.php?lat=37.7772&lon=-122.4168\")\n",
    "soup = BeautifulSoup(page.content, 'html.parser')\n",
    "seven_day = soup.find(id=\"seven-day-forecast\")\n",
    "forecast_items = seven_day.find_all(class_=\"tombstone-container\")\n",
    "tonight = forecast_items[0]\n",
    "print(tonight.prettify())"
   ]
  },
  {
   "cell_type": "code",
   "execution_count": 3,
   "metadata": {
    "colab": {
     "base_uri": "https://localhost:8080/"
    },
    "executionInfo": {
     "elapsed": 665,
     "status": "ok",
     "timestamp": 1660116310143,
     "user": {
      "displayName": "Priyanka Awaje",
      "userId": "04948741848315503765"
     },
     "user_tz": -330
    },
    "id": "41i3y1BSo4fA",
    "outputId": "c7374b7c-7579-4f5a-ae39-ebfe8e342862"
   },
   "outputs": [
    {
     "name": "stdout",
     "output_type": "stream",
     "text": [
      "Overnight\n",
      "Mostly Cloudy\n",
      "Low: 50 °F\n"
     ]
    }
   ],
   "source": [
    "period = tonight.find(class_=\"period-name\").get_text()\n",
    "short_desc = tonight.find(class_=\"short-desc\").get_text()\n",
    "temp = tonight.find(class_=\"temp\").get_text()\n",
    "print(period)\n",
    "print(short_desc)\n",
    "print(temp)"
   ]
  },
  {
   "cell_type": "code",
   "execution_count": 4,
   "metadata": {
    "colab": {
     "base_uri": "https://localhost:8080/"
    },
    "executionInfo": {
     "elapsed": 4,
     "status": "ok",
     "timestamp": 1660116330501,
     "user": {
      "displayName": "Priyanka Awaje",
      "userId": "04948741848315503765"
     },
     "user_tz": -330
    },
    "id": "0RBZevS8oeb_",
    "outputId": "3aefd709-41e7-407d-a16b-3b4f22f5b6a2"
   },
   "outputs": [
    {
     "name": "stdout",
     "output_type": "stream",
     "text": [
      "Overnight: Mostly cloudy, with a low around 50. North wind around 6 mph. \n"
     ]
    }
   ],
   "source": [
    "img = tonight.find(\"img\")\n",
    "desc = img['title']\n",
    "print(desc)"
   ]
  },
  {
   "cell_type": "code",
   "execution_count": 5,
   "metadata": {
    "colab": {
     "base_uri": "https://localhost:8080/"
    },
    "executionInfo": {
     "elapsed": 5,
     "status": "ok",
     "timestamp": 1660116357046,
     "user": {
      "displayName": "Priyanka Awaje",
      "userId": "04948741848315503765"
     },
     "user_tz": -330
    },
    "id": "hH-TnjMmpOHF",
    "outputId": "7c07a060-4ca5-464d-b74a-88591a154625"
   },
   "outputs": [
    {
     "data": {
      "text/plain": [
       "['Overnight',\n",
       " 'Wednesday',\n",
       " 'WednesdayNight',\n",
       " 'ThanksgivingDay',\n",
       " 'ThursdayNight',\n",
       " 'Friday',\n",
       " 'FridayNight',\n",
       " 'Saturday',\n",
       " 'SaturdayNight']"
      ]
     },
     "execution_count": 5,
     "metadata": {},
     "output_type": "execute_result"
    }
   ],
   "source": [
    "period_tags = seven_day.select(\".tombstone-container .period-name\")\n",
    "periods = [pt.get_text() for pt in period_tags]\n",
    "periods"
   ]
  },
  {
   "cell_type": "code",
   "execution_count": 6,
   "metadata": {
    "colab": {
     "base_uri": "https://localhost:8080/"
    },
    "executionInfo": {
     "elapsed": 659,
     "status": "ok",
     "timestamp": 1660116405367,
     "user": {
      "displayName": "Priyanka Awaje",
      "userId": "04948741848315503765"
     },
     "user_tz": -330
    },
    "id": "N852k5kspUd5",
    "outputId": "199c77a8-7c5f-4243-a69a-064784533cb6"
   },
   "outputs": [
    {
     "name": "stdout",
     "output_type": "stream",
     "text": [
      "['Mostly Cloudy', 'Partly Sunny', 'DecreasingClouds', 'BecomingSunny', 'Clear', 'Sunny', 'Clear', 'Sunny', 'Mostly Clear']\n",
      "['Low: 50 °F', 'High: 68 °F', 'Low: 51 °F', 'High: 66 °F', 'Low: 49 °F', 'High: 65 °F', 'Low: 46 °F', 'High: 63 °F', 'Low: 45 °F']\n",
      "['Overnight: Mostly cloudy, with a low around 50. North wind around 6 mph. ', 'Wednesday: Partly sunny, with a high near 68. North wind 5 to 7 mph. ', 'Wednesday Night: Mostly cloudy, then gradually becoming mostly clear, with a low around 51. West northwest wind 3 to 5 mph. ', 'Thanksgiving Day: Partly sunny during the morning, then sunny during the afternoon, with a high near 66. West wind 3 to 7 mph. ', 'Thursday Night: Clear, with a low around 49. North wind around 8 mph. ', 'Friday: Sunny, with a high near 65.', 'Friday Night: Clear, with a low around 46.', 'Saturday: Sunny, with a high near 63.', 'Saturday Night: Mostly clear, with a low around 45.']\n"
     ]
    }
   ],
   "source": [
    "short_descs = [sd.get_text() for sd in seven_day.select(\".tombstone-container .short-desc\")]\n",
    "temps = [t.get_text() for t in seven_day.select(\".tombstone-container .temp\")]\n",
    "descs = [d[\"title\"] for d in seven_day.select(\".tombstone-container img\")]\n",
    "print(short_descs)\n",
    "print(temps)\n",
    "print(descs)"
   ]
  },
  {
   "cell_type": "code",
   "execution_count": 7,
   "metadata": {
    "colab": {
     "base_uri": "https://localhost:8080/",
     "height": 331
    },
    "executionInfo": {
     "elapsed": 1445,
     "status": "ok",
     "timestamp": 1660116437013,
     "user": {
      "displayName": "Priyanka Awaje",
      "userId": "04948741848315503765"
     },
     "user_tz": -330
    },
    "id": "haJ_QzIupa8y",
    "outputId": "abda85e8-82c3-45c2-9bd8-403cfc4607f2"
   },
   "outputs": [
    {
     "data": {
      "text/html": [
       "<div>\n",
       "<style scoped>\n",
       "    .dataframe tbody tr th:only-of-type {\n",
       "        vertical-align: middle;\n",
       "    }\n",
       "\n",
       "    .dataframe tbody tr th {\n",
       "        vertical-align: top;\n",
       "    }\n",
       "\n",
       "    .dataframe thead th {\n",
       "        text-align: right;\n",
       "    }\n",
       "</style>\n",
       "<table border=\"1\" class=\"dataframe\">\n",
       "  <thead>\n",
       "    <tr style=\"text-align: right;\">\n",
       "      <th></th>\n",
       "      <th>period</th>\n",
       "      <th>short_desc</th>\n",
       "      <th>temp</th>\n",
       "      <th>desc</th>\n",
       "    </tr>\n",
       "  </thead>\n",
       "  <tbody>\n",
       "    <tr>\n",
       "      <th>0</th>\n",
       "      <td>Overnight</td>\n",
       "      <td>Mostly Cloudy</td>\n",
       "      <td>Low: 50 °F</td>\n",
       "      <td>Overnight: Mostly cloudy, with a low around 50...</td>\n",
       "    </tr>\n",
       "    <tr>\n",
       "      <th>1</th>\n",
       "      <td>Wednesday</td>\n",
       "      <td>Partly Sunny</td>\n",
       "      <td>High: 68 °F</td>\n",
       "      <td>Wednesday: Partly sunny, with a high near 68. ...</td>\n",
       "    </tr>\n",
       "    <tr>\n",
       "      <th>2</th>\n",
       "      <td>WednesdayNight</td>\n",
       "      <td>DecreasingClouds</td>\n",
       "      <td>Low: 51 °F</td>\n",
       "      <td>Wednesday Night: Mostly cloudy, then gradually...</td>\n",
       "    </tr>\n",
       "    <tr>\n",
       "      <th>3</th>\n",
       "      <td>ThanksgivingDay</td>\n",
       "      <td>BecomingSunny</td>\n",
       "      <td>High: 66 °F</td>\n",
       "      <td>Thanksgiving Day: Partly sunny during the morn...</td>\n",
       "    </tr>\n",
       "    <tr>\n",
       "      <th>4</th>\n",
       "      <td>ThursdayNight</td>\n",
       "      <td>Clear</td>\n",
       "      <td>Low: 49 °F</td>\n",
       "      <td>Thursday Night: Clear, with a low around 49. N...</td>\n",
       "    </tr>\n",
       "    <tr>\n",
       "      <th>5</th>\n",
       "      <td>Friday</td>\n",
       "      <td>Sunny</td>\n",
       "      <td>High: 65 °F</td>\n",
       "      <td>Friday: Sunny, with a high near 65.</td>\n",
       "    </tr>\n",
       "    <tr>\n",
       "      <th>6</th>\n",
       "      <td>FridayNight</td>\n",
       "      <td>Clear</td>\n",
       "      <td>Low: 46 °F</td>\n",
       "      <td>Friday Night: Clear, with a low around 46.</td>\n",
       "    </tr>\n",
       "    <tr>\n",
       "      <th>7</th>\n",
       "      <td>Saturday</td>\n",
       "      <td>Sunny</td>\n",
       "      <td>High: 63 °F</td>\n",
       "      <td>Saturday: Sunny, with a high near 63.</td>\n",
       "    </tr>\n",
       "    <tr>\n",
       "      <th>8</th>\n",
       "      <td>SaturdayNight</td>\n",
       "      <td>Mostly Clear</td>\n",
       "      <td>Low: 45 °F</td>\n",
       "      <td>Saturday Night: Mostly clear, with a low aroun...</td>\n",
       "    </tr>\n",
       "  </tbody>\n",
       "</table>\n",
       "</div>"
      ],
      "text/plain": [
       "            period        short_desc         temp  \\\n",
       "0        Overnight     Mostly Cloudy   Low: 50 °F   \n",
       "1        Wednesday      Partly Sunny  High: 68 °F   \n",
       "2   WednesdayNight  DecreasingClouds   Low: 51 °F   \n",
       "3  ThanksgivingDay     BecomingSunny  High: 66 °F   \n",
       "4    ThursdayNight             Clear   Low: 49 °F   \n",
       "5           Friday             Sunny  High: 65 °F   \n",
       "6      FridayNight             Clear   Low: 46 °F   \n",
       "7         Saturday             Sunny  High: 63 °F   \n",
       "8    SaturdayNight      Mostly Clear   Low: 45 °F   \n",
       "\n",
       "                                                desc  \n",
       "0  Overnight: Mostly cloudy, with a low around 50...  \n",
       "1  Wednesday: Partly sunny, with a high near 68. ...  \n",
       "2  Wednesday Night: Mostly cloudy, then gradually...  \n",
       "3  Thanksgiving Day: Partly sunny during the morn...  \n",
       "4  Thursday Night: Clear, with a low around 49. N...  \n",
       "5                Friday: Sunny, with a high near 65.  \n",
       "6         Friday Night: Clear, with a low around 46.  \n",
       "7              Saturday: Sunny, with a high near 63.  \n",
       "8  Saturday Night: Mostly clear, with a low aroun...  "
      ]
     },
     "execution_count": 7,
     "metadata": {},
     "output_type": "execute_result"
    }
   ],
   "source": [
    "import pandas as pd\n",
    "weather = pd.DataFrame({\n",
    "    \"period\": periods,\n",
    "    \"short_desc\": short_descs,\n",
    "    \"temp\": temps,\n",
    "    \"desc\":descs\n",
    "})\n",
    "weather"
   ]
  },
  {
   "cell_type": "code",
   "execution_count": 10,
   "metadata": {
    "id": "FrvHg-PWpn9W"
   },
   "outputs": [
    {
     "data": {
      "text/plain": [
       "['Overnight',\n",
       " 'Wednesday',\n",
       " 'WednesdayNight',\n",
       " 'ThanksgivingDay',\n",
       " 'ThursdayNight',\n",
       " 'Friday',\n",
       " 'FridayNight',\n",
       " 'Saturday',\n",
       " 'SaturdayNight']"
      ]
     },
     "execution_count": 10,
     "metadata": {},
     "output_type": "execute_result"
    }
   ],
   "source": [
    "list4 = []\n",
    "for i in range(len(forecast_items)):\n",
    "    day = forecast_items[i].find(class_=\"period-name\").get_text()\n",
    "    list4.append(day)\n",
    "list4"
   ]
  }
 ],
 "metadata": {
  "colab": {
   "provenance": []
  },
  "kernelspec": {
   "display_name": "Python 3 (ipykernel)",
   "language": "python",
   "name": "python3"
  },
  "language_info": {
   "codemirror_mode": {
    "name": "ipython",
    "version": 3
   },
   "file_extension": ".py",
   "mimetype": "text/x-python",
   "name": "python",
   "nbconvert_exporter": "python",
   "pygments_lexer": "ipython3",
   "version": "3.11.4"
  }
 },
 "nbformat": 4,
 "nbformat_minor": 1
}
