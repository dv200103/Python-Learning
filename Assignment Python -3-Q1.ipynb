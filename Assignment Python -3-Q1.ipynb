{
 "cells": [
  {
   "cell_type": "markdown",
   "id": "f84dfd23",
   "metadata": {},
   "source": [
    "# Given is a nested tuple. Write a program to modify the first item (44) of a list inside a following tuple to 444.\n",
    "\n",
    "# Given:      tuple1 = (11, 22, [33, 44, 55],66,77)"
   ]
  },
  {
   "cell_type": "code",
   "execution_count": null,
   "id": "4409d7f6",
   "metadata": {},
   "outputs": [],
   "source": [
    "tuple1 = (11, 22, [33, 44, 55],66,77)\n",
    "tuple1[2][1]=444\n",
    "tuple1"
   ]
  }
 ],
 "metadata": {
  "kernelspec": {
   "display_name": "Python 3 (ipykernel)",
   "language": "python",
   "name": "python3"
  },
  "language_info": {
   "codemirror_mode": {
    "name": "ipython",
    "version": 3
   },
   "file_extension": ".py",
   "mimetype": "text/x-python",
   "name": "python",
   "nbconvert_exporter": "python",
   "pygments_lexer": "ipython3",
   "version": "3.11.4"
  }
 },
 "nbformat": 4,
 "nbformat_minor": 5
}
