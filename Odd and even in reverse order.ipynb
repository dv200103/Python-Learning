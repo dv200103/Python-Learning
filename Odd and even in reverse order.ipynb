{
 "cells": [
  {
   "cell_type": "code",
   "execution_count": null,
   "id": "eab3b947",
   "metadata": {},
   "outputs": [],
   "source": [
    "n = int(input(\"Enter the number from which you want to check the odd and even numbers: \"))\n",
    "for i in range(n,0,-1):\n",
    "    if i%2==0:\n",
    "        print(f\"{i} is even number\")\n",
    "    if i%2!=0:\n",
    "        print(f\"{i} is odd number\")"
   ]
  },
  {
   "cell_type": "code",
   "execution_count": null,
   "id": "310f9edb",
   "metadata": {},
   "outputs": [],
   "source": [
    "n = int(input(\"Enter the number from which you want to check the odd and even numbers: \"))\n",
    "for i in range(n,0,-1):\n",
    "    if i%2==0:\n",
    "        print(f\"{i} is even number\")\n",
    "    else:\n",
    "        print(f\"{i} is odd number\")"
   ]
  },
  {
   "cell_type": "code",
   "execution_count": null,
   "id": "1e7be63e",
   "metadata": {},
   "outputs": [],
   "source": [
    "n = int(input(\"Enter the number: \"))\n",
    "i=1\n",
    "while i<=n:\n",
    "    if n%2==0:\n",
    "        print(f\"{n} is even number\")\n",
    "    else:\n",
    "        print(f\"{n} is odd number\")\n",
    "    n=n-1"
   ]
  }
 ],
 "metadata": {
  "kernelspec": {
   "display_name": "Python 3 (ipykernel)",
   "language": "python",
   "name": "python3"
  },
  "language_info": {
   "codemirror_mode": {
    "name": "ipython",
    "version": 3
   },
   "file_extension": ".py",
   "mimetype": "text/x-python",
   "name": "python",
   "nbconvert_exporter": "python",
   "pygments_lexer": "ipython3",
   "version": "3.11.4"
  }
 },
 "nbformat": 4,
 "nbformat_minor": 5
}
