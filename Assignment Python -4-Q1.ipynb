{
 "cells": [
  {
   "cell_type": "markdown",
   "id": "01c80f3b",
   "metadata": {},
   "source": [
    "\n",
    "\n",
    "# WAP to Ask users to enter age, gender (M or F), marital status (Y or N) and then using following rules print their place of service.\n",
    "\n",
    "# If the employee is female, then she will work only in urban areas.\n",
    "\n",
    "# If employee is a male and age is in between 20 to 40 then he may work in anywhere\n",
    "\n",
    "# If the employee is male and age is between 40 to 60 then he will work in urban areas only.\n",
    "\n",
    "# And any other input of age should print \"ERROR\".\n",
    "\n"
   ]
  },
  {
   "cell_type": "code",
   "execution_count": null,
   "id": "7037e8f2",
   "metadata": {},
   "outputs": [],
   "source": [
    "Age = int(input(\"Enter your age here in years: \"))\n",
    "Gender = input(\"Enter your gender here in Male or Female or Transgender: \")\n",
    "marital_status = input(\"Enter your marital status here in Married or Unmarried: \")\n",
    "\n",
    "if Gender == \"Female\":\n",
    "    print(\"You will work in urban areas\")\n",
    "elif Gender == \"Male\" and Age > 20 and Age < 40:\n",
    "    print(\"You will work in urban areas\")\n",
    "elif Gender == \"Male\" and Age > 40 and Age < 60:\n",
    "    print(\"You will work in urban areas\")\n",
    "else:\n",
    "    print(\"ERROR\")"
   ]
  }
 ],
 "metadata": {
  "kernelspec": {
   "display_name": "Python 3 (ipykernel)",
   "language": "python",
   "name": "python3"
  },
  "language_info": {
   "codemirror_mode": {
    "name": "ipython",
    "version": 3
   },
   "file_extension": ".py",
   "mimetype": "text/x-python",
   "name": "python",
   "nbconvert_exporter": "python",
   "pygments_lexer": "ipython3",
   "version": "3.11.4"
  }
 },
 "nbformat": 4,
 "nbformat_minor": 5
}
