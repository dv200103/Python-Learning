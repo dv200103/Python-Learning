{
 "cells": [
  {
   "cell_type": "code",
   "execution_count": 4,
   "id": "a34b95b6",
   "metadata": {},
   "outputs": [
    {
     "name": "stdout",
     "output_type": "stream",
     "text": [
      "['ABCPT1921D']\n"
     ]
    }
   ],
   "source": [
    "import re\n",
    "pan = (\"AXPQ1811D ABCPT1921D APPLE12ET4 ABCDEF1234 AAX@Q1811D 1AXPQ18116\")\n",
    "x = re.findall(\"[A-Z]{5}[0-9]{4}[A-Z]\",pan)\n",
    "print(x)"
   ]
  }
 ],
 "metadata": {
  "kernelspec": {
   "display_name": "Python 3 (ipykernel)",
   "language": "python",
   "name": "python3"
  },
  "language_info": {
   "codemirror_mode": {
    "name": "ipython",
    "version": 3
   },
   "file_extension": ".py",
   "mimetype": "text/x-python",
   "name": "python",
   "nbconvert_exporter": "python",
   "pygments_lexer": "ipython3",
   "version": "3.11.4"
  }
 },
 "nbformat": 4,
 "nbformat_minor": 5
}
