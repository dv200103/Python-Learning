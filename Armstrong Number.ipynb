{
 "cells": [
  {
   "cell_type": "code",
   "execution_count": null,
   "id": "78bc7514",
   "metadata": {},
   "outputs": [],
   "source": [
    "n = int(input(\"Enter three digit number: \"))\n",
    "str_n=str(n)\n",
    "len_num=len(str_n)\n",
    "#print(len_num)\n",
    "last_no= n % 10\n",
    "#print(last_no)\n",
    "middle_no= (n // 10) % 10\n",
    "#print(middle_no)\n",
    "first_no= (n // 10) // 10\n",
    "#print(first_no)\n",
    "final_sum=first_no**len_num+middle_no**len_num+last_no**len_num\n",
    "#print(final_sum)\n",
    "if final_sum==n:\n",
    "    print(f\"{n} is armstrong number\")\n",
    "else:\n",
    "    print(f\"{n} is not armstrong number\")"
   ]
  },
  {
   "cell_type": "code",
   "execution_count": null,
   "id": "afe6bf9c",
   "metadata": {},
   "outputs": [],
   "source": [
    "n = int(input(\"Enter a number: \"))\n",
    "str_n=str(n)\n",
    "len_num=len(str_n)\n",
    "x = n // 1000\n",
    "y = (n % 1000) // 100\n",
    "z = (n % 100) // 10\n",
    "w = n % 10\n",
    "final_sum=x**len_num + y**len_num + z**len_num + w**len_num\n",
    "if final_sum==n:\n",
    "    print(f\"{n} is armstrong number\")\n",
    "else:\n",
    "    print(f\"{n} is not armstrong number\")"
   ]
  }
 ],
 "metadata": {
  "kernelspec": {
   "display_name": "Python 3 (ipykernel)",
   "language": "python",
   "name": "python3"
  },
  "language_info": {
   "codemirror_mode": {
    "name": "ipython",
    "version": 3
   },
   "file_extension": ".py",
   "mimetype": "text/x-python",
   "name": "python",
   "nbconvert_exporter": "python",
   "pygments_lexer": "ipython3",
   "version": "3.11.4"
  }
 },
 "nbformat": 4,
 "nbformat_minor": 5
}
